{
 "cells": [
  {
   "cell_type": "code",
   "execution_count": 41,
   "metadata": {},
   "outputs": [],
   "source": [
    "from os import listdir\n",
    "from os.path import isfile, join\n",
    "import numpy as np # linear algebra\n",
    "import pandas as pd # data processing, CSV file I/O\n",
    "import matplotlib.pyplot as plt\n",
    "import matplotlib as plotter"
   ]
  },
  {
   "cell_type": "code",
   "execution_count": 2,
   "metadata": {},
   "outputs": [],
   "source": [
    "allFiles = [f for f in listdir('raw_data') if isfile(join('raw_data', f))]"
   ]
  },
  {
   "cell_type": "code",
   "execution_count": 3,
   "metadata": {},
   "outputs": [],
   "source": [
    "mask = []\n",
    "for file in allFiles:\n",
    "    if file[0] == '.':\n",
    "        mask.append(False)\n",
    "    else:\n",
    "        mask.append(True)\n",
    "\n",
    "AllFiles_2 = np.array(allFiles)\n",
    "files = AllFiles_2[mask]"
   ]
  },
  {
   "cell_type": "code",
   "execution_count": 4,
   "metadata": {},
   "outputs": [
    {
     "data": {
      "text/plain": [
       "array(['p02_n01_ready.csv', 'p02_n02_ready.csv', 'p03_n01_ready.csv',\n",
       "       'p03_n02_ready.csv', 'p04_n01_ready.csv', 'p04_n02_ready.csv',\n",
       "       'p05_n01_ready.csv', 'p05_n02_ready.csv', 'p06_n01_ready.csv',\n",
       "       'p06_n02_ready.csv', 'p07_n01_ready.csv', 'p07_n02_ready.csv',\n",
       "       'p10_n01_ready.csv', 'p10_n02_ready.csv', 'p11_n01_ready.csv',\n",
       "       'p11_n02_ready.csv', 'p12_n01_ready.csv', 'p12_n02_ready.csv',\n",
       "       'p13_n01_ready.csv', 'p14_n01_ready.csv', 'p14_n02_ready.csv',\n",
       "       'p15_n01_ready.csv', 'p15_n02_ready.csv', 'p16_n01_ready.csv',\n",
       "       'p16_n02_ready.csv', 'p17_n01_ready.csv', 'p17_n02_ready.csv'],\n",
       "      dtype='<U19')"
      ]
     },
     "execution_count": 4,
     "metadata": {},
     "output_type": "execute_result"
    }
   ],
   "source": [
    "files"
   ]
  },
  {
   "cell_type": "code",
   "execution_count": 28,
   "metadata": {},
   "outputs": [],
   "source": [
    "frames = []\n",
    "fileNames = ['P02_N1', 'P02_N2', 'P03_N1', 'P03_N2','P04_N1','P04_N2','P05_N1', 'P05_N2','P06_N1','P06_N2','P07_N1','P07_N2','P10_N1','P10_N2','P11_N1','P11_N2','P12_N1','P12_N2','P13_N1','P14_N1',\n",
    "'P14_N2','P15_N1','P15_N2','P16_N1','P16_N2','P17_N1','P17_N2']\n",
    "file_index = 0\n",
    "for file in files:\n",
    "    df = pd.read_csv('raw_data/' + file)\n",
    "\n",
    "    ##Find the index to start on\n",
    "    #Start of sleep minus 5 minutes\n",
    "    Go = True\n",
    "    index_start = 0\n",
    "    #How long until we classify as asleep\n",
    "    epochs = 20\n",
    "    while Go:\n",
    "        if df.iloc[index_start]['Actiware classification'] == 0:\n",
    "            epochs -= 1\n",
    "        else:\n",
    "            epochs = 20\n",
    "        \n",
    "        if epochs == 0:\n",
    "            Go = False\n",
    "        else:\n",
    "            index_start += 1\n",
    "\n",
    "    #Start index minus last 5 minutes of sleep\n",
    "    index_start -= 20\n",
    "\n",
    "    ##Find the index to end on\n",
    "\n",
    "    #end of sleep minus 5 minutes\n",
    "    Go = True\n",
    "    index_end = len(df) -1\n",
    "    #How long until we classify as asleep\n",
    "    epochs = 20\n",
    "    while Go:\n",
    "        if df.iloc[index_end]['Actiware classification'] == 0:\n",
    "            epochs -= 1\n",
    "        else:\n",
    "            epochs = 20\n",
    "        \n",
    "        if epochs == 0:\n",
    "            Go = False\n",
    "        else:\n",
    "            index_end -= 1\n",
    "\n",
    "    #End index plus last 5 minutes of sleep\n",
    "    index_end += 20\n",
    "\n",
    "    #Filter the array to only include wanted elements\n",
    "    index_starts_to_keep = list(range(index_start,index_end))\n",
    "    df_filtered = df.filter(items = index_starts_to_keep, axis=0)\n",
    "    df_filtered['fileName'] = fileNames[file_index]\n",
    "    file_index += 1\n",
    "\n",
    "    frames.append(df_filtered)\n",
    "            \n",
    "\n",
    "    \n"
   ]
  },
  {
   "cell_type": "code",
   "execution_count": 31,
   "metadata": {},
   "outputs": [],
   "source": [
    "final_df = pd.concat(frames)"
   ]
  },
  {
   "cell_type": "code",
   "execution_count": 30,
   "metadata": {},
   "outputs": [],
   "source": [
    "final_df.to_csv('derived_data/combined_dataset_2.csv')"
   ]
  },
  {
   "cell_type": "code",
   "execution_count": 186,
   "metadata": {},
   "outputs": [
    {
     "data": {
      "image/png": "[encoded data removed]",
      "text/plain": [
       "<Figure size 432x288 with 1 Axes>"
      ]
     },
     "metadata": {
      "needs_background": "light"
     },
     "output_type": "display_data"
    }
   ],
   "source": [
    "fig = plt.figure()\n",
    "ax1 = fig.add_subplot(111)\n",
    "\n",
    "ax1.scatter(frames[0]['Apple Watch ENMO'], frames[0]['Actiwatch activity counts'], s=10, color=\"r\", marker=\"s\", label='P02_N1')\n",
    "ax1.scatter(frames[1]['Apple Watch ENMO'], frames[1]['Actiwatch activity counts'], s=10, color=\"r\", marker=\"o\", label='P02_N2')\n",
    "ax1.scatter(frames[2]['Apple Watch ENMO'], frames[2]['Actiwatch activity counts'], s=10, color=\"r\", marker=\"o\", label='P03_N1')\n",
    "ax1.scatter(frames[3]['Apple Watch ENMO'], frames[3]['Actiwatch activity counts'], s=10, color=\"r\", marker=\"o\", label='P03_N2')\n",
    "ax1.scatter(frames[4]['Apple Watch ENMO'], frames[4]['Actiwatch activity counts'], s=10, color=\"r\", marker=\"o\", label='P04_N1')\n",
    "ax1.scatter(frames[5]['Apple Watch ENMO'], frames[5]['Actiwatch activity counts'], s=10, color=\"r\", marker=\"o\", label='P04_N2')\n",
    "ax1.scatter(frames[6]['Apple Watch ENMO'], frames[6]['Actiwatch activity counts'], s=10, color=\"r\", marker=\"o\", label='P05_N1')\n",
    "ax1.scatter(frames[7]['Apple Watch ENMO'], frames[7]['Actiwatch activity counts'], s=10, color=\"r\", marker=\"o\", label='P05_N2')\n",
    "ax1.scatter(frames[8]['Apple Watch ENMO'], frames[8]['Actiwatch activity counts'], s=10, color=\"r\", marker=\"o\", label='P06_N1')\n",
    "ax1.scatter(frames[9]['Apple Watch ENMO'], frames[9]['Actiwatch activity counts'], s=10, color=\"r\", marker=\"o\", label='P06_N2')\n",
    "ax1.scatter(frames[10]['Apple Watch ENMO'], frames[10]['Actiwatch activity counts'], s=10, color=\"r\", marker=\"o\", label='P07_N1')\n",
    "ax1.scatter(frames[11]['Apple Watch ENMO'], frames[11]['Actiwatch activity counts'], s=10, color=\"r\", marker=\"o\", label='P07_N2')\n",
    "ax1.scatter(frames[12]['Apple Watch ENMO'], frames[12]['Actiwatch activity counts'], s=10, color=\"b\", marker=\"o\", label='P10_N1')#whack\n",
    "ax1.scatter(frames[13]['Apple Watch ENMO'], frames[13]['Actiwatch activity counts'], s=10, color=\"b\", marker=\"o\", label='P10_N2')#whack\n",
    "ax1.scatter(frames[14]['Apple Watch ENMO'], frames[14]['Actiwatch activity counts'], s=10, color=\"r\" , marker=\"o\", label='P11_N1')\n",
    "ax1.scatter(frames[15]['Apple Watch ENMO'], frames[15]['Actiwatch activity counts'], s=10, color=\"r\", marker=\"o\", label='P11_N2')\n",
    "ax1.scatter(frames[16]['Apple Watch ENMO'], frames[16]['Actiwatch activity counts'], s=10, color=\"r\", marker=\"o\", label='P12_N1')\n",
    "ax1.scatter(frames[17]['Apple Watch ENMO'], frames[17]['Actiwatch activity counts'], s=10, color=\"r\", marker=\"o\", label='P12_N2')\n",
    "ax1.scatter(frames[18]['Apple Watch ENMO'], frames[18]['Actiwatch activity counts'], s=10, color=\"r\", marker=\"o\", label='P13_N1')\n",
    "ax1.scatter(frames[19]['Apple Watch ENMO'], frames[19]['Actiwatch activity counts'], s=10, color=\"r\", marker=\"o\", label='P14_N1')\n",
    "ax1.scatter(frames[20]['Apple Watch ENMO'], frames[20]['Actiwatch activity counts'], s=10, color=\"r\", marker=\"o\", label='P14_N2')\n",
    "ax1.scatter(frames[21]['Apple Watch ENMO'], frames[21]['Actiwatch activity counts'], s=10, color=\"b\",  marker=\"o\", label='P15_N1')#whack\n",
    "ax1.scatter(frames[22]['Apple Watch ENMO'], frames[22]['Actiwatch activity counts'], s=10,  color=\"r\",marker=\"o\", label='P15_N2')\n",
    "ax1.scatter(frames[23]['Apple Watch ENMO'], frames[23]['Actiwatch activity counts'], s=10,  color=\"r\",marker=\"o\", label='P16_N1')\n",
    "ax1.scatter(frames[24]['Apple Watch ENMO'], frames[24]['Actiwatch activity counts'], s=10, color=\"r\", marker=\"o\", label='P16_N2')\n",
    "ax1.scatter(frames[25]['Apple Watch ENMO'], frames[25]['Actiwatch activity counts'], s=10, color=\"r\", marker=\"o\", label='P17_N1')\n",
    "ax1.scatter(frames[26]['Apple Watch ENMO'], frames[26]['Actiwatch activity counts'], s=10,  color=\"b\",marker=\"o\", label='P17_N2')#whack\n",
    "plt.legend(bbox_to_anchor=(1.1, 1.05))\n",
    "#plt.ylim(0,400)\n",
    "#plt.xlim(0,.3)\n",
    "plt.show()\n"
   ]
  },
  {
   "cell_type": "code",
   "execution_count": 20,
   "metadata": {},
   "outputs": [
    {
     "data": {
      "text/plain": [
       "27"
      ]
     },
     "execution_count": 20,
     "metadata": {},
     "output_type": "execute_result"
    }
   ],
   "source": [
    "len(frames)"
   ]
  },
  {
   "cell_type": "code",
   "execution_count": 141,
   "metadata": {},
   "outputs": [
    {
     "name": "stdout",
     "output_type": "stream",
     "text": [
      "Range of P02_N1 Min: 0.001227292 Max: 0.17943584 Index: 1\n",
      "Range of P02_N2 Min: 0.001061583 Max: 0.241735475 Index: 2\n",
      "Range of P03_N1 Min: 0.000835602 Max: 0.7457027270000001 Index: 3\n",
      "Range of P03_N2 Min: 0.000989703 Max: 0.6416522570000001 Index: 4\n",
      "Range of P04_N1 Min: 0.0006746489999999999 Max: 0.143014203 Index: 5\n",
      "Range of P04_N2 Min: 0.000899615 Max: 0.164433802 Index: 6\n",
      "Range of P05_N1 Min: 0.000932262 Max: 0.05646109 Index: 7\n",
      "Range of P05_N2 Min: 0.000858173 Max: 0.060159927 Index: 8\n",
      "Range of P06_N1 Min: 0.000920264 Max: 0.13821735400000001 Index: 9\n",
      "Range of P06_N2 Min: 0.000505172 Max: 0.109633149 Index: 10\n",
      "Range of P07_N1 Min: 0.0011033360000000001 Max: 0.19765574100000002 Index: 11\n",
      "Range of P07_N2 Min: 0.00097339 Max: 0.17918277 Index: 12\n",
      "Range of P10_N1 Min: 0.0009808039999999998 Max: 0.20766250600000002 Index: 13\n",
      "Range of P10_N2 Min: 0.001258831 Max: 0.186831036 Index: 14\n",
      "Range of P11_N1 Min: 0.000984059 Max: 0.195136244 Index: 15\n",
      "Range of P11_N2 Min: 0.000964415 Max: 0.222593455 Index: 16\n",
      "Range of P12_N1 Min: 0.0011560000000000001 Max: 0.160656514 Index: 17\n",
      "Range of P12_N2 Min: 0.000906955 Max: 0.21041774 Index: 18\n",
      "Range of P13_N1 Min: 0.000865874 Max: 0.614981419 Index: 19\n",
      "Range of P14_N1 Min: 0.000955861 Max: 0.30401137100000003 Index: 20\n",
      "Range of P14_N2 Min: 0.000992214 Max: 0.17428896300000002 Index: 21\n",
      "Range of P15_N1 Min: 0.000788563 Max: 0.214340323 Index: 22\n",
      "Range of P15_N2 Min: 0.001135157 Max: 0.181068266 Index: 23\n",
      "Range of P16_N1 Min: 0.001097189 Max: 0.135785754 Index: 24\n",
      "Range of P16_N2 Min: 0.00101012 Max: 0.242412025 Index: 25\n",
      "Range of P17_N1 Min: 0.0015908979999999999 Max: 0.308830902 Index: 26\n",
      "Range of P17_N2 Min: 0.0012601280000000001 Max: 0.157736543 Index: 27\n"
     ]
    }
   ],
   "source": [
    "applewatch = []\n",
    "index = 1\n",
    "for frame in frames:\n",
    "    df1 = frame[frame['Actiwatch activity counts'] == 0 ]\n",
    "    applewatch.append(df1['Apple Watch ENMO'])\n",
    "    print(\"Range of \" + str(frame['fileName'].iloc[0]) + \" Min: \"+str(frame['Apple Watch ENMO'].min()) + \" Max: \"+str(frame['Apple Watch ENMO'].max()) + \" Index: \" + str(index))\n",
    "    index += 1"
   ]
  },
  {
   "cell_type": "code",
   "execution_count": 156,
   "metadata": {},
   "outputs": [
    {
     "data": {
      "image/png": "[encoded data removed]",
      "text/plain": [
       "<Figure size 432x288 with 1 Axes>"
      ]
     },
     "metadata": {
      "needs_background": "light"
     },
     "output_type": "display_data"
    }
   ],
   "source": [
    "plt.boxplot(applewatch, whis=10)\n",
    "#plt.ylim(0,.005)\n",
    "plt.ylim(0,.15)\n",
    "plt.show()\n",
    "\n",
    "#good evidence for removeing 13, 14 and 22"
   ]
  },
  {
   "cell_type": "code",
   "execution_count": 171,
   "metadata": {},
   "outputs": [
    {
     "name": "stdout",
     "output_type": "stream",
     "text": [
      "Range of P02_N1 Min: 0.0 Max: 398.0 Index: 1\n",
      "Range of P02_N2 Min: 0.0 Max: 253.0 Index: 2\n",
      "Range of P03_N1 Min: 0.0 Max: 729.0 Index: 3\n",
      "Range of P03_N2 Min: 0.0 Max: 584.0 Index: 4\n",
      "Range of P04_N1 Min: 0 Max: 188 Index: 5\n",
      "Range of P04_N2 Min: 0 Max: 318 Index: 6\n",
      "Range of P05_N1 Min: 0.0 Max: 91.0 Index: 7\n",
      "Range of P05_N2 Min: 0.0 Max: 85.0 Index: 8\n",
      "Range of P06_N1 Min: 0.0 Max: 201.0 Index: 9\n",
      "Range of P06_N2 Min: 0.0 Max: 134.0 Index: 10\n",
      "Range of P07_N1 Min: 0.0 Max: 208.0 Index: 11\n",
      "Range of P07_N2 Min: 0.0 Max: 229.0 Index: 12\n",
      "Range of P10_N1 Min: 0.0 Max: 339.0 Index: 13\n",
      "Range of P10_N2 Min: 0.0 Max: 201.0 Index: 14\n",
      "Range of P11_N1 Min: 0.0 Max: 270.0 Index: 15\n",
      "Range of P11_N2 Min: 0.0 Max: 215.0 Index: 16\n",
      "Range of P12_N1 Min: 0.0 Max: 237.0 Index: 17\n",
      "Range of P12_N2 Min: 0.0 Max: 328.0 Index: 18\n",
      "Range of P13_N1 Min: 0.0 Max: 827.0 Index: 19\n",
      "Range of P14_N1 Min: 0.0 Max: 361.0 Index: 20\n",
      "Range of P14_N2 Min: 0.0 Max: 237.0 Index: 21\n",
      "Range of P15_N1 Min: 0.0 Max: 245.0 Index: 22\n",
      "Range of P15_N2 Min: 0.0 Max: 308.0 Index: 23\n",
      "Range of P16_N1 Min: 0.0 Max: 208.0 Index: 24\n",
      "Range of P16_N2 Min: 0.0 Max: 350.0 Index: 25\n",
      "Range of P17_N1 Min: 0.0 Max: 584.0 Index: 26\n",
      "Range of P17_N2 Min: 0 Max: 288 Index: 27\n"
     ]
    }
   ],
   "source": [
    "actiwatch = []\n",
    "index = 1\n",
    "for frame in frames:\n",
    "    df1 = frame[frame['Apple Watch ENMO'] < 0.02]\n",
    "    actiwatch.append(df1['Actiwatch activity counts'])\n",
    "    print(\"Range of \" + str(frame['fileName'].iloc[0]) + \" Min: \"+str(frame['Actiwatch activity counts'].min()) + \" Max: \"+str(frame['Actiwatch activity counts'].max()) + \" Index: \" + str(index))\n",
    "    index += 1"
   ]
  },
  {
   "cell_type": "code",
   "execution_count": 176,
   "metadata": {},
   "outputs": [
    {
     "data": {
      "image/png": "[encoded data removed]",
      "text/plain": [
       "<Figure size 432x288 with 1 Axes>"
      ]
     },
     "metadata": {
      "needs_background": "light"
     },
     "output_type": "display_data"
    }
   ],
   "source": [
    "plt.boxplot(actiwatch, whis=1000)\n",
    "#plt.ylim(0,.005)\n",
    "#plt.ylim(-1,100)\n",
    "plt.show()\n",
    "\n",
    "#remove 13, 14, 22, 27"
   ]
  },
  {
   "cell_type": "code",
   "execution_count": 62,
   "metadata": {},
   "outputs": [],
   "source": []
  },
  {
   "cell_type": "code",
   "execution_count": 35,
   "metadata": {},
   "outputs": [
    {
     "data": {
      "text/plain": [
       "2"
      ]
     },
     "execution_count": 35,
     "metadata": {},
     "output_type": "execute_result"
    }
   ],
   "source": [
    "final_df['Apple Watch ENMO'].isnull().sum()"
   ]
  },
  {
   "cell_type": "code",
   "execution_count": 36,
   "metadata": {},
   "outputs": [
    {
     "data": {
      "text/html": [
       "<div>\n",
       "<style scoped>\n",
       "    .dataframe tbody tr th:only-of-type {\n",
       "        vertical-align: middle;\n",
       "    }\n",
       "\n",
       "    .dataframe tbody tr th {\n",
       "        vertical-align: top;\n",
       "    }\n",
       "\n",
       "    .dataframe thead th {\n",
       "        text-align: right;\n",
       "    }\n",
       "</style>\n",
       "<table border=\"1\" class=\"dataframe\">\n",
       "  <thead>\n",
       "    <tr style=\"text-align: right;\">\n",
       "      <th></th>\n",
       "      <th>timestamp</th>\n",
       "      <th>Actiwatch activity counts</th>\n",
       "      <th>Actiware classification</th>\n",
       "      <th>Apple Watch ENMO</th>\n",
       "      <th>fileName</th>\n",
       "    </tr>\n",
       "  </thead>\n",
       "  <tbody>\n",
       "    <tr>\n",
       "      <th>8</th>\n",
       "      <td>07/01/2000 23:26:00</td>\n",
       "      <td>NaN</td>\n",
       "      <td>NaN</td>\n",
       "      <td>NaN</td>\n",
       "      <td>P05_N2</td>\n",
       "    </tr>\n",
       "    <tr>\n",
       "      <th>5</th>\n",
       "      <td>09/01/2000 20:45:15</td>\n",
       "      <td>NaN</td>\n",
       "      <td>NaN</td>\n",
       "      <td>NaN</td>\n",
       "      <td>P06_N2</td>\n",
       "    </tr>\n",
       "  </tbody>\n",
       "</table>\n",
       "</div>"
      ],
      "text/plain": [
       "             timestamp  Actiwatch activity counts  Actiware classification  \\\n",
       "8  07/01/2000 23:26:00                        NaN                      NaN   \n",
       "5  09/01/2000 20:45:15                        NaN                      NaN   \n",
       "\n",
       "   Apple Watch ENMO fileName  \n",
       "8               NaN   P05_N2  \n",
       "5               NaN   P06_N2  "
      ]
     },
     "execution_count": 36,
     "metadata": {},
     "output_type": "execute_result"
    }
   ],
   "source": [
    "final_df[final_df['Actiwatch activity counts'].isnull()]"
   ]
  },
  {
   "cell_type": "code",
   "execution_count": 193,
   "metadata": {},
   "outputs": [],
   "source": [
    "#add new dataset with removed nights\n",
    "filter_final_df = final_df[(final_df['fileName'] != 'P10_N1')&(final_df['fileName'] != 'P10_N2')&(final_df['fileName'] != 'P17_N2')&(final_df['fileName'] != 'P15_N1')]"
   ]
  },
  {
   "cell_type": "code",
   "execution_count": 196,
   "metadata": {},
   "outputs": [],
   "source": [
    "filter_final_df.to_csv('derived_data/combined_dataset_2_filter.csv')"
   ]
  },
  {
   "cell_type": "code",
   "execution_count": 212,
   "metadata": {},
   "outputs": [
    {
     "data": {
      "text/plain": [
       "{'whiskers': [<matplotlib.lines.Line2D at 0x7f4fd78f3908>,\n",
       "  <matplotlib.lines.Line2D at 0x7f4fd78f3160>],\n",
       " 'caps': [<matplotlib.lines.Line2D at 0x7f4fd76dfd30>,\n",
       "  <matplotlib.lines.Line2D at 0x7f4fd7600208>],\n",
       " 'boxes': [<matplotlib.lines.Line2D at 0x7f4fd78f33c8>],\n",
       " 'medians': [<matplotlib.lines.Line2D at 0x7f4fe0031278>],\n",
       " 'fliers': [<matplotlib.lines.Line2D at 0x7f4fe0031ba8>],\n",
       " 'means': []}"
      ]
     },
     "execution_count": 212,
     "metadata": {},
     "output_type": "execute_result"
    },
    {
     "data": {
      "image/png": "[encoded data removed]",
      "text/plain": [
       "<Figure size 432x288 with 1 Axes>"
      ]
     },
     "metadata": {
      "needs_background": "light"
     },
     "output_type": "display_data"
    }
   ],
   "source": [
    "filter_final_df_drops = filter_final_df.dropna()\n",
    "filter_final_df_drops = filter_final_df_drops[filter_final_df_drops['Actiwatch activity counts'] != 0 ]\n",
    "plt.boxplot(filter_final_df_drops['Actiwatch activity counts'], whis = 10)"
   ]
  },
  {
   "cell_type": "code",
   "execution_count": 213,
   "metadata": {},
   "outputs": [
    {
     "data": {
      "text/plain": [
       "{'whiskers': [<matplotlib.lines.Line2D at 0x7f4fe0398908>,\n",
       "  <matplotlib.lines.Line2D at 0x7f4fe0398dd8>],\n",
       " 'caps': [<matplotlib.lines.Line2D at 0x7f4fe0398b38>,\n",
       "  <matplotlib.lines.Line2D at 0x7f4fe0398278>],\n",
       " 'boxes': [<matplotlib.lines.Line2D at 0x7f4fe0398cc0>],\n",
       " 'medians': [<matplotlib.lines.Line2D at 0x7f4fe043c668>],\n",
       " 'fliers': [<matplotlib.lines.Line2D at 0x7f4fe043c6d8>],\n",
       " 'means': []}"
      ]
     },
     "execution_count": 213,
     "metadata": {},
     "output_type": "execute_result"
    },
    {
     "data": {
      "image/png": "[encoded data removed]",
      "text/plain": [
       "<Figure size 432x288 with 1 Axes>"
      ]
     },
     "metadata": {
      "needs_background": "light"
     },
     "output_type": "display_data"
    }
   ],
   "source": [
    "filter_final_df_drops = filter_final_df.dropna()\n",
    "filter_final_df_drops = filter_final_df_drops[filter_final_df_drops['Actiwatch activity counts'] != 0 ]\n",
    "plt.boxplot(filter_final_df_drops['Apple Watch ENMO'])"
   ]
  }
 ],
 "metadata": {
  "kernelspec": {
   "display_name": "Python 3.6.9 64-bit",
   "language": "python",
   "name": "python3"
  },
  "language_info": {
   "codemirror_mode": {
    "name": "ipython",
    "version": 3
   },
   "file_extension": ".py",
   "mimetype": "text/x-python",
   "name": "python",
   "nbconvert_exporter": "python",
   "pygments_lexer": "ipython3",
   "version": "3.6.9"
  },
  "orig_nbformat": 4,
  "vscode": {
   "interpreter": {
    "hash": "31f2aee4e71d21fbe5cf8b01ff0e069b9275f58929596ceb00d14d90e3e16cd6"
   }
  }
 },
 "nbformat": 4,
 "nbformat_minor": 2
}
