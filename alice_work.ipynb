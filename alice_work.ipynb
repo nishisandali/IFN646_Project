{
 "cells": [
  {
   "cell_type": "code",
   "execution_count": 1,
   "metadata": {},
   "outputs": [],
   "source": [
    "import sys\n",
    "import os\n",
    "import numpy as np # linear algebra\n",
    "import pandas as pd # data processing, CSV file I/O\n",
    "import statsmodels.api as sm\n",
    "from patsy import dmatrices\n",
    "from sklearn.model_selection import train_test_split\n",
    "\n",
    "# visualisation imports\n",
    "import matplotlib.pyplot as plt\n",
    "import seaborn as sns\n",
    "%matplotlib inline\n",
    "\n",
    "# seaborn styling default\n",
    "sns.set_theme(style='darkgrid')\n",
    "\n",
    "# hide warnings\n",
    "import warnings\n",
    "warnings.filterwarnings('ignore')"
   ]
  },
  {
   "cell_type": "code",
   "execution_count": 2,
   "metadata": {},
   "outputs": [
    {
     "data": {
      "text/html": [
       "<div>\n",
       "<style scoped>\n",
       "    .dataframe tbody tr th:only-of-type {\n",
       "        vertical-align: middle;\n",
       "    }\n",
       "\n",
       "    .dataframe tbody tr th {\n",
       "        vertical-align: top;\n",
       "    }\n",
       "\n",
       "    .dataframe thead th {\n",
       "        text-align: right;\n",
       "    }\n",
       "</style>\n",
       "<table border=\"1\" class=\"dataframe\">\n",
       "  <thead>\n",
       "    <tr style=\"text-align: right;\">\n",
       "      <th></th>\n",
       "      <th>Unnamed: 0</th>\n",
       "      <th>timestamp</th>\n",
       "      <th>Actiwatch activity counts</th>\n",
       "      <th>Actiware classification</th>\n",
       "      <th>Apple Watch ENMO</th>\n",
       "      <th>ELMO_before</th>\n",
       "      <th>ELMO_after</th>\n",
       "      <th>fileName</th>\n",
       "    </tr>\n",
       "  </thead>\n",
       "  <tbody>\n",
       "    <tr>\n",
       "      <th>0</th>\n",
       "      <td>28</td>\n",
       "      <td>01/01/2000 01:24:00</td>\n",
       "      <td>0.0</td>\n",
       "      <td>1.0</td>\n",
       "      <td>0.006943</td>\n",
       "      <td>0.006270</td>\n",
       "      <td>0.012221</td>\n",
       "      <td>P02_N1</td>\n",
       "    </tr>\n",
       "    <tr>\n",
       "      <th>1</th>\n",
       "      <td>29</td>\n",
       "      <td>01/01/2000 01:24:15</td>\n",
       "      <td>4.0</td>\n",
       "      <td>0.0</td>\n",
       "      <td>0.012221</td>\n",
       "      <td>0.006943</td>\n",
       "      <td>0.006598</td>\n",
       "      <td>P02_N1</td>\n",
       "    </tr>\n",
       "    <tr>\n",
       "      <th>2</th>\n",
       "      <td>30</td>\n",
       "      <td>01/01/2000 01:24:30</td>\n",
       "      <td>0.0</td>\n",
       "      <td>0.0</td>\n",
       "      <td>0.006598</td>\n",
       "      <td>0.012221</td>\n",
       "      <td>0.006625</td>\n",
       "      <td>P02_N1</td>\n",
       "    </tr>\n",
       "    <tr>\n",
       "      <th>3</th>\n",
       "      <td>31</td>\n",
       "      <td>01/01/2000 01:24:45</td>\n",
       "      <td>0.0</td>\n",
       "      <td>0.0</td>\n",
       "      <td>0.006625</td>\n",
       "      <td>0.006598</td>\n",
       "      <td>0.006931</td>\n",
       "      <td>P02_N1</td>\n",
       "    </tr>\n",
       "    <tr>\n",
       "      <th>4</th>\n",
       "      <td>32</td>\n",
       "      <td>01/01/2000 01:25:00</td>\n",
       "      <td>0.0</td>\n",
       "      <td>0.0</td>\n",
       "      <td>0.006931</td>\n",
       "      <td>0.006625</td>\n",
       "      <td>0.006734</td>\n",
       "      <td>P02_N1</td>\n",
       "    </tr>\n",
       "    <tr>\n",
       "      <th>...</th>\n",
       "      <td>...</td>\n",
       "      <td>...</td>\n",
       "      <td>...</td>\n",
       "      <td>...</td>\n",
       "      <td>...</td>\n",
       "      <td>...</td>\n",
       "      <td>...</td>\n",
       "      <td>...</td>\n",
       "    </tr>\n",
       "    <tr>\n",
       "      <th>40655</th>\n",
       "      <td>1326</td>\n",
       "      <td>27/01/2000 04:15:30</td>\n",
       "      <td>0.0</td>\n",
       "      <td>0.0</td>\n",
       "      <td>0.004925</td>\n",
       "      <td>0.005095</td>\n",
       "      <td>0.004991</td>\n",
       "      <td>P17_N1</td>\n",
       "    </tr>\n",
       "    <tr>\n",
       "      <th>40656</th>\n",
       "      <td>1327</td>\n",
       "      <td>27/01/2000 04:15:45</td>\n",
       "      <td>0.0</td>\n",
       "      <td>0.0</td>\n",
       "      <td>0.004991</td>\n",
       "      <td>0.004925</td>\n",
       "      <td>0.004935</td>\n",
       "      <td>P17_N1</td>\n",
       "    </tr>\n",
       "    <tr>\n",
       "      <th>40657</th>\n",
       "      <td>1328</td>\n",
       "      <td>27/01/2000 04:16:00</td>\n",
       "      <td>0.0</td>\n",
       "      <td>0.0</td>\n",
       "      <td>0.004935</td>\n",
       "      <td>0.004991</td>\n",
       "      <td>0.004983</td>\n",
       "      <td>P17_N1</td>\n",
       "    </tr>\n",
       "    <tr>\n",
       "      <th>40658</th>\n",
       "      <td>1329</td>\n",
       "      <td>27/01/2000 04:16:15</td>\n",
       "      <td>0.0</td>\n",
       "      <td>0.0</td>\n",
       "      <td>0.004983</td>\n",
       "      <td>0.004935</td>\n",
       "      <td>0.005274</td>\n",
       "      <td>P17_N1</td>\n",
       "    </tr>\n",
       "    <tr>\n",
       "      <th>40659</th>\n",
       "      <td>1330</td>\n",
       "      <td>27/01/2000 04:16:30</td>\n",
       "      <td>0.0</td>\n",
       "      <td>0.0</td>\n",
       "      <td>0.005274</td>\n",
       "      <td>0.004983</td>\n",
       "      <td>0.005142</td>\n",
       "      <td>P17_N1</td>\n",
       "    </tr>\n",
       "  </tbody>\n",
       "</table>\n",
       "<p>40660 rows × 8 columns</p>\n",
       "</div>"
      ],
      "text/plain": [
       "       Unnamed: 0            timestamp  Actiwatch activity counts  \\\n",
       "0              28  01/01/2000 01:24:00                        0.0   \n",
       "1              29  01/01/2000 01:24:15                        4.0   \n",
       "2              30  01/01/2000 01:24:30                        0.0   \n",
       "3              31  01/01/2000 01:24:45                        0.0   \n",
       "4              32  01/01/2000 01:25:00                        0.0   \n",
       "...           ...                  ...                        ...   \n",
       "40655        1326  27/01/2000 04:15:30                        0.0   \n",
       "40656        1327  27/01/2000 04:15:45                        0.0   \n",
       "40657        1328  27/01/2000 04:16:00                        0.0   \n",
       "40658        1329  27/01/2000 04:16:15                        0.0   \n",
       "40659        1330  27/01/2000 04:16:30                        0.0   \n",
       "\n",
       "       Actiware classification  Apple Watch ENMO  ELMO_before  ELMO_after  \\\n",
       "0                          1.0          0.006943     0.006270    0.012221   \n",
       "1                          0.0          0.012221     0.006943    0.006598   \n",
       "2                          0.0          0.006598     0.012221    0.006625   \n",
       "3                          0.0          0.006625     0.006598    0.006931   \n",
       "4                          0.0          0.006931     0.006625    0.006734   \n",
       "...                        ...               ...          ...         ...   \n",
       "40655                      0.0          0.004925     0.005095    0.004991   \n",
       "40656                      0.0          0.004991     0.004925    0.004935   \n",
       "40657                      0.0          0.004935     0.004991    0.004983   \n",
       "40658                      0.0          0.004983     0.004935    0.005274   \n",
       "40659                      0.0          0.005274     0.004983    0.005142   \n",
       "\n",
       "      fileName  \n",
       "0       P02_N1  \n",
       "1       P02_N1  \n",
       "2       P02_N1  \n",
       "3       P02_N1  \n",
       "4       P02_N1  \n",
       "...        ...  \n",
       "40655   P17_N1  \n",
       "40656   P17_N1  \n",
       "40657   P17_N1  \n",
       "40658   P17_N1  \n",
       "40659   P17_N1  \n",
       "\n",
       "[40660 rows x 8 columns]"
      ]
     },
     "execution_count": 2,
     "metadata": {},
     "output_type": "execute_result"
    }
   ],
   "source": [
    "df = pd.read_csv('derived_data/combined_dataset_2_filter.csv')\n",
    "#df = df_raw[['Actiwatch activity counts', 'Apple Watch ENMO', 'fileName']]\n",
    "df"
   ]
  },
  {
   "cell_type": "code",
   "execution_count": 3,
   "metadata": {},
   "outputs": [],
   "source": [
    "df = df.dropna()"
   ]
  },
  {
   "cell_type": "code",
   "execution_count": 27,
   "metadata": {},
   "outputs": [
    {
     "data": {
      "text/plain": [
       "<matplotlib.collections.PathCollection at 0x7f4302f7fda0>"
      ]
     },
     "execution_count": 27,
     "metadata": {},
     "output_type": "execute_result"
    },
    {
     "data": {
      "image/png": "[encoded data removed]",
      "text/plain": [
       "<Figure size 432x288 with 1 Axes>"
      ]
     },
     "metadata": {},
     "output_type": "display_data"
    }
   ],
   "source": [
    "plt.scatter(df['Actiwatch activity counts'], df['Apple Watch ENMO'])"
   ]
  },
  {
   "cell_type": "code",
   "execution_count": 56,
   "metadata": {},
   "outputs": [
    {
     "data": {
      "image/png": "[encoded data removed]",
      "text/plain": [
       "<Figure size 432x288 with 1 Axes>"
      ]
     },
     "metadata": {},
     "output_type": "display_data"
    }
   ],
   "source": [
    "\n",
    "n_bins = 20\n",
    "\n",
    "# Generate two normal distributions\n",
    "dist1 = df['Actiwatch activity counts']\n",
    "plt.ylim(0,5000)\n",
    "plt.hist(dist1, bins = n_bins)\n",
    "plt.show()"
   ]
  },
  {
   "cell_type": "code",
   "execution_count": 6,
   "metadata": {},
   "outputs": [
    {
     "data": {
      "image/png": "[encoded data removed]",
      "text/plain": [
       "<Figure size 432x288 with 1 Axes>"
      ]
     },
     "metadata": {},
     "output_type": "display_data"
    }
   ],
   "source": [
    "n_bins = 20\n",
    "\n",
    "# Generate two normal distributions\n",
    "dist1 = df['Apple Watch ENMO']\n",
    "plt.ylim(0,50)\n",
    "plt.hist(dist1, bins = n_bins)\n",
    "plt.show()"
   ]
  },
  {
   "cell_type": "code",
   "execution_count": 7,
   "metadata": {},
   "outputs": [],
   "source": [
    "#df2 = df.dropna()\n",
    "nums = df.to_numpy()"
   ]
  },
  {
   "cell_type": "code",
   "execution_count": 8,
   "metadata": {},
   "outputs": [
    {
     "data": {
      "text/plain": [
       "array([[0.0, 0.006943397, 'P02_N1'],\n",
       "       [4.0, 0.01222079, 'P02_N1'],\n",
       "       [0.0, 0.006598491, 'P02_N1'],\n",
       "       ...,\n",
       "       [0.0, 0.004934795, 'P17_N1'],\n",
       "       [0.0, 0.0049826670000000005, 'P17_N1'],\n",
       "       [0.0, 0.0052735690000000005, 'P17_N1']], dtype=object)"
      ]
     },
     "execution_count": 8,
     "metadata": {},
     "output_type": "execute_result"
    }
   ],
   "source": [
    "nums"
   ]
  },
  {
   "cell_type": "code",
   "execution_count": 78,
   "metadata": {},
   "outputs": [],
   "source": [
    "X_train, X_test, y_train, y_test = train_test_split(nums[:, 1], nums[:, 0], test_size=0.33, random_state=42)"
   ]
  },
  {
   "cell_type": "code",
   "execution_count": 89,
   "metadata": {},
   "outputs": [],
   "source": [
    "X_train = X_train.astype('float64')\n",
    "y_train = y_train.astype('float64')"
   ]
  },
  {
   "cell_type": "code",
   "execution_count": 11,
   "metadata": {},
   "outputs": [
    {
     "data": {
      "text/plain": [
       "(0.0, 0.05)"
      ]
     },
     "execution_count": 11,
     "metadata": {},
     "output_type": "execute_result"
    },
    {
     "data": {
      "image/png": "[encoded data removed]",
      "text/plain": [
       "<Figure size 432x288 with 1 Axes>"
      ]
     },
     "metadata": {},
     "output_type": "display_data"
    }
   ],
   "source": [
    "plt.scatter(nums[:, 0], nums[:, 1])\n",
    "plt.ylim(0,.05)"
   ]
  },
  {
   "cell_type": "code",
   "execution_count": 12,
   "metadata": {},
   "outputs": [
    {
     "name": "stdout",
     "output_type": "stream",
     "text": [
      "Size of train X 27240 Y 27240\n",
      "Size of test X 13418 Y 13418\n",
      "Total size 121974\n"
     ]
    }
   ],
   "source": [
    "print(\"Size of train X \" + str(X_train.size) + \" Y \" + str(y_train.size) )\n",
    "print(\"Size of test X \" + str(X_test.size) + \" Y \" + str(y_test.size) )\n",
    "print(\"Total size \" + str(nums.size))"
   ]
  },
  {
   "cell_type": "code",
   "execution_count": 13,
   "metadata": {},
   "outputs": [
    {
     "data": {
      "image/png": "[encoded data removed]",
      "text/plain": [
       "<Figure size 432x288 with 1 Axes>"
      ]
     },
     "metadata": {},
     "output_type": "display_data"
    }
   ],
   "source": [
    "\n",
    "n_bins = 20\n",
    "\n",
    "# Generate two normal distributions\n",
    "dist1 = X_test\n",
    "#plt.ylim(0,50)\n",
    "plt.hist(dist1, bins = n_bins)\n",
    "plt.show()"
   ]
  },
  {
   "cell_type": "code",
   "execution_count": 14,
   "metadata": {},
   "outputs": [],
   "source": [
    "#fit linear regression\n",
    "coef = np.polyfit(X_train,y_train,1)\n",
    "poly1d_fn = np.poly1d(coef) "
   ]
  },
  {
   "cell_type": "code",
   "execution_count": 15,
   "metadata": {},
   "outputs": [
    {
     "data": {
      "text/plain": [
       "[<matplotlib.lines.Line2D at 0x7fa2ba7f7f28>,\n",
       " <matplotlib.lines.Line2D at 0x7fa2ba7f7fd0>]"
      ]
     },
     "execution_count": 15,
     "metadata": {},
     "output_type": "execute_result"
    },
    {
     "data": {
      "image/png": "[encoded data removed]",
      "text/plain": [
       "<Figure size 432x288 with 1 Axes>"
      ]
     },
     "metadata": {},
     "output_type": "display_data"
    }
   ],
   "source": [
    "plt.plot(X_train,y_train, 'yo', X_train, poly1d_fn(X_train), '--k')"
   ]
  },
  {
   "cell_type": "code",
   "execution_count": 16,
   "metadata": {},
   "outputs": [
    {
     "data": {
      "text/plain": [
       "array([1300.06557841,   -3.70231548])"
      ]
     },
     "execution_count": 16,
     "metadata": {},
     "output_type": "execute_result"
    }
   ],
   "source": [
    "#display x and y\n",
    "poly1d_fn.coef"
   ]
  },
  {
   "cell_type": "code",
   "execution_count": 36,
   "metadata": {},
   "outputs": [
    {
     "data": {
      "text/plain": [
       "array([0.00284779])"
      ]
     },
     "execution_count": 36,
     "metadata": {},
     "output_type": "execute_result"
    }
   ],
   "source": []
  },
  {
   "cell_type": "code",
   "execution_count": 17,
   "metadata": {},
   "outputs": [
    {
     "data": {
      "text/plain": [
       "[<matplotlib.lines.Line2D at 0x7fa2ba7796d8>,\n",
       " <matplotlib.lines.Line2D at 0x7fa2ba779780>]"
      ]
     },
     "execution_count": 17,
     "metadata": {},
     "output_type": "execute_result"
    },
    {
     "data": {
      "image/png": "[encoded data removed]",
      "text/plain": [
       "<Figure size 432x288 with 1 Axes>"
      ]
     },
     "metadata": {},
     "output_type": "display_data"
    }
   ],
   "source": [
    "plt.plot(X_test,y_test, 'yo', X_test, poly1d_fn(X_test), '--k')"
   ]
  },
  {
   "cell_type": "code",
   "execution_count": 76,
   "metadata": {},
   "outputs": [
    {
     "data": {
      "text/plain": [
       "PoissonRegressor()"
      ]
     },
     "execution_count": 76,
     "metadata": {},
     "output_type": "execute_result"
    }
   ],
   "source": [
    "from sklearn.linear_model import PoissonRegressor\n",
    "model = PoissonRegressor()\n",
    "XX_train = X_train.reshape(-1, 1)\n",
    "model.fit(XX_train, y_train)"
   ]
  },
  {
   "cell_type": "code",
   "execution_count": 77,
   "metadata": {},
   "outputs": [
    {
     "ename": "TypeError",
     "evalue": "ufunc 'xlogy' not supported for the input types, and the inputs could not be safely coerced to any supported types according to the casting rule ''safe''",
     "output_type": "error",
     "traceback": [
      "\u001b[0;31m---------------------------------------------------------------------------\u001b[0m",
      "\u001b[0;31mTypeError\u001b[0m                                 Traceback (most recent call last)",
      "\u001b[0;32m<ipython-input-77-3f61a9f2313b>\u001b[0m in \u001b[0;36m<module>\u001b[0;34m\u001b[0m\n\u001b[0;32m----> 1\u001b[0;31m \u001b[0mmodel\u001b[0m\u001b[0;34m.\u001b[0m\u001b[0mscore\u001b[0m\u001b[0;34m(\u001b[0m\u001b[0mXX_train\u001b[0m\u001b[0;34m,\u001b[0m \u001b[0my_train\u001b[0m\u001b[0;34m)\u001b[0m\u001b[0;34m\u001b[0m\u001b[0;34m\u001b[0m\u001b[0m\n\u001b[0m",
      "\u001b[0;32m~/.local/lib/python3.6/site-packages/sklearn/linear_model/_glm/glm.py\u001b[0m in \u001b[0;36mscore\u001b[0;34m(self, X, y, sample_weight)\u001b[0m\n\u001b[1;32m    371\u001b[0m         \u001b[0mweights\u001b[0m \u001b[0;34m=\u001b[0m \u001b[0m_check_sample_weight\u001b[0m\u001b[0;34m(\u001b[0m\u001b[0msample_weight\u001b[0m\u001b[0;34m,\u001b[0m \u001b[0mX\u001b[0m\u001b[0;34m)\u001b[0m\u001b[0;34m\u001b[0m\u001b[0;34m\u001b[0m\u001b[0m\n\u001b[1;32m    372\u001b[0m         \u001b[0my_pred\u001b[0m \u001b[0;34m=\u001b[0m \u001b[0mself\u001b[0m\u001b[0;34m.\u001b[0m\u001b[0mpredict\u001b[0m\u001b[0;34m(\u001b[0m\u001b[0mX\u001b[0m\u001b[0;34m)\u001b[0m\u001b[0;34m\u001b[0m\u001b[0;34m\u001b[0m\u001b[0m\n\u001b[0;32m--> 373\u001b[0;31m         \u001b[0mdev\u001b[0m \u001b[0;34m=\u001b[0m \u001b[0mself\u001b[0m\u001b[0;34m.\u001b[0m\u001b[0m_family_instance\u001b[0m\u001b[0;34m.\u001b[0m\u001b[0mdeviance\u001b[0m\u001b[0;34m(\u001b[0m\u001b[0my\u001b[0m\u001b[0;34m,\u001b[0m \u001b[0my_pred\u001b[0m\u001b[0;34m,\u001b[0m \u001b[0mweights\u001b[0m\u001b[0;34m=\u001b[0m\u001b[0mweights\u001b[0m\u001b[0;34m)\u001b[0m\u001b[0;34m\u001b[0m\u001b[0;34m\u001b[0m\u001b[0m\n\u001b[0m\u001b[1;32m    374\u001b[0m         \u001b[0my_mean\u001b[0m \u001b[0;34m=\u001b[0m \u001b[0mnp\u001b[0m\u001b[0;34m.\u001b[0m\u001b[0maverage\u001b[0m\u001b[0;34m(\u001b[0m\u001b[0my\u001b[0m\u001b[0;34m,\u001b[0m \u001b[0mweights\u001b[0m\u001b[0;34m=\u001b[0m\u001b[0mweights\u001b[0m\u001b[0;34m)\u001b[0m\u001b[0;34m\u001b[0m\u001b[0;34m\u001b[0m\u001b[0m\n\u001b[1;32m    375\u001b[0m         \u001b[0mdev_null\u001b[0m \u001b[0;34m=\u001b[0m \u001b[0mself\u001b[0m\u001b[0;34m.\u001b[0m\u001b[0m_family_instance\u001b[0m\u001b[0;34m.\u001b[0m\u001b[0mdeviance\u001b[0m\u001b[0;34m(\u001b[0m\u001b[0my\u001b[0m\u001b[0;34m,\u001b[0m \u001b[0my_mean\u001b[0m\u001b[0;34m,\u001b[0m \u001b[0mweights\u001b[0m\u001b[0;34m=\u001b[0m\u001b[0mweights\u001b[0m\u001b[0;34m)\u001b[0m\u001b[0;34m\u001b[0m\u001b[0;34m\u001b[0m\u001b[0m\n",
      "\u001b[0;32m~/.local/lib/python3.6/site-packages/sklearn/_loss/glm_distribution.py\u001b[0m in \u001b[0;36mdeviance\u001b[0;34m(self, y, y_pred, weights)\u001b[0m\n\u001b[1;32m    154\u001b[0m             \u001b[0mWeights\u001b[0m \u001b[0;32mor\u001b[0m \u001b[0mexposure\u001b[0m \u001b[0mto\u001b[0m \u001b[0mwhich\u001b[0m \u001b[0mvariance\u001b[0m \u001b[0;32mis\u001b[0m \u001b[0minverse\u001b[0m \u001b[0mproportional\u001b[0m\u001b[0;34m.\u001b[0m\u001b[0;34m\u001b[0m\u001b[0;34m\u001b[0m\u001b[0m\n\u001b[1;32m    155\u001b[0m         \"\"\"\n\u001b[0;32m--> 156\u001b[0;31m         \u001b[0;32mreturn\u001b[0m \u001b[0mnp\u001b[0m\u001b[0;34m.\u001b[0m\u001b[0msum\u001b[0m\u001b[0;34m(\u001b[0m\u001b[0mweights\u001b[0m \u001b[0;34m*\u001b[0m \u001b[0mself\u001b[0m\u001b[0;34m.\u001b[0m\u001b[0munit_deviance\u001b[0m\u001b[0;34m(\u001b[0m\u001b[0my\u001b[0m\u001b[0;34m,\u001b[0m \u001b[0my_pred\u001b[0m\u001b[0;34m)\u001b[0m\u001b[0;34m)\u001b[0m\u001b[0;34m\u001b[0m\u001b[0;34m\u001b[0m\u001b[0m\n\u001b[0m\u001b[1;32m    157\u001b[0m \u001b[0;34m\u001b[0m\u001b[0m\n\u001b[1;32m    158\u001b[0m     \u001b[0;32mdef\u001b[0m \u001b[0mdeviance_derivative\u001b[0m\u001b[0;34m(\u001b[0m\u001b[0mself\u001b[0m\u001b[0;34m,\u001b[0m \u001b[0my\u001b[0m\u001b[0;34m,\u001b[0m \u001b[0my_pred\u001b[0m\u001b[0;34m,\u001b[0m \u001b[0mweights\u001b[0m\u001b[0;34m=\u001b[0m\u001b[0;36m1\u001b[0m\u001b[0;34m)\u001b[0m\u001b[0;34m:\u001b[0m\u001b[0;34m\u001b[0m\u001b[0;34m\u001b[0m\u001b[0m\n",
      "\u001b[0;32m~/.local/lib/python3.6/site-packages/sklearn/_loss/glm_distribution.py\u001b[0m in \u001b[0;36munit_deviance\u001b[0;34m(self, y, y_pred, check_input)\u001b[0m\n\u001b[1;32m    313\u001b[0m         \u001b[0;32melif\u001b[0m \u001b[0mp\u001b[0m \u001b[0;34m==\u001b[0m \u001b[0;36m1\u001b[0m\u001b[0;34m:\u001b[0m\u001b[0;34m\u001b[0m\u001b[0;34m\u001b[0m\u001b[0m\n\u001b[1;32m    314\u001b[0m             \u001b[0;31m# Poisson distribution\u001b[0m\u001b[0;34m\u001b[0m\u001b[0;34m\u001b[0m\u001b[0;34m\u001b[0m\u001b[0m\n\u001b[0;32m--> 315\u001b[0;31m             \u001b[0mdev\u001b[0m \u001b[0;34m=\u001b[0m \u001b[0;36m2\u001b[0m \u001b[0;34m*\u001b[0m \u001b[0;34m(\u001b[0m\u001b[0mxlogy\u001b[0m\u001b[0;34m(\u001b[0m\u001b[0my\u001b[0m\u001b[0;34m,\u001b[0m \u001b[0my\u001b[0m\u001b[0;34m/\u001b[0m\u001b[0my_pred\u001b[0m\u001b[0;34m)\u001b[0m \u001b[0;34m-\u001b[0m \u001b[0my\u001b[0m \u001b[0;34m+\u001b[0m \u001b[0my_pred\u001b[0m\u001b[0;34m)\u001b[0m\u001b[0;34m\u001b[0m\u001b[0;34m\u001b[0m\u001b[0m\n\u001b[0m\u001b[1;32m    316\u001b[0m         \u001b[0;32melif\u001b[0m \u001b[0mp\u001b[0m \u001b[0;34m==\u001b[0m \u001b[0;36m2\u001b[0m\u001b[0;34m:\u001b[0m\u001b[0;34m\u001b[0m\u001b[0;34m\u001b[0m\u001b[0m\n\u001b[1;32m    317\u001b[0m             \u001b[0;31m# Gamma distribution\u001b[0m\u001b[0;34m\u001b[0m\u001b[0;34m\u001b[0m\u001b[0;34m\u001b[0m\u001b[0m\n",
      "\u001b[0;31mTypeError\u001b[0m: ufunc 'xlogy' not supported for the input types, and the inputs could not be safely coerced to any supported types according to the casting rule ''safe''"
     ]
    }
   ],
   "source": [
    "model.score(XX_train, y_train)"
   ]
  },
  {
   "cell_type": "code",
   "execution_count": 20,
   "metadata": {},
   "outputs": [
    {
     "data": {
      "text/plain": [
       "array([0.17413661])"
      ]
     },
     "execution_count": 20,
     "metadata": {},
     "output_type": "execute_result"
    }
   ],
   "source": [
    "model.coef_"
   ]
  },
  {
   "cell_type": "code",
   "execution_count": 21,
   "metadata": {},
   "outputs": [
    {
     "data": {
      "text/html": [
       "<div>\n",
       "<style scoped>\n",
       "    .dataframe tbody tr th:only-of-type {\n",
       "        vertical-align: middle;\n",
       "    }\n",
       "\n",
       "    .dataframe tbody tr th {\n",
       "        vertical-align: top;\n",
       "    }\n",
       "\n",
       "    .dataframe thead th {\n",
       "        text-align: right;\n",
       "    }\n",
       "</style>\n",
       "<table border=\"1\" class=\"dataframe\">\n",
       "  <thead>\n",
       "    <tr style=\"text-align: right;\">\n",
       "      <th></th>\n",
       "      <th>pred</th>\n",
       "      <th>actual</th>\n",
       "    </tr>\n",
       "  </thead>\n",
       "  <tbody>\n",
       "    <tr>\n",
       "      <th>0</th>\n",
       "      <td>2.328344</td>\n",
       "      <td>0.0</td>\n",
       "    </tr>\n",
       "    <tr>\n",
       "      <th>1</th>\n",
       "      <td>2.327618</td>\n",
       "      <td>0.0</td>\n",
       "    </tr>\n",
       "    <tr>\n",
       "      <th>2</th>\n",
       "      <td>2.327624</td>\n",
       "      <td>0.0</td>\n",
       "    </tr>\n",
       "    <tr>\n",
       "      <th>3</th>\n",
       "      <td>2.328051</td>\n",
       "      <td>0.0</td>\n",
       "    </tr>\n",
       "    <tr>\n",
       "      <th>4</th>\n",
       "      <td>2.327596</td>\n",
       "      <td>0.0</td>\n",
       "    </tr>\n",
       "    <tr>\n",
       "      <th>...</th>\n",
       "      <td>...</td>\n",
       "      <td>...</td>\n",
       "    </tr>\n",
       "    <tr>\n",
       "      <th>27235</th>\n",
       "      <td>2.328179</td>\n",
       "      <td>0.0</td>\n",
       "    </tr>\n",
       "    <tr>\n",
       "      <th>27236</th>\n",
       "      <td>2.328453</td>\n",
       "      <td>0.0</td>\n",
       "    </tr>\n",
       "    <tr>\n",
       "      <th>27237</th>\n",
       "      <td>2.329075</td>\n",
       "      <td>0.0</td>\n",
       "    </tr>\n",
       "    <tr>\n",
       "      <th>27238</th>\n",
       "      <td>2.328173</td>\n",
       "      <td>0.0</td>\n",
       "    </tr>\n",
       "    <tr>\n",
       "      <th>27239</th>\n",
       "      <td>2.327397</td>\n",
       "      <td>0.0</td>\n",
       "    </tr>\n",
       "  </tbody>\n",
       "</table>\n",
       "<p>27240 rows × 2 columns</p>\n",
       "</div>"
      ],
      "text/plain": [
       "           pred  actual\n",
       "0      2.328344     0.0\n",
       "1      2.327618     0.0\n",
       "2      2.327624     0.0\n",
       "3      2.328051     0.0\n",
       "4      2.327596     0.0\n",
       "...         ...     ...\n",
       "27235  2.328179     0.0\n",
       "27236  2.328453     0.0\n",
       "27237  2.329075     0.0\n",
       "27238  2.328173     0.0\n",
       "27239  2.327397     0.0\n",
       "\n",
       "[27240 rows x 2 columns]"
      ]
     },
     "execution_count": 21,
     "metadata": {},
     "output_type": "execute_result"
    }
   ],
   "source": [
    "pd.DataFrame(\n",
    "    {\"pred\": model.predict(XX_train),\n",
    "    \"actual\": y_train}\n",
    ")"
   ]
  },
  {
   "cell_type": "code",
   "execution_count": 22,
   "metadata": {},
   "outputs": [
    {
     "data": {
      "image/png": "[encoded data removed]",
      "text/plain": [
       "<Figure size 432x288 with 1 Axes>"
      ]
     },
     "metadata": {},
     "output_type": "display_data"
    }
   ],
   "source": [
    "\n",
    "\n",
    "fig = plt.figure()\n",
    "ax1 = fig.add_subplot(111)\n",
    "\n",
    "#ax1.scatter(df['Apple Watch ENMO'] ,df['Actiwatch activity counts'], s=10, c='b', marker=\"s\", label='first')\n",
    "ax1.scatter(X_train,model.predict(XX_train), s=10, c='r', marker=\"o\", label='second')\n",
    "plt.legend(loc='upper left')\n",
    "plt.show()"
   ]
  },
  {
   "cell_type": "code",
   "execution_count": 90,
   "metadata": {},
   "outputs": [
    {
     "name": "stdout",
     "output_type": "stream",
     "text": [
      "Optimization terminated successfully.\n",
      "         Current function value: 0.972539\n",
      "         Iterations: 21\n",
      "         Function evaluations: 25\n",
      "         Gradient evaluations: 25\n"
     ]
    }
   ],
   "source": [
    "#zero inflated poisson regressio,n\n",
    "zip_model = sm.ZeroInflatedPoisson(X_train, y_train, missing=\"drop\")\n",
    "zip_res = zip_model.fit()"
   ]
  },
  {
   "cell_type": "code",
   "execution_count": 91,
   "metadata": {},
   "outputs": [
    {
     "data": {
      "text/html": [
       "<table class=\"simpletable\">\n",
       "<caption>ZeroInflatedPoisson Regression Results</caption>\n",
       "<tr>\n",
       "  <th>Dep. Variable:</th>            <td>y</td>          <th>  No. Observations:  </th>  <td> 27240</td> \n",
       "</tr>\n",
       "<tr>\n",
       "  <th>Model:</th>           <td>ZeroInflatedPoisson</td> <th>  Df Residuals:      </th>  <td> 27239</td> \n",
       "</tr>\n",
       "<tr>\n",
       "  <th>Method:</th>                  <td>MLE</td>         <th>  Df Model:          </th>  <td>     0</td> \n",
       "</tr>\n",
       "<tr>\n",
       "  <th>Date:</th>             <td>Mon, 03 Oct 2022</td>   <th>  Pseudo R-squ.:     </th>  <td>-35.01</td> \n",
       "</tr>\n",
       "<tr>\n",
       "  <th>Time:</th>                 <td>15:29:05</td>       <th>  Log-Likelihood:    </th> <td> -26492.</td>\n",
       "</tr>\n",
       "<tr>\n",
       "  <th>converged:</th>              <td>True</td>         <th>  LL-Null:           </th> <td> -735.66</td>\n",
       "</tr>\n",
       "<tr>\n",
       "  <th>Covariance Type:</th>      <td>nonrobust</td>      <th>  LLR p-value:       </th>  <td>   nan</td> \n",
       "</tr>\n",
       "</table>\n",
       "<table class=\"simpletable\">\n",
       "<tr>\n",
       "        <td></td>           <th>coef</th>     <th>std err</th>      <th>z</th>      <th>P>|z|</th>  <th>[0.025</th>    <th>0.975]</th>  \n",
       "</tr>\n",
       "<tr>\n",
       "  <th>inflate_const</th> <td>  -13.9408</td> <td>    6.451</td> <td>   -2.161</td> <td> 0.031</td> <td>  -26.584</td> <td>   -1.298</td>\n",
       "</tr>\n",
       "<tr>\n",
       "  <th>x1</th>            <td>   -0.0591</td> <td>    0.003</td> <td>  -19.137</td> <td> 0.000</td> <td>   -0.065</td> <td>   -0.053</td>\n",
       "</tr>\n",
       "</table>"
      ],
      "text/plain": [
       "<class 'statsmodels.iolib.summary.Summary'>\n",
       "\"\"\"\n",
       "                     ZeroInflatedPoisson Regression Results                    \n",
       "===============================================================================\n",
       "Dep. Variable:                       y   No. Observations:                27240\n",
       "Model:             ZeroInflatedPoisson   Df Residuals:                    27239\n",
       "Method:                            MLE   Df Model:                            0\n",
       "Date:                 Mon, 03 Oct 2022   Pseudo R-squ.:                  -35.01\n",
       "Time:                         15:29:05   Log-Likelihood:                -26492.\n",
       "converged:                        True   LL-Null:                       -735.66\n",
       "Covariance Type:             nonrobust   LLR p-value:                       nan\n",
       "=================================================================================\n",
       "                    coef    std err          z      P>|z|      [0.025      0.975]\n",
       "---------------------------------------------------------------------------------\n",
       "inflate_const   -13.9408      6.451     -2.161      0.031     -26.584      -1.298\n",
       "x1               -0.0591      0.003    -19.137      0.000      -0.065      -0.053\n",
       "=================================================================================\n",
       "\"\"\""
      ]
     },
     "execution_count": 91,
     "metadata": {},
     "output_type": "execute_result"
    }
   ],
   "source": [
    "zip_res.summary()"
   ]
  },
  {
   "cell_type": "markdown",
   "metadata": {},
   "source": [
    "Trying to reduce number of zeros\n"
   ]
  },
  {
   "cell_type": "code",
   "execution_count": 4,
   "metadata": {},
   "outputs": [],
   "source": [
    "rounding_index = 3\n",
    "df_rounded = df.copy()\n",
    "df_rounded['Apple Watch ENMO'] = df['Apple Watch ENMO'].round(rounding_index)\n",
    "df_rounded['ELMO_before'] = df['ELMO_before'].round(rounding_index)\n",
    "df_rounded['ELMO_after'] = df['ELMO_after'].round(rounding_index)\n",
    "#nums_rounded = df.to_numpy()"
   ]
  },
  {
   "cell_type": "code",
   "execution_count": 5,
   "metadata": {},
   "outputs": [],
   "source": [
    "df_rounded = df_rounded.dropna()"
   ]
  },
  {
   "cell_type": "code",
   "execution_count": 6,
   "metadata": {},
   "outputs": [
    {
     "data": {
      "text/html": [
       "<div>\n",
       "<style scoped>\n",
       "    .dataframe tbody tr th:only-of-type {\n",
       "        vertical-align: middle;\n",
       "    }\n",
       "\n",
       "    .dataframe tbody tr th {\n",
       "        vertical-align: top;\n",
       "    }\n",
       "\n",
       "    .dataframe thead th {\n",
       "        text-align: right;\n",
       "    }\n",
       "</style>\n",
       "<table border=\"1\" class=\"dataframe\">\n",
       "  <thead>\n",
       "    <tr style=\"text-align: right;\">\n",
       "      <th></th>\n",
       "      <th>Unnamed: 0</th>\n",
       "      <th>timestamp</th>\n",
       "      <th>Actiwatch activity counts</th>\n",
       "      <th>Actiware classification</th>\n",
       "      <th>Apple Watch ENMO</th>\n",
       "      <th>ELMO_before</th>\n",
       "      <th>ELMO_after</th>\n",
       "      <th>fileName</th>\n",
       "    </tr>\n",
       "  </thead>\n",
       "  <tbody>\n",
       "    <tr>\n",
       "      <th>0</th>\n",
       "      <td>28</td>\n",
       "      <td>01/01/2000 01:24:00</td>\n",
       "      <td>0.0</td>\n",
       "      <td>1.0</td>\n",
       "      <td>0.007</td>\n",
       "      <td>0.006</td>\n",
       "      <td>0.012</td>\n",
       "      <td>P02_N1</td>\n",
       "    </tr>\n",
       "    <tr>\n",
       "      <th>1</th>\n",
       "      <td>29</td>\n",
       "      <td>01/01/2000 01:24:15</td>\n",
       "      <td>4.0</td>\n",
       "      <td>0.0</td>\n",
       "      <td>0.012</td>\n",
       "      <td>0.007</td>\n",
       "      <td>0.007</td>\n",
       "      <td>P02_N1</td>\n",
       "    </tr>\n",
       "    <tr>\n",
       "      <th>2</th>\n",
       "      <td>30</td>\n",
       "      <td>01/01/2000 01:24:30</td>\n",
       "      <td>0.0</td>\n",
       "      <td>0.0</td>\n",
       "      <td>0.007</td>\n",
       "      <td>0.012</td>\n",
       "      <td>0.007</td>\n",
       "      <td>P02_N1</td>\n",
       "    </tr>\n",
       "    <tr>\n",
       "      <th>3</th>\n",
       "      <td>31</td>\n",
       "      <td>01/01/2000 01:24:45</td>\n",
       "      <td>0.0</td>\n",
       "      <td>0.0</td>\n",
       "      <td>0.007</td>\n",
       "      <td>0.007</td>\n",
       "      <td>0.007</td>\n",
       "      <td>P02_N1</td>\n",
       "    </tr>\n",
       "    <tr>\n",
       "      <th>4</th>\n",
       "      <td>32</td>\n",
       "      <td>01/01/2000 01:25:00</td>\n",
       "      <td>0.0</td>\n",
       "      <td>0.0</td>\n",
       "      <td>0.007</td>\n",
       "      <td>0.007</td>\n",
       "      <td>0.007</td>\n",
       "      <td>P02_N1</td>\n",
       "    </tr>\n",
       "    <tr>\n",
       "      <th>...</th>\n",
       "      <td>...</td>\n",
       "      <td>...</td>\n",
       "      <td>...</td>\n",
       "      <td>...</td>\n",
       "      <td>...</td>\n",
       "      <td>...</td>\n",
       "      <td>...</td>\n",
       "      <td>...</td>\n",
       "    </tr>\n",
       "    <tr>\n",
       "      <th>40655</th>\n",
       "      <td>1326</td>\n",
       "      <td>27/01/2000 04:15:30</td>\n",
       "      <td>0.0</td>\n",
       "      <td>0.0</td>\n",
       "      <td>0.005</td>\n",
       "      <td>0.005</td>\n",
       "      <td>0.005</td>\n",
       "      <td>P17_N1</td>\n",
       "    </tr>\n",
       "    <tr>\n",
       "      <th>40656</th>\n",
       "      <td>1327</td>\n",
       "      <td>27/01/2000 04:15:45</td>\n",
       "      <td>0.0</td>\n",
       "      <td>0.0</td>\n",
       "      <td>0.005</td>\n",
       "      <td>0.005</td>\n",
       "      <td>0.005</td>\n",
       "      <td>P17_N1</td>\n",
       "    </tr>\n",
       "    <tr>\n",
       "      <th>40657</th>\n",
       "      <td>1328</td>\n",
       "      <td>27/01/2000 04:16:00</td>\n",
       "      <td>0.0</td>\n",
       "      <td>0.0</td>\n",
       "      <td>0.005</td>\n",
       "      <td>0.005</td>\n",
       "      <td>0.005</td>\n",
       "      <td>P17_N1</td>\n",
       "    </tr>\n",
       "    <tr>\n",
       "      <th>40658</th>\n",
       "      <td>1329</td>\n",
       "      <td>27/01/2000 04:16:15</td>\n",
       "      <td>0.0</td>\n",
       "      <td>0.0</td>\n",
       "      <td>0.005</td>\n",
       "      <td>0.005</td>\n",
       "      <td>0.005</td>\n",
       "      <td>P17_N1</td>\n",
       "    </tr>\n",
       "    <tr>\n",
       "      <th>40659</th>\n",
       "      <td>1330</td>\n",
       "      <td>27/01/2000 04:16:30</td>\n",
       "      <td>0.0</td>\n",
       "      <td>0.0</td>\n",
       "      <td>0.005</td>\n",
       "      <td>0.005</td>\n",
       "      <td>0.005</td>\n",
       "      <td>P17_N1</td>\n",
       "    </tr>\n",
       "  </tbody>\n",
       "</table>\n",
       "<p>40656 rows × 8 columns</p>\n",
       "</div>"
      ],
      "text/plain": [
       "       Unnamed: 0            timestamp  Actiwatch activity counts  \\\n",
       "0              28  01/01/2000 01:24:00                        0.0   \n",
       "1              29  01/01/2000 01:24:15                        4.0   \n",
       "2              30  01/01/2000 01:24:30                        0.0   \n",
       "3              31  01/01/2000 01:24:45                        0.0   \n",
       "4              32  01/01/2000 01:25:00                        0.0   \n",
       "...           ...                  ...                        ...   \n",
       "40655        1326  27/01/2000 04:15:30                        0.0   \n",
       "40656        1327  27/01/2000 04:15:45                        0.0   \n",
       "40657        1328  27/01/2000 04:16:00                        0.0   \n",
       "40658        1329  27/01/2000 04:16:15                        0.0   \n",
       "40659        1330  27/01/2000 04:16:30                        0.0   \n",
       "\n",
       "       Actiware classification  Apple Watch ENMO  ELMO_before  ELMO_after  \\\n",
       "0                          1.0             0.007        0.006       0.012   \n",
       "1                          0.0             0.012        0.007       0.007   \n",
       "2                          0.0             0.007        0.012       0.007   \n",
       "3                          0.0             0.007        0.007       0.007   \n",
       "4                          0.0             0.007        0.007       0.007   \n",
       "...                        ...               ...          ...         ...   \n",
       "40655                      0.0             0.005        0.005       0.005   \n",
       "40656                      0.0             0.005        0.005       0.005   \n",
       "40657                      0.0             0.005        0.005       0.005   \n",
       "40658                      0.0             0.005        0.005       0.005   \n",
       "40659                      0.0             0.005        0.005       0.005   \n",
       "\n",
       "      fileName  \n",
       "0       P02_N1  \n",
       "1       P02_N1  \n",
       "2       P02_N1  \n",
       "3       P02_N1  \n",
       "4       P02_N1  \n",
       "...        ...  \n",
       "40655   P17_N1  \n",
       "40656   P17_N1  \n",
       "40657   P17_N1  \n",
       "40658   P17_N1  \n",
       "40659   P17_N1  \n",
       "\n",
       "[40656 rows x 8 columns]"
      ]
     },
     "execution_count": 6,
     "metadata": {},
     "output_type": "execute_result"
    }
   ],
   "source": [
    "df_rounded"
   ]
  },
  {
   "cell_type": "code",
   "execution_count": 7,
   "metadata": {},
   "outputs": [],
   "source": [
    "#df_rounded = df_rounded.drop_duplicates()\n",
    "#df_x_rounded = df_rounded[['Apple Watch ENMO']].copy()\n",
    "df_x_rounded = df_rounded[['Apple Watch ENMO', 'ELMO_before','ELMO_after']].copy()\n",
    "df_y_rounded = df_rounded[['Actiwatch activity counts']].copy()\n",
    "nums_rounded_x = df_x_rounded.to_numpy()\n",
    "nums_rounded_y = df_y_rounded.to_numpy()"
   ]
  },
  {
   "cell_type": "code",
   "execution_count": 8,
   "metadata": {},
   "outputs": [],
   "source": [
    "X_trainR, X_testR, y_trainR, y_testR = train_test_split(nums_rounded_x, nums_rounded_y, test_size=0.33, random_state=42)\n",
    "X_trainR = X_trainR.astype('float64')\n",
    "y_trainR = y_trainR.astype('int')\n",
    "X_testR = X_testR.astype('float64')\n",
    "y_testR = y_testR.astype('int')"
   ]
  },
  {
   "cell_type": "code",
   "execution_count": 9,
   "metadata": {},
   "outputs": [
    {
     "data": {
      "text/plain": [
       "array([[0],\n",
       "       [0],\n",
       "       [0],\n",
       "       ...,\n",
       "       [0],\n",
       "       [0],\n",
       "       [0]])"
      ]
     },
     "execution_count": 9,
     "metadata": {},
     "output_type": "execute_result"
    }
   ],
   "source": [
    "y_testR"
   ]
  },
  {
   "cell_type": "code",
   "execution_count": 108,
   "metadata": {},
   "outputs": [],
   "source": [
    "from sklearn.linear_model import LinearRegression"
   ]
  },
  {
   "cell_type": "code",
   "execution_count": 109,
   "metadata": {},
   "outputs": [],
   "source": [
    "model = LinearRegression().fit(X_trainR, y_trainR)"
   ]
  },
  {
   "cell_type": "code",
   "execution_count": 110,
   "metadata": {},
   "outputs": [
    {
     "name": "stdout",
     "output_type": "stream",
     "text": [
      "coefficient of determination: 0.888669565805582\n"
     ]
    }
   ],
   "source": [
    "r_sq = model.score(X_testR, y_testR)\n",
    "print(f\"coefficient of determination: {r_sq}\")\n",
    "#0.888669565805582"
   ]
  },
  {
   "cell_type": "code",
   "execution_count": 13,
   "metadata": {},
   "outputs": [],
   "source": [
    "from sklearn.ensemble import RandomForestRegressor"
   ]
  },
  {
   "cell_type": "code",
   "execution_count": 14,
   "metadata": {},
   "outputs": [],
   "source": [
    "regressor = RandomForestRegressor(n_estimators = 100, random_state = 0)"
   ]
  },
  {
   "cell_type": "code",
   "execution_count": 15,
   "metadata": {},
   "outputs": [
    {
     "data": {
      "text/plain": [
       "RandomForestRegressor(random_state=0)"
      ]
     },
     "execution_count": 15,
     "metadata": {},
     "output_type": "execute_result"
    }
   ],
   "source": [
    "regressor.fit(X_trainR, y_trainR) "
   ]
  },
  {
   "cell_type": "code",
   "execution_count": 17,
   "metadata": {},
   "outputs": [
    {
     "name": "stdout",
     "output_type": "stream",
     "text": [
      "coefficient of determination: 0.977306930748169\n"
     ]
    }
   ],
   "source": [
    "r_sq_2 = regressor.score(X_trainR, y_trainR)\n",
    "print(f\"coefficient of determination: {r_sq_2}\")"
   ]
  },
  {
   "cell_type": "code",
   "execution_count": 18,
   "metadata": {},
   "outputs": [
    {
     "data": {
      "text/plain": [
       "[<matplotlib.lines.Line2D at 0x7fa76300c0f0>,\n",
       " <matplotlib.lines.Line2D at 0x7fa76300c198>]"
      ]
     },
     "execution_count": 18,
     "metadata": {},
     "output_type": "execute_result"
    },
    {
     "data": {
      "image/png": "[encoded data removed]",
      "text/plain": [
       "<Figure size 432x288 with 1 Axes>"
      ]
     },
     "metadata": {},
     "output_type": "display_data"
    }
   ],
   "source": [
    "\n",
    "plt.plot(X_trainR[:, 0],y_trainR, 'yo', X_trainR[:, 0],regressor.predict(X_trainR), 'bo')"
   ]
  },
  {
   "cell_type": "code",
   "execution_count": 157,
   "metadata": {},
   "outputs": [
    {
     "data": {
      "text/plain": [
       "array([0, 0, 0, ..., 2, 0, 0])"
      ]
     },
     "execution_count": 157,
     "metadata": {},
     "output_type": "execute_result"
    }
   ],
   "source": [
    "regressor.predict(X_testR).astype('int')"
   ]
  },
  {
   "cell_type": "code",
   "execution_count": null,
   "metadata": {},
   "outputs": [],
   "source": []
  },
  {
   "cell_type": "markdown",
   "metadata": {},
   "source": [
    "Test on patient"
   ]
  },
  {
   "cell_type": "code",
   "execution_count": 120,
   "metadata": {},
   "outputs": [],
   "source": [
    "import_df = pd.read_csv('derived_data/P02_N1_filtered.csv')"
   ]
  },
  {
   "cell_type": "code",
   "execution_count": 121,
   "metadata": {},
   "outputs": [
    {
     "data": {
      "text/html": [
       "<div>\n",
       "<style scoped>\n",
       "    .dataframe tbody tr th:only-of-type {\n",
       "        vertical-align: middle;\n",
       "    }\n",
       "\n",
       "    .dataframe tbody tr th {\n",
       "        vertical-align: top;\n",
       "    }\n",
       "\n",
       "    .dataframe thead th {\n",
       "        text-align: right;\n",
       "    }\n",
       "</style>\n",
       "<table border=\"1\" class=\"dataframe\">\n",
       "  <thead>\n",
       "    <tr style=\"text-align: right;\">\n",
       "      <th></th>\n",
       "      <th>Unnamed: 0</th>\n",
       "      <th>timestamp</th>\n",
       "      <th>Actiwatch activity counts</th>\n",
       "      <th>Actiware classification</th>\n",
       "      <th>Apple Watch ENMO</th>\n",
       "      <th>ELMO_before</th>\n",
       "      <th>ELMO_after</th>\n",
       "    </tr>\n",
       "  </thead>\n",
       "  <tbody>\n",
       "    <tr>\n",
       "      <th>0</th>\n",
       "      <td>1</td>\n",
       "      <td>01/01/2000 01:17:15</td>\n",
       "      <td>NaN</td>\n",
       "      <td>NaN</td>\n",
       "      <td>0.002960</td>\n",
       "      <td>0.003123</td>\n",
       "      <td>0.002921</td>\n",
       "    </tr>\n",
       "    <tr>\n",
       "      <th>1</th>\n",
       "      <td>2</td>\n",
       "      <td>01/01/2000 01:17:30</td>\n",
       "      <td>NaN</td>\n",
       "      <td>NaN</td>\n",
       "      <td>0.002921</td>\n",
       "      <td>0.002960</td>\n",
       "      <td>0.002907</td>\n",
       "    </tr>\n",
       "    <tr>\n",
       "      <th>2</th>\n",
       "      <td>3</td>\n",
       "      <td>01/01/2000 01:17:45</td>\n",
       "      <td>NaN</td>\n",
       "      <td>NaN</td>\n",
       "      <td>0.002907</td>\n",
       "      <td>0.002921</td>\n",
       "      <td>0.002932</td>\n",
       "    </tr>\n",
       "    <tr>\n",
       "      <th>3</th>\n",
       "      <td>4</td>\n",
       "      <td>01/01/2000 01:18:00</td>\n",
       "      <td>NaN</td>\n",
       "      <td>NaN</td>\n",
       "      <td>0.002932</td>\n",
       "      <td>0.002907</td>\n",
       "      <td>0.002989</td>\n",
       "    </tr>\n",
       "    <tr>\n",
       "      <th>4</th>\n",
       "      <td>5</td>\n",
       "      <td>01/01/2000 01:18:15</td>\n",
       "      <td>NaN</td>\n",
       "      <td>NaN</td>\n",
       "      <td>0.002989</td>\n",
       "      <td>0.002932</td>\n",
       "      <td>0.002895</td>\n",
       "    </tr>\n",
       "    <tr>\n",
       "      <th>...</th>\n",
       "      <td>...</td>\n",
       "      <td>...</td>\n",
       "      <td>...</td>\n",
       "      <td>...</td>\n",
       "      <td>...</td>\n",
       "      <td>...</td>\n",
       "      <td>...</td>\n",
       "    </tr>\n",
       "    <tr>\n",
       "      <th>1524</th>\n",
       "      <td>1525</td>\n",
       "      <td>01/01/2000 07:38:15</td>\n",
       "      <td>NaN</td>\n",
       "      <td>NaN</td>\n",
       "      <td>0.009588</td>\n",
       "      <td>0.031224</td>\n",
       "      <td>0.008137</td>\n",
       "    </tr>\n",
       "    <tr>\n",
       "      <th>1525</th>\n",
       "      <td>1526</td>\n",
       "      <td>01/01/2000 07:38:30</td>\n",
       "      <td>NaN</td>\n",
       "      <td>NaN</td>\n",
       "      <td>0.008137</td>\n",
       "      <td>0.009588</td>\n",
       "      <td>0.007895</td>\n",
       "    </tr>\n",
       "    <tr>\n",
       "      <th>1526</th>\n",
       "      <td>1527</td>\n",
       "      <td>01/01/2000 07:38:45</td>\n",
       "      <td>NaN</td>\n",
       "      <td>NaN</td>\n",
       "      <td>0.007895</td>\n",
       "      <td>0.008137</td>\n",
       "      <td>0.008153</td>\n",
       "    </tr>\n",
       "    <tr>\n",
       "      <th>1527</th>\n",
       "      <td>1528</td>\n",
       "      <td>01/01/2000 07:39:00</td>\n",
       "      <td>NaN</td>\n",
       "      <td>NaN</td>\n",
       "      <td>0.008153</td>\n",
       "      <td>0.007895</td>\n",
       "      <td>0.008433</td>\n",
       "    </tr>\n",
       "    <tr>\n",
       "      <th>1528</th>\n",
       "      <td>1529</td>\n",
       "      <td>01/01/2000 07:39:15</td>\n",
       "      <td>NaN</td>\n",
       "      <td>NaN</td>\n",
       "      <td>0.008433</td>\n",
       "      <td>0.008153</td>\n",
       "      <td>0.007968</td>\n",
       "    </tr>\n",
       "  </tbody>\n",
       "</table>\n",
       "<p>1529 rows × 7 columns</p>\n",
       "</div>"
      ],
      "text/plain": [
       "      Unnamed: 0            timestamp  Actiwatch activity counts  \\\n",
       "0              1  01/01/2000 01:17:15                        NaN   \n",
       "1              2  01/01/2000 01:17:30                        NaN   \n",
       "2              3  01/01/2000 01:17:45                        NaN   \n",
       "3              4  01/01/2000 01:18:00                        NaN   \n",
       "4              5  01/01/2000 01:18:15                        NaN   \n",
       "...          ...                  ...                        ...   \n",
       "1524        1525  01/01/2000 07:38:15                        NaN   \n",
       "1525        1526  01/01/2000 07:38:30                        NaN   \n",
       "1526        1527  01/01/2000 07:38:45                        NaN   \n",
       "1527        1528  01/01/2000 07:39:00                        NaN   \n",
       "1528        1529  01/01/2000 07:39:15                        NaN   \n",
       "\n",
       "      Actiware classification  Apple Watch ENMO  ELMO_before  ELMO_after  \n",
       "0                         NaN          0.002960     0.003123    0.002921  \n",
       "1                         NaN          0.002921     0.002960    0.002907  \n",
       "2                         NaN          0.002907     0.002921    0.002932  \n",
       "3                         NaN          0.002932     0.002907    0.002989  \n",
       "4                         NaN          0.002989     0.002932    0.002895  \n",
       "...                       ...               ...          ...         ...  \n",
       "1524                      NaN          0.009588     0.031224    0.008137  \n",
       "1525                      NaN          0.008137     0.009588    0.007895  \n",
       "1526                      NaN          0.007895     0.008137    0.008153  \n",
       "1527                      NaN          0.008153     0.007895    0.008433  \n",
       "1528                      NaN          0.008433     0.008153    0.007968  \n",
       "\n",
       "[1529 rows x 7 columns]"
      ]
     },
     "execution_count": 121,
     "metadata": {},
     "output_type": "execute_result"
    }
   ],
   "source": [
    "import_df"
   ]
  },
  {
   "cell_type": "code",
   "execution_count": 122,
   "metadata": {},
   "outputs": [],
   "source": [
    "test_df = import_df[['Apple Watch ENMO','ELMO_before','ELMO_after']].copy()"
   ]
  },
  {
   "cell_type": "code",
   "execution_count": 123,
   "metadata": {},
   "outputs": [
    {
     "data": {
      "text/plain": [
       "array([[0.00295982, 0.00312263, 0.00292132],\n",
       "       [0.00292132, 0.00295982, 0.00290699],\n",
       "       [0.00290699, 0.00292132, 0.00293243],\n",
       "       ...,\n",
       "       [0.00789527, 0.00813657, 0.0081535 ],\n",
       "       [0.0081535 , 0.00789527, 0.00843327],\n",
       "       [0.00843327, 0.0081535 , 0.00796823]])"
      ]
     },
     "execution_count": 123,
     "metadata": {},
     "output_type": "execute_result"
    }
   ],
   "source": [
    "test_nums = test_df.to_numpy()\n",
    "test_nums"
   ]
  },
  {
   "cell_type": "code",
   "execution_count": 124,
   "metadata": {},
   "outputs": [],
   "source": [
    "predict = gnb.predict(test_nums).astype('int')"
   ]
  },
  {
   "cell_type": "code",
   "execution_count": 125,
   "metadata": {},
   "outputs": [],
   "source": [
    "import_df['predicted_actiwatch']= predict"
   ]
  },
  {
   "cell_type": "code",
   "execution_count": 126,
   "metadata": {},
   "outputs": [
    {
     "data": {
      "text/html": [
       "<div>\n",
       "<style scoped>\n",
       "    .dataframe tbody tr th:only-of-type {\n",
       "        vertical-align: middle;\n",
       "    }\n",
       "\n",
       "    .dataframe tbody tr th {\n",
       "        vertical-align: top;\n",
       "    }\n",
       "\n",
       "    .dataframe thead th {\n",
       "        text-align: right;\n",
       "    }\n",
       "</style>\n",
       "<table border=\"1\" class=\"dataframe\">\n",
       "  <thead>\n",
       "    <tr style=\"text-align: right;\">\n",
       "      <th></th>\n",
       "      <th>Unnamed: 0</th>\n",
       "      <th>timestamp</th>\n",
       "      <th>Actiwatch activity counts</th>\n",
       "      <th>Actiware classification</th>\n",
       "      <th>Apple Watch ENMO</th>\n",
       "      <th>ELMO_before</th>\n",
       "      <th>ELMO_after</th>\n",
       "      <th>predicted_actiwatch</th>\n",
       "    </tr>\n",
       "  </thead>\n",
       "  <tbody>\n",
       "    <tr>\n",
       "      <th>0</th>\n",
       "      <td>1</td>\n",
       "      <td>01/01/2000 01:17:15</td>\n",
       "      <td>NaN</td>\n",
       "      <td>NaN</td>\n",
       "      <td>0.002960</td>\n",
       "      <td>0.003123</td>\n",
       "      <td>0.002921</td>\n",
       "      <td>0</td>\n",
       "    </tr>\n",
       "    <tr>\n",
       "      <th>1</th>\n",
       "      <td>2</td>\n",
       "      <td>01/01/2000 01:17:30</td>\n",
       "      <td>NaN</td>\n",
       "      <td>NaN</td>\n",
       "      <td>0.002921</td>\n",
       "      <td>0.002960</td>\n",
       "      <td>0.002907</td>\n",
       "      <td>0</td>\n",
       "    </tr>\n",
       "    <tr>\n",
       "      <th>2</th>\n",
       "      <td>3</td>\n",
       "      <td>01/01/2000 01:17:45</td>\n",
       "      <td>NaN</td>\n",
       "      <td>NaN</td>\n",
       "      <td>0.002907</td>\n",
       "      <td>0.002921</td>\n",
       "      <td>0.002932</td>\n",
       "      <td>0</td>\n",
       "    </tr>\n",
       "    <tr>\n",
       "      <th>3</th>\n",
       "      <td>4</td>\n",
       "      <td>01/01/2000 01:18:00</td>\n",
       "      <td>NaN</td>\n",
       "      <td>NaN</td>\n",
       "      <td>0.002932</td>\n",
       "      <td>0.002907</td>\n",
       "      <td>0.002989</td>\n",
       "      <td>0</td>\n",
       "    </tr>\n",
       "    <tr>\n",
       "      <th>4</th>\n",
       "      <td>5</td>\n",
       "      <td>01/01/2000 01:18:15</td>\n",
       "      <td>NaN</td>\n",
       "      <td>NaN</td>\n",
       "      <td>0.002989</td>\n",
       "      <td>0.002932</td>\n",
       "      <td>0.002895</td>\n",
       "      <td>0</td>\n",
       "    </tr>\n",
       "    <tr>\n",
       "      <th>5</th>\n",
       "      <td>6</td>\n",
       "      <td>01/01/2000 01:18:30</td>\n",
       "      <td>NaN</td>\n",
       "      <td>NaN</td>\n",
       "      <td>0.002895</td>\n",
       "      <td>0.002989</td>\n",
       "      <td>0.002916</td>\n",
       "      <td>0</td>\n",
       "    </tr>\n",
       "    <tr>\n",
       "      <th>6</th>\n",
       "      <td>7</td>\n",
       "      <td>01/01/2000 01:18:45</td>\n",
       "      <td>NaN</td>\n",
       "      <td>NaN</td>\n",
       "      <td>0.002916</td>\n",
       "      <td>0.002895</td>\n",
       "      <td>0.002746</td>\n",
       "      <td>0</td>\n",
       "    </tr>\n",
       "    <tr>\n",
       "      <th>7</th>\n",
       "      <td>8</td>\n",
       "      <td>01/01/2000 01:19:00</td>\n",
       "      <td>NaN</td>\n",
       "      <td>NaN</td>\n",
       "      <td>0.002746</td>\n",
       "      <td>0.002916</td>\n",
       "      <td>0.038737</td>\n",
       "      <td>2</td>\n",
       "    </tr>\n",
       "    <tr>\n",
       "      <th>8</th>\n",
       "      <td>9</td>\n",
       "      <td>01/01/2000 01:19:15</td>\n",
       "      <td>NaN</td>\n",
       "      <td>NaN</td>\n",
       "      <td>0.038737</td>\n",
       "      <td>0.002746</td>\n",
       "      <td>0.065249</td>\n",
       "      <td>94</td>\n",
       "    </tr>\n",
       "    <tr>\n",
       "      <th>9</th>\n",
       "      <td>10</td>\n",
       "      <td>01/01/2000 01:19:30</td>\n",
       "      <td>NaN</td>\n",
       "      <td>NaN</td>\n",
       "      <td>0.065249</td>\n",
       "      <td>0.038737</td>\n",
       "      <td>0.057662</td>\n",
       "      <td>64</td>\n",
       "    </tr>\n",
       "    <tr>\n",
       "      <th>10</th>\n",
       "      <td>11</td>\n",
       "      <td>01/01/2000 01:19:45</td>\n",
       "      <td>129.0</td>\n",
       "      <td>NaN</td>\n",
       "      <td>0.057662</td>\n",
       "      <td>0.065249</td>\n",
       "      <td>0.049340</td>\n",
       "      <td>67</td>\n",
       "    </tr>\n",
       "    <tr>\n",
       "      <th>11</th>\n",
       "      <td>12</td>\n",
       "      <td>01/01/2000 01:20:00</td>\n",
       "      <td>109.0</td>\n",
       "      <td>NaN</td>\n",
       "      <td>0.049340</td>\n",
       "      <td>0.057662</td>\n",
       "      <td>0.099225</td>\n",
       "      <td>76</td>\n",
       "    </tr>\n",
       "    <tr>\n",
       "      <th>12</th>\n",
       "      <td>13</td>\n",
       "      <td>01/01/2000 01:20:15</td>\n",
       "      <td>113.0</td>\n",
       "      <td>NaN</td>\n",
       "      <td>0.099225</td>\n",
       "      <td>0.049340</td>\n",
       "      <td>0.104355</td>\n",
       "      <td>139</td>\n",
       "    </tr>\n",
       "    <tr>\n",
       "      <th>13</th>\n",
       "      <td>14</td>\n",
       "      <td>01/01/2000 01:20:30</td>\n",
       "      <td>188.0</td>\n",
       "      <td>NaN</td>\n",
       "      <td>0.104355</td>\n",
       "      <td>0.099225</td>\n",
       "      <td>0.007234</td>\n",
       "      <td>105</td>\n",
       "    </tr>\n",
       "    <tr>\n",
       "      <th>14</th>\n",
       "      <td>15</td>\n",
       "      <td>01/01/2000 01:20:45</td>\n",
       "      <td>0.0</td>\n",
       "      <td>1.0</td>\n",
       "      <td>0.007234</td>\n",
       "      <td>0.104355</td>\n",
       "      <td>0.030109</td>\n",
       "      <td>8</td>\n",
       "    </tr>\n",
       "    <tr>\n",
       "      <th>15</th>\n",
       "      <td>16</td>\n",
       "      <td>01/01/2000 01:21:00</td>\n",
       "      <td>24.0</td>\n",
       "      <td>1.0</td>\n",
       "      <td>0.030109</td>\n",
       "      <td>0.007234</td>\n",
       "      <td>0.008785</td>\n",
       "      <td>28</td>\n",
       "    </tr>\n",
       "    <tr>\n",
       "      <th>16</th>\n",
       "      <td>17</td>\n",
       "      <td>01/01/2000 01:21:15</td>\n",
       "      <td>3.0</td>\n",
       "      <td>1.0</td>\n",
       "      <td>0.008785</td>\n",
       "      <td>0.030109</td>\n",
       "      <td>0.007893</td>\n",
       "      <td>3</td>\n",
       "    </tr>\n",
       "    <tr>\n",
       "      <th>17</th>\n",
       "      <td>18</td>\n",
       "      <td>01/01/2000 01:21:30</td>\n",
       "      <td>0.0</td>\n",
       "      <td>1.0</td>\n",
       "      <td>0.007893</td>\n",
       "      <td>0.008785</td>\n",
       "      <td>0.007761</td>\n",
       "      <td>0</td>\n",
       "    </tr>\n",
       "    <tr>\n",
       "      <th>18</th>\n",
       "      <td>19</td>\n",
       "      <td>01/01/2000 01:21:45</td>\n",
       "      <td>3.0</td>\n",
       "      <td>1.0</td>\n",
       "      <td>0.007761</td>\n",
       "      <td>0.007893</td>\n",
       "      <td>0.006469</td>\n",
       "      <td>0</td>\n",
       "    </tr>\n",
       "    <tr>\n",
       "      <th>19</th>\n",
       "      <td>20</td>\n",
       "      <td>01/01/2000 01:22:00</td>\n",
       "      <td>0.0</td>\n",
       "      <td>1.0</td>\n",
       "      <td>0.006469</td>\n",
       "      <td>0.007761</td>\n",
       "      <td>0.005791</td>\n",
       "      <td>0</td>\n",
       "    </tr>\n",
       "    <tr>\n",
       "      <th>20</th>\n",
       "      <td>21</td>\n",
       "      <td>01/01/2000 01:22:15</td>\n",
       "      <td>0.0</td>\n",
       "      <td>1.0</td>\n",
       "      <td>0.005791</td>\n",
       "      <td>0.006469</td>\n",
       "      <td>0.017378</td>\n",
       "      <td>0</td>\n",
       "    </tr>\n",
       "    <tr>\n",
       "      <th>21</th>\n",
       "      <td>22</td>\n",
       "      <td>01/01/2000 01:22:30</td>\n",
       "      <td>0.0</td>\n",
       "      <td>1.0</td>\n",
       "      <td>0.017378</td>\n",
       "      <td>0.005791</td>\n",
       "      <td>0.159258</td>\n",
       "      <td>23</td>\n",
       "    </tr>\n",
       "    <tr>\n",
       "      <th>22</th>\n",
       "      <td>23</td>\n",
       "      <td>01/01/2000 01:22:45</td>\n",
       "      <td>182.0</td>\n",
       "      <td>1.0</td>\n",
       "      <td>0.159258</td>\n",
       "      <td>0.017378</td>\n",
       "      <td>0.088535</td>\n",
       "      <td>149</td>\n",
       "    </tr>\n",
       "    <tr>\n",
       "      <th>23</th>\n",
       "      <td>24</td>\n",
       "      <td>01/01/2000 01:23:00</td>\n",
       "      <td>164.0</td>\n",
       "      <td>1.0</td>\n",
       "      <td>0.088535</td>\n",
       "      <td>0.159258</td>\n",
       "      <td>0.014816</td>\n",
       "      <td>125</td>\n",
       "    </tr>\n",
       "    <tr>\n",
       "      <th>24</th>\n",
       "      <td>25</td>\n",
       "      <td>01/01/2000 01:23:15</td>\n",
       "      <td>12.0</td>\n",
       "      <td>1.0</td>\n",
       "      <td>0.014816</td>\n",
       "      <td>0.088535</td>\n",
       "      <td>0.006586</td>\n",
       "      <td>27</td>\n",
       "    </tr>\n",
       "    <tr>\n",
       "      <th>25</th>\n",
       "      <td>26</td>\n",
       "      <td>01/01/2000 01:23:30</td>\n",
       "      <td>0.0</td>\n",
       "      <td>1.0</td>\n",
       "      <td>0.006586</td>\n",
       "      <td>0.014816</td>\n",
       "      <td>0.006270</td>\n",
       "      <td>0</td>\n",
       "    </tr>\n",
       "    <tr>\n",
       "      <th>26</th>\n",
       "      <td>27</td>\n",
       "      <td>01/01/2000 01:23:45</td>\n",
       "      <td>0.0</td>\n",
       "      <td>1.0</td>\n",
       "      <td>0.006270</td>\n",
       "      <td>0.006586</td>\n",
       "      <td>0.006943</td>\n",
       "      <td>0</td>\n",
       "    </tr>\n",
       "    <tr>\n",
       "      <th>27</th>\n",
       "      <td>28</td>\n",
       "      <td>01/01/2000 01:24:00</td>\n",
       "      <td>0.0</td>\n",
       "      <td>1.0</td>\n",
       "      <td>0.006943</td>\n",
       "      <td>0.006270</td>\n",
       "      <td>0.012221</td>\n",
       "      <td>0</td>\n",
       "    </tr>\n",
       "    <tr>\n",
       "      <th>28</th>\n",
       "      <td>29</td>\n",
       "      <td>01/01/2000 01:24:15</td>\n",
       "      <td>4.0</td>\n",
       "      <td>0.0</td>\n",
       "      <td>0.012221</td>\n",
       "      <td>0.006943</td>\n",
       "      <td>0.006598</td>\n",
       "      <td>9</td>\n",
       "    </tr>\n",
       "    <tr>\n",
       "      <th>29</th>\n",
       "      <td>30</td>\n",
       "      <td>01/01/2000 01:24:30</td>\n",
       "      <td>0.0</td>\n",
       "      <td>0.0</td>\n",
       "      <td>0.006598</td>\n",
       "      <td>0.012221</td>\n",
       "      <td>0.006625</td>\n",
       "      <td>0</td>\n",
       "    </tr>\n",
       "  </tbody>\n",
       "</table>\n",
       "</div>"
      ],
      "text/plain": [
       "    Unnamed: 0            timestamp  Actiwatch activity counts  \\\n",
       "0            1  01/01/2000 01:17:15                        NaN   \n",
       "1            2  01/01/2000 01:17:30                        NaN   \n",
       "2            3  01/01/2000 01:17:45                        NaN   \n",
       "3            4  01/01/2000 01:18:00                        NaN   \n",
       "4            5  01/01/2000 01:18:15                        NaN   \n",
       "5            6  01/01/2000 01:18:30                        NaN   \n",
       "6            7  01/01/2000 01:18:45                        NaN   \n",
       "7            8  01/01/2000 01:19:00                        NaN   \n",
       "8            9  01/01/2000 01:19:15                        NaN   \n",
       "9           10  01/01/2000 01:19:30                        NaN   \n",
       "10          11  01/01/2000 01:19:45                      129.0   \n",
       "11          12  01/01/2000 01:20:00                      109.0   \n",
       "12          13  01/01/2000 01:20:15                      113.0   \n",
       "13          14  01/01/2000 01:20:30                      188.0   \n",
       "14          15  01/01/2000 01:20:45                        0.0   \n",
       "15          16  01/01/2000 01:21:00                       24.0   \n",
       "16          17  01/01/2000 01:21:15                        3.0   \n",
       "17          18  01/01/2000 01:21:30                        0.0   \n",
       "18          19  01/01/2000 01:21:45                        3.0   \n",
       "19          20  01/01/2000 01:22:00                        0.0   \n",
       "20          21  01/01/2000 01:22:15                        0.0   \n",
       "21          22  01/01/2000 01:22:30                        0.0   \n",
       "22          23  01/01/2000 01:22:45                      182.0   \n",
       "23          24  01/01/2000 01:23:00                      164.0   \n",
       "24          25  01/01/2000 01:23:15                       12.0   \n",
       "25          26  01/01/2000 01:23:30                        0.0   \n",
       "26          27  01/01/2000 01:23:45                        0.0   \n",
       "27          28  01/01/2000 01:24:00                        0.0   \n",
       "28          29  01/01/2000 01:24:15                        4.0   \n",
       "29          30  01/01/2000 01:24:30                        0.0   \n",
       "\n",
       "    Actiware classification  Apple Watch ENMO  ELMO_before  ELMO_after  \\\n",
       "0                       NaN          0.002960     0.003123    0.002921   \n",
       "1                       NaN          0.002921     0.002960    0.002907   \n",
       "2                       NaN          0.002907     0.002921    0.002932   \n",
       "3                       NaN          0.002932     0.002907    0.002989   \n",
       "4                       NaN          0.002989     0.002932    0.002895   \n",
       "5                       NaN          0.002895     0.002989    0.002916   \n",
       "6                       NaN          0.002916     0.002895    0.002746   \n",
       "7                       NaN          0.002746     0.002916    0.038737   \n",
       "8                       NaN          0.038737     0.002746    0.065249   \n",
       "9                       NaN          0.065249     0.038737    0.057662   \n",
       "10                      NaN          0.057662     0.065249    0.049340   \n",
       "11                      NaN          0.049340     0.057662    0.099225   \n",
       "12                      NaN          0.099225     0.049340    0.104355   \n",
       "13                      NaN          0.104355     0.099225    0.007234   \n",
       "14                      1.0          0.007234     0.104355    0.030109   \n",
       "15                      1.0          0.030109     0.007234    0.008785   \n",
       "16                      1.0          0.008785     0.030109    0.007893   \n",
       "17                      1.0          0.007893     0.008785    0.007761   \n",
       "18                      1.0          0.007761     0.007893    0.006469   \n",
       "19                      1.0          0.006469     0.007761    0.005791   \n",
       "20                      1.0          0.005791     0.006469    0.017378   \n",
       "21                      1.0          0.017378     0.005791    0.159258   \n",
       "22                      1.0          0.159258     0.017378    0.088535   \n",
       "23                      1.0          0.088535     0.159258    0.014816   \n",
       "24                      1.0          0.014816     0.088535    0.006586   \n",
       "25                      1.0          0.006586     0.014816    0.006270   \n",
       "26                      1.0          0.006270     0.006586    0.006943   \n",
       "27                      1.0          0.006943     0.006270    0.012221   \n",
       "28                      0.0          0.012221     0.006943    0.006598   \n",
       "29                      0.0          0.006598     0.012221    0.006625   \n",
       "\n",
       "    predicted_actiwatch  \n",
       "0                     0  \n",
       "1                     0  \n",
       "2                     0  \n",
       "3                     0  \n",
       "4                     0  \n",
       "5                     0  \n",
       "6                     0  \n",
       "7                     2  \n",
       "8                    94  \n",
       "9                    64  \n",
       "10                   67  \n",
       "11                   76  \n",
       "12                  139  \n",
       "13                  105  \n",
       "14                    8  \n",
       "15                   28  \n",
       "16                    3  \n",
       "17                    0  \n",
       "18                    0  \n",
       "19                    0  \n",
       "20                    0  \n",
       "21                   23  \n",
       "22                  149  \n",
       "23                  125  \n",
       "24                   27  \n",
       "25                    0  \n",
       "26                    0  \n",
       "27                    0  \n",
       "28                    9  \n",
       "29                    0  "
      ]
     },
     "execution_count": 126,
     "metadata": {},
     "output_type": "execute_result"
    }
   ],
   "source": [
    "import_df.head(30)"
   ]
  },
  {
   "cell_type": "markdown",
   "metadata": {},
   "source": [
    "Implement algorithm"
   ]
  },
  {
   "cell_type": "code",
   "execution_count": 127,
   "metadata": {},
   "outputs": [],
   "source": [
    "for index, row in import_df.iterrows():\n",
    "    if index <= 8 or index >= len(import_df.index)-8:\n",
    "        continue\n",
    "\n",
    "    #part 1\n",
    "    p1 = 0\n",
    "    for i in range(-8,-4):\n",
    "        j = index + i\n",
    "        p1 = p1 + import_df.loc[j]['predicted_actiwatch']\n",
    "\n",
    "    #part 2\n",
    "    p2 = 0\n",
    "    for i in range(-4,0):\n",
    "        j = index + i\n",
    "        p2 = p2 + import_df.loc[j]['predicted_actiwatch']\n",
    "\n",
    "    #part 3\n",
    "    p3 = 0\n",
    "    for i in range(1,5):\n",
    "        j = index + i\n",
    "        p3 = p3 + import_df.loc[j]['predicted_actiwatch']\n",
    "\n",
    "    #part 4\n",
    "    p4 = 0\n",
    "    for i in range(5,9):\n",
    "        j = index + i\n",
    "        p4 = p4 + import_df.loc[j]['predicted_actiwatch']\n",
    "\n",
    "    #Calculate total counts\n",
    "    import_df.at[index, 'total_counts'] = 0.04*p1 + 0.2*p2 + 4*import_df.loc[index]['predicted_actiwatch'] + 0.2*p3 + 0.04*p4\n",
    "\n"
   ]
  },
  {
   "cell_type": "code",
   "execution_count": 128,
   "metadata": {},
   "outputs": [],
   "source": [
    "def predict_sleep_awake(row):\n",
    "    if row['total_counts'] <= 20:\n",
    "        return 0\n",
    "    else:\n",
    "        return 1\n",
    "\n",
    "\n",
    "    "
   ]
  },
  {
   "cell_type": "code",
   "execution_count": 129,
   "metadata": {},
   "outputs": [],
   "source": [
    "import_df['predicted_sleep'] = import_df.apply (lambda row: predict_sleep_awake(row), axis=1)"
   ]
  },
  {
   "cell_type": "code",
   "execution_count": 130,
   "metadata": {},
   "outputs": [
    {
     "data": {
      "text/html": [
       "<div>\n",
       "<style scoped>\n",
       "    .dataframe tbody tr th:only-of-type {\n",
       "        vertical-align: middle;\n",
       "    }\n",
       "\n",
       "    .dataframe tbody tr th {\n",
       "        vertical-align: top;\n",
       "    }\n",
       "\n",
       "    .dataframe thead th {\n",
       "        text-align: right;\n",
       "    }\n",
       "</style>\n",
       "<table border=\"1\" class=\"dataframe\">\n",
       "  <thead>\n",
       "    <tr style=\"text-align: right;\">\n",
       "      <th></th>\n",
       "      <th>Unnamed: 0</th>\n",
       "      <th>timestamp</th>\n",
       "      <th>Actiwatch activity counts</th>\n",
       "      <th>Actiware classification</th>\n",
       "      <th>Apple Watch ENMO</th>\n",
       "      <th>ELMO_before</th>\n",
       "      <th>ELMO_after</th>\n",
       "      <th>predicted_actiwatch</th>\n",
       "      <th>total_counts</th>\n",
       "      <th>predicted_sleep</th>\n",
       "    </tr>\n",
       "  </thead>\n",
       "  <tbody>\n",
       "    <tr>\n",
       "      <th>0</th>\n",
       "      <td>1</td>\n",
       "      <td>01/01/2000 01:17:15</td>\n",
       "      <td>NaN</td>\n",
       "      <td>NaN</td>\n",
       "      <td>0.002960</td>\n",
       "      <td>0.003123</td>\n",
       "      <td>0.002921</td>\n",
       "      <td>0</td>\n",
       "      <td>NaN</td>\n",
       "      <td>1</td>\n",
       "    </tr>\n",
       "    <tr>\n",
       "      <th>1</th>\n",
       "      <td>2</td>\n",
       "      <td>01/01/2000 01:17:30</td>\n",
       "      <td>NaN</td>\n",
       "      <td>NaN</td>\n",
       "      <td>0.002921</td>\n",
       "      <td>0.002960</td>\n",
       "      <td>0.002907</td>\n",
       "      <td>0</td>\n",
       "      <td>NaN</td>\n",
       "      <td>1</td>\n",
       "    </tr>\n",
       "    <tr>\n",
       "      <th>2</th>\n",
       "      <td>3</td>\n",
       "      <td>01/01/2000 01:17:45</td>\n",
       "      <td>NaN</td>\n",
       "      <td>NaN</td>\n",
       "      <td>0.002907</td>\n",
       "      <td>0.002921</td>\n",
       "      <td>0.002932</td>\n",
       "      <td>0</td>\n",
       "      <td>NaN</td>\n",
       "      <td>1</td>\n",
       "    </tr>\n",
       "    <tr>\n",
       "      <th>3</th>\n",
       "      <td>4</td>\n",
       "      <td>01/01/2000 01:18:00</td>\n",
       "      <td>NaN</td>\n",
       "      <td>NaN</td>\n",
       "      <td>0.002932</td>\n",
       "      <td>0.002907</td>\n",
       "      <td>0.002989</td>\n",
       "      <td>0</td>\n",
       "      <td>NaN</td>\n",
       "      <td>1</td>\n",
       "    </tr>\n",
       "    <tr>\n",
       "      <th>4</th>\n",
       "      <td>5</td>\n",
       "      <td>01/01/2000 01:18:15</td>\n",
       "      <td>NaN</td>\n",
       "      <td>NaN</td>\n",
       "      <td>0.002989</td>\n",
       "      <td>0.002932</td>\n",
       "      <td>0.002895</td>\n",
       "      <td>0</td>\n",
       "      <td>NaN</td>\n",
       "      <td>1</td>\n",
       "    </tr>\n",
       "    <tr>\n",
       "      <th>5</th>\n",
       "      <td>6</td>\n",
       "      <td>01/01/2000 01:18:30</td>\n",
       "      <td>NaN</td>\n",
       "      <td>NaN</td>\n",
       "      <td>0.002895</td>\n",
       "      <td>0.002989</td>\n",
       "      <td>0.002916</td>\n",
       "      <td>0</td>\n",
       "      <td>NaN</td>\n",
       "      <td>1</td>\n",
       "    </tr>\n",
       "    <tr>\n",
       "      <th>6</th>\n",
       "      <td>7</td>\n",
       "      <td>01/01/2000 01:18:45</td>\n",
       "      <td>NaN</td>\n",
       "      <td>NaN</td>\n",
       "      <td>0.002916</td>\n",
       "      <td>0.002895</td>\n",
       "      <td>0.002746</td>\n",
       "      <td>0</td>\n",
       "      <td>NaN</td>\n",
       "      <td>1</td>\n",
       "    </tr>\n",
       "    <tr>\n",
       "      <th>7</th>\n",
       "      <td>8</td>\n",
       "      <td>01/01/2000 01:19:00</td>\n",
       "      <td>NaN</td>\n",
       "      <td>NaN</td>\n",
       "      <td>0.002746</td>\n",
       "      <td>0.002916</td>\n",
       "      <td>0.038737</td>\n",
       "      <td>2</td>\n",
       "      <td>NaN</td>\n",
       "      <td>1</td>\n",
       "    </tr>\n",
       "    <tr>\n",
       "      <th>8</th>\n",
       "      <td>9</td>\n",
       "      <td>01/01/2000 01:19:15</td>\n",
       "      <td>NaN</td>\n",
       "      <td>NaN</td>\n",
       "      <td>0.038737</td>\n",
       "      <td>0.002746</td>\n",
       "      <td>0.065249</td>\n",
       "      <td>94</td>\n",
       "      <td>NaN</td>\n",
       "      <td>1</td>\n",
       "    </tr>\n",
       "    <tr>\n",
       "      <th>9</th>\n",
       "      <td>10</td>\n",
       "      <td>01/01/2000 01:19:30</td>\n",
       "      <td>NaN</td>\n",
       "      <td>NaN</td>\n",
       "      <td>0.065249</td>\n",
       "      <td>0.038737</td>\n",
       "      <td>0.057662</td>\n",
       "      <td>64</td>\n",
       "      <td>354.16</td>\n",
       "      <td>1</td>\n",
       "    </tr>\n",
       "    <tr>\n",
       "      <th>10</th>\n",
       "      <td>11</td>\n",
       "      <td>01/01/2000 01:19:45</td>\n",
       "      <td>129.0</td>\n",
       "      <td>NaN</td>\n",
       "      <td>0.057662</td>\n",
       "      <td>0.065249</td>\n",
       "      <td>0.049340</td>\n",
       "      <td>67</td>\n",
       "      <td>366.84</td>\n",
       "      <td>1</td>\n",
       "    </tr>\n",
       "    <tr>\n",
       "      <th>11</th>\n",
       "      <td>12</td>\n",
       "      <td>01/01/2000 01:20:00</td>\n",
       "      <td>109.0</td>\n",
       "      <td>NaN</td>\n",
       "      <td>0.049340</td>\n",
       "      <td>0.057662</td>\n",
       "      <td>0.099225</td>\n",
       "      <td>76</td>\n",
       "      <td>405.52</td>\n",
       "      <td>1</td>\n",
       "    </tr>\n",
       "    <tr>\n",
       "      <th>12</th>\n",
       "      <td>13</td>\n",
       "      <td>01/01/2000 01:20:15</td>\n",
       "      <td>113.0</td>\n",
       "      <td>NaN</td>\n",
       "      <td>0.099225</td>\n",
       "      <td>0.049340</td>\n",
       "      <td>0.104355</td>\n",
       "      <td>139</td>\n",
       "      <td>645.08</td>\n",
       "      <td>1</td>\n",
       "    </tr>\n",
       "    <tr>\n",
       "      <th>13</th>\n",
       "      <td>14</td>\n",
       "      <td>01/01/2000 01:20:30</td>\n",
       "      <td>188.0</td>\n",
       "      <td>NaN</td>\n",
       "      <td>0.104355</td>\n",
       "      <td>0.099225</td>\n",
       "      <td>0.007234</td>\n",
       "      <td>105</td>\n",
       "      <td>501.76</td>\n",
       "      <td>1</td>\n",
       "    </tr>\n",
       "    <tr>\n",
       "      <th>14</th>\n",
       "      <td>15</td>\n",
       "      <td>01/01/2000 01:20:45</td>\n",
       "      <td>0.0</td>\n",
       "      <td>1.0</td>\n",
       "      <td>0.007234</td>\n",
       "      <td>0.104355</td>\n",
       "      <td>0.030109</td>\n",
       "      <td>8</td>\n",
       "      <td>128.88</td>\n",
       "      <td>1</td>\n",
       "    </tr>\n",
       "    <tr>\n",
       "      <th>15</th>\n",
       "      <td>16</td>\n",
       "      <td>01/01/2000 01:21:00</td>\n",
       "      <td>24.0</td>\n",
       "      <td>1.0</td>\n",
       "      <td>0.030109</td>\n",
       "      <td>0.007234</td>\n",
       "      <td>0.008785</td>\n",
       "      <td>28</td>\n",
       "      <td>199.16</td>\n",
       "      <td>1</td>\n",
       "    </tr>\n",
       "    <tr>\n",
       "      <th>16</th>\n",
       "      <td>17</td>\n",
       "      <td>01/01/2000 01:21:15</td>\n",
       "      <td>3.0</td>\n",
       "      <td>1.0</td>\n",
       "      <td>0.008785</td>\n",
       "      <td>0.030109</td>\n",
       "      <td>0.007893</td>\n",
       "      <td>3</td>\n",
       "      <td>93.00</td>\n",
       "      <td>1</td>\n",
       "    </tr>\n",
       "    <tr>\n",
       "      <th>17</th>\n",
       "      <td>18</td>\n",
       "      <td>01/01/2000 01:21:30</td>\n",
       "      <td>0.0</td>\n",
       "      <td>1.0</td>\n",
       "      <td>0.007893</td>\n",
       "      <td>0.008785</td>\n",
       "      <td>0.007761</td>\n",
       "      <td>0</td>\n",
       "      <td>59.28</td>\n",
       "      <td>1</td>\n",
       "    </tr>\n",
       "    <tr>\n",
       "      <th>18</th>\n",
       "      <td>19</td>\n",
       "      <td>01/01/2000 01:21:45</td>\n",
       "      <td>3.0</td>\n",
       "      <td>1.0</td>\n",
       "      <td>0.007761</td>\n",
       "      <td>0.007893</td>\n",
       "      <td>0.006469</td>\n",
       "      <td>0</td>\n",
       "      <td>63.76</td>\n",
       "      <td>1</td>\n",
       "    </tr>\n",
       "    <tr>\n",
       "      <th>19</th>\n",
       "      <td>20</td>\n",
       "      <td>01/01/2000 01:22:00</td>\n",
       "      <td>0.0</td>\n",
       "      <td>1.0</td>\n",
       "      <td>0.006469</td>\n",
       "      <td>0.007761</td>\n",
       "      <td>0.005791</td>\n",
       "      <td>0</td>\n",
       "      <td>79.80</td>\n",
       "      <td>1</td>\n",
       "    </tr>\n",
       "    <tr>\n",
       "      <th>20</th>\n",
       "      <td>21</td>\n",
       "      <td>01/01/2000 01:22:15</td>\n",
       "      <td>0.0</td>\n",
       "      <td>1.0</td>\n",
       "      <td>0.005791</td>\n",
       "      <td>0.006469</td>\n",
       "      <td>0.017378</td>\n",
       "      <td>0</td>\n",
       "      <td>76.96</td>\n",
       "      <td>1</td>\n",
       "    </tr>\n",
       "    <tr>\n",
       "      <th>21</th>\n",
       "      <td>22</td>\n",
       "      <td>01/01/2000 01:22:30</td>\n",
       "      <td>0.0</td>\n",
       "      <td>1.0</td>\n",
       "      <td>0.017378</td>\n",
       "      <td>0.005791</td>\n",
       "      <td>0.159258</td>\n",
       "      <td>23</td>\n",
       "      <td>158.32</td>\n",
       "      <td>1</td>\n",
       "    </tr>\n",
       "    <tr>\n",
       "      <th>22</th>\n",
       "      <td>23</td>\n",
       "      <td>01/01/2000 01:22:45</td>\n",
       "      <td>182.0</td>\n",
       "      <td>1.0</td>\n",
       "      <td>0.159258</td>\n",
       "      <td>0.017378</td>\n",
       "      <td>0.088535</td>\n",
       "      <td>149</td>\n",
       "      <td>632.92</td>\n",
       "      <td>1</td>\n",
       "    </tr>\n",
       "    <tr>\n",
       "      <th>23</th>\n",
       "      <td>24</td>\n",
       "      <td>01/01/2000 01:23:00</td>\n",
       "      <td>164.0</td>\n",
       "      <td>1.0</td>\n",
       "      <td>0.088535</td>\n",
       "      <td>0.159258</td>\n",
       "      <td>0.014816</td>\n",
       "      <td>125</td>\n",
       "      <td>541.40</td>\n",
       "      <td>1</td>\n",
       "    </tr>\n",
       "    <tr>\n",
       "      <th>24</th>\n",
       "      <td>25</td>\n",
       "      <td>01/01/2000 01:23:15</td>\n",
       "      <td>12.0</td>\n",
       "      <td>1.0</td>\n",
       "      <td>0.014816</td>\n",
       "      <td>0.088535</td>\n",
       "      <td>0.006586</td>\n",
       "      <td>27</td>\n",
       "      <td>169.32</td>\n",
       "      <td>1</td>\n",
       "    </tr>\n",
       "    <tr>\n",
       "      <th>25</th>\n",
       "      <td>26</td>\n",
       "      <td>01/01/2000 01:23:30</td>\n",
       "      <td>0.0</td>\n",
       "      <td>1.0</td>\n",
       "      <td>0.006586</td>\n",
       "      <td>0.014816</td>\n",
       "      <td>0.006270</td>\n",
       "      <td>0</td>\n",
       "      <td>66.60</td>\n",
       "      <td>1</td>\n",
       "    </tr>\n",
       "    <tr>\n",
       "      <th>26</th>\n",
       "      <td>27</td>\n",
       "      <td>01/01/2000 01:23:45</td>\n",
       "      <td>0.0</td>\n",
       "      <td>1.0</td>\n",
       "      <td>0.006270</td>\n",
       "      <td>0.006586</td>\n",
       "      <td>0.006943</td>\n",
       "      <td>0</td>\n",
       "      <td>62.92</td>\n",
       "      <td>1</td>\n",
       "    </tr>\n",
       "    <tr>\n",
       "      <th>27</th>\n",
       "      <td>28</td>\n",
       "      <td>01/01/2000 01:24:00</td>\n",
       "      <td>0.0</td>\n",
       "      <td>1.0</td>\n",
       "      <td>0.006943</td>\n",
       "      <td>0.006270</td>\n",
       "      <td>0.012221</td>\n",
       "      <td>0</td>\n",
       "      <td>39.08</td>\n",
       "      <td>1</td>\n",
       "    </tr>\n",
       "    <tr>\n",
       "      <th>28</th>\n",
       "      <td>29</td>\n",
       "      <td>01/01/2000 01:24:15</td>\n",
       "      <td>4.0</td>\n",
       "      <td>0.0</td>\n",
       "      <td>0.012221</td>\n",
       "      <td>0.006943</td>\n",
       "      <td>0.006598</td>\n",
       "      <td>9</td>\n",
       "      <td>53.28</td>\n",
       "      <td>1</td>\n",
       "    </tr>\n",
       "    <tr>\n",
       "      <th>29</th>\n",
       "      <td>30</td>\n",
       "      <td>01/01/2000 01:24:30</td>\n",
       "      <td>0.0</td>\n",
       "      <td>0.0</td>\n",
       "      <td>0.006598</td>\n",
       "      <td>0.012221</td>\n",
       "      <td>0.006625</td>\n",
       "      <td>0</td>\n",
       "      <td>14.76</td>\n",
       "      <td>0</td>\n",
       "    </tr>\n",
       "    <tr>\n",
       "      <th>30</th>\n",
       "      <td>31</td>\n",
       "      <td>01/01/2000 01:24:45</td>\n",
       "      <td>0.0</td>\n",
       "      <td>0.0</td>\n",
       "      <td>0.006625</td>\n",
       "      <td>0.006598</td>\n",
       "      <td>0.006931</td>\n",
       "      <td>0</td>\n",
       "      <td>13.84</td>\n",
       "      <td>0</td>\n",
       "    </tr>\n",
       "    <tr>\n",
       "      <th>31</th>\n",
       "      <td>32</td>\n",
       "      <td>01/01/2000 01:25:00</td>\n",
       "      <td>0.0</td>\n",
       "      <td>0.0</td>\n",
       "      <td>0.006931</td>\n",
       "      <td>0.006625</td>\n",
       "      <td>0.006734</td>\n",
       "      <td>0</td>\n",
       "      <td>7.88</td>\n",
       "      <td>0</td>\n",
       "    </tr>\n",
       "    <tr>\n",
       "      <th>32</th>\n",
       "      <td>33</td>\n",
       "      <td>01/01/2000 01:25:15</td>\n",
       "      <td>0.0</td>\n",
       "      <td>0.0</td>\n",
       "      <td>0.006734</td>\n",
       "      <td>0.006931</td>\n",
       "      <td>0.006763</td>\n",
       "      <td>0</td>\n",
       "      <td>2.88</td>\n",
       "      <td>0</td>\n",
       "    </tr>\n",
       "    <tr>\n",
       "      <th>33</th>\n",
       "      <td>34</td>\n",
       "      <td>01/01/2000 01:25:30</td>\n",
       "      <td>0.0</td>\n",
       "      <td>0.0</td>\n",
       "      <td>0.006763</td>\n",
       "      <td>0.006734</td>\n",
       "      <td>0.008320</td>\n",
       "      <td>0</td>\n",
       "      <td>0.36</td>\n",
       "      <td>0</td>\n",
       "    </tr>\n",
       "    <tr>\n",
       "      <th>34</th>\n",
       "      <td>35</td>\n",
       "      <td>01/01/2000 01:25:45</td>\n",
       "      <td>0.0</td>\n",
       "      <td>0.0</td>\n",
       "      <td>0.008320</td>\n",
       "      <td>0.006763</td>\n",
       "      <td>0.008939</td>\n",
       "      <td>0</td>\n",
       "      <td>0.36</td>\n",
       "      <td>0</td>\n",
       "    </tr>\n",
       "    <tr>\n",
       "      <th>35</th>\n",
       "      <td>36</td>\n",
       "      <td>01/01/2000 01:26:00</td>\n",
       "      <td>0.0</td>\n",
       "      <td>0.0</td>\n",
       "      <td>0.008939</td>\n",
       "      <td>0.008320</td>\n",
       "      <td>0.006440</td>\n",
       "      <td>0</td>\n",
       "      <td>0.36</td>\n",
       "      <td>0</td>\n",
       "    </tr>\n",
       "    <tr>\n",
       "      <th>36</th>\n",
       "      <td>37</td>\n",
       "      <td>01/01/2000 01:26:15</td>\n",
       "      <td>0.0</td>\n",
       "      <td>0.0</td>\n",
       "      <td>0.006440</td>\n",
       "      <td>0.008939</td>\n",
       "      <td>0.006432</td>\n",
       "      <td>0</td>\n",
       "      <td>0.36</td>\n",
       "      <td>0</td>\n",
       "    </tr>\n",
       "    <tr>\n",
       "      <th>37</th>\n",
       "      <td>38</td>\n",
       "      <td>01/01/2000 01:26:30</td>\n",
       "      <td>0.0</td>\n",
       "      <td>0.0</td>\n",
       "      <td>0.006432</td>\n",
       "      <td>0.006440</td>\n",
       "      <td>0.006409</td>\n",
       "      <td>0</td>\n",
       "      <td>0.00</td>\n",
       "      <td>0</td>\n",
       "    </tr>\n",
       "    <tr>\n",
       "      <th>38</th>\n",
       "      <td>39</td>\n",
       "      <td>01/01/2000 01:26:45</td>\n",
       "      <td>0.0</td>\n",
       "      <td>0.0</td>\n",
       "      <td>0.006409</td>\n",
       "      <td>0.006432</td>\n",
       "      <td>0.006347</td>\n",
       "      <td>0</td>\n",
       "      <td>0.00</td>\n",
       "      <td>0</td>\n",
       "    </tr>\n",
       "    <tr>\n",
       "      <th>39</th>\n",
       "      <td>40</td>\n",
       "      <td>01/01/2000 01:27:00</td>\n",
       "      <td>0.0</td>\n",
       "      <td>0.0</td>\n",
       "      <td>0.006347</td>\n",
       "      <td>0.006409</td>\n",
       "      <td>0.006980</td>\n",
       "      <td>0</td>\n",
       "      <td>0.36</td>\n",
       "      <td>0</td>\n",
       "    </tr>\n",
       "  </tbody>\n",
       "</table>\n",
       "</div>"
      ],
      "text/plain": [
       "    Unnamed: 0            timestamp  Actiwatch activity counts  \\\n",
       "0            1  01/01/2000 01:17:15                        NaN   \n",
       "1            2  01/01/2000 01:17:30                        NaN   \n",
       "2            3  01/01/2000 01:17:45                        NaN   \n",
       "3            4  01/01/2000 01:18:00                        NaN   \n",
       "4            5  01/01/2000 01:18:15                        NaN   \n",
       "5            6  01/01/2000 01:18:30                        NaN   \n",
       "6            7  01/01/2000 01:18:45                        NaN   \n",
       "7            8  01/01/2000 01:19:00                        NaN   \n",
       "8            9  01/01/2000 01:19:15                        NaN   \n",
       "9           10  01/01/2000 01:19:30                        NaN   \n",
       "10          11  01/01/2000 01:19:45                      129.0   \n",
       "11          12  01/01/2000 01:20:00                      109.0   \n",
       "12          13  01/01/2000 01:20:15                      113.0   \n",
       "13          14  01/01/2000 01:20:30                      188.0   \n",
       "14          15  01/01/2000 01:20:45                        0.0   \n",
       "15          16  01/01/2000 01:21:00                       24.0   \n",
       "16          17  01/01/2000 01:21:15                        3.0   \n",
       "17          18  01/01/2000 01:21:30                        0.0   \n",
       "18          19  01/01/2000 01:21:45                        3.0   \n",
       "19          20  01/01/2000 01:22:00                        0.0   \n",
       "20          21  01/01/2000 01:22:15                        0.0   \n",
       "21          22  01/01/2000 01:22:30                        0.0   \n",
       "22          23  01/01/2000 01:22:45                      182.0   \n",
       "23          24  01/01/2000 01:23:00                      164.0   \n",
       "24          25  01/01/2000 01:23:15                       12.0   \n",
       "25          26  01/01/2000 01:23:30                        0.0   \n",
       "26          27  01/01/2000 01:23:45                        0.0   \n",
       "27          28  01/01/2000 01:24:00                        0.0   \n",
       "28          29  01/01/2000 01:24:15                        4.0   \n",
       "29          30  01/01/2000 01:24:30                        0.0   \n",
       "30          31  01/01/2000 01:24:45                        0.0   \n",
       "31          32  01/01/2000 01:25:00                        0.0   \n",
       "32          33  01/01/2000 01:25:15                        0.0   \n",
       "33          34  01/01/2000 01:25:30                        0.0   \n",
       "34          35  01/01/2000 01:25:45                        0.0   \n",
       "35          36  01/01/2000 01:26:00                        0.0   \n",
       "36          37  01/01/2000 01:26:15                        0.0   \n",
       "37          38  01/01/2000 01:26:30                        0.0   \n",
       "38          39  01/01/2000 01:26:45                        0.0   \n",
       "39          40  01/01/2000 01:27:00                        0.0   \n",
       "\n",
       "    Actiware classification  Apple Watch ENMO  ELMO_before  ELMO_after  \\\n",
       "0                       NaN          0.002960     0.003123    0.002921   \n",
       "1                       NaN          0.002921     0.002960    0.002907   \n",
       "2                       NaN          0.002907     0.002921    0.002932   \n",
       "3                       NaN          0.002932     0.002907    0.002989   \n",
       "4                       NaN          0.002989     0.002932    0.002895   \n",
       "5                       NaN          0.002895     0.002989    0.002916   \n",
       "6                       NaN          0.002916     0.002895    0.002746   \n",
       "7                       NaN          0.002746     0.002916    0.038737   \n",
       "8                       NaN          0.038737     0.002746    0.065249   \n",
       "9                       NaN          0.065249     0.038737    0.057662   \n",
       "10                      NaN          0.057662     0.065249    0.049340   \n",
       "11                      NaN          0.049340     0.057662    0.099225   \n",
       "12                      NaN          0.099225     0.049340    0.104355   \n",
       "13                      NaN          0.104355     0.099225    0.007234   \n",
       "14                      1.0          0.007234     0.104355    0.030109   \n",
       "15                      1.0          0.030109     0.007234    0.008785   \n",
       "16                      1.0          0.008785     0.030109    0.007893   \n",
       "17                      1.0          0.007893     0.008785    0.007761   \n",
       "18                      1.0          0.007761     0.007893    0.006469   \n",
       "19                      1.0          0.006469     0.007761    0.005791   \n",
       "20                      1.0          0.005791     0.006469    0.017378   \n",
       "21                      1.0          0.017378     0.005791    0.159258   \n",
       "22                      1.0          0.159258     0.017378    0.088535   \n",
       "23                      1.0          0.088535     0.159258    0.014816   \n",
       "24                      1.0          0.014816     0.088535    0.006586   \n",
       "25                      1.0          0.006586     0.014816    0.006270   \n",
       "26                      1.0          0.006270     0.006586    0.006943   \n",
       "27                      1.0          0.006943     0.006270    0.012221   \n",
       "28                      0.0          0.012221     0.006943    0.006598   \n",
       "29                      0.0          0.006598     0.012221    0.006625   \n",
       "30                      0.0          0.006625     0.006598    0.006931   \n",
       "31                      0.0          0.006931     0.006625    0.006734   \n",
       "32                      0.0          0.006734     0.006931    0.006763   \n",
       "33                      0.0          0.006763     0.006734    0.008320   \n",
       "34                      0.0          0.008320     0.006763    0.008939   \n",
       "35                      0.0          0.008939     0.008320    0.006440   \n",
       "36                      0.0          0.006440     0.008939    0.006432   \n",
       "37                      0.0          0.006432     0.006440    0.006409   \n",
       "38                      0.0          0.006409     0.006432    0.006347   \n",
       "39                      0.0          0.006347     0.006409    0.006980   \n",
       "\n",
       "    predicted_actiwatch  total_counts  predicted_sleep  \n",
       "0                     0           NaN                1  \n",
       "1                     0           NaN                1  \n",
       "2                     0           NaN                1  \n",
       "3                     0           NaN                1  \n",
       "4                     0           NaN                1  \n",
       "5                     0           NaN                1  \n",
       "6                     0           NaN                1  \n",
       "7                     2           NaN                1  \n",
       "8                    94           NaN                1  \n",
       "9                    64        354.16                1  \n",
       "10                   67        366.84                1  \n",
       "11                   76        405.52                1  \n",
       "12                  139        645.08                1  \n",
       "13                  105        501.76                1  \n",
       "14                    8        128.88                1  \n",
       "15                   28        199.16                1  \n",
       "16                    3         93.00                1  \n",
       "17                    0         59.28                1  \n",
       "18                    0         63.76                1  \n",
       "19                    0         79.80                1  \n",
       "20                    0         76.96                1  \n",
       "21                   23        158.32                1  \n",
       "22                  149        632.92                1  \n",
       "23                  125        541.40                1  \n",
       "24                   27        169.32                1  \n",
       "25                    0         66.60                1  \n",
       "26                    0         62.92                1  \n",
       "27                    0         39.08                1  \n",
       "28                    9         53.28                1  \n",
       "29                    0         14.76                0  \n",
       "30                    0         13.84                0  \n",
       "31                    0          7.88                0  \n",
       "32                    0          2.88                0  \n",
       "33                    0          0.36                0  \n",
       "34                    0          0.36                0  \n",
       "35                    0          0.36                0  \n",
       "36                    0          0.36                0  \n",
       "37                    0          0.00                0  \n",
       "38                    0          0.00                0  \n",
       "39                    0          0.36                0  "
      ]
     },
     "execution_count": 130,
     "metadata": {},
     "output_type": "execute_result"
    }
   ],
   "source": [
    "import_df.head(40)"
   ]
  },
  {
   "cell_type": "markdown",
   "metadata": {},
   "source": [
    "Check accuracy"
   ]
  },
  {
   "cell_type": "code",
   "execution_count": 131,
   "metadata": {},
   "outputs": [],
   "source": [
    "#sleep is zero, awake is one\n",
    "df_accuracy = import_df.dropna(subset=['Actiware classification']).copy()"
   ]
  },
  {
   "cell_type": "code",
   "execution_count": 132,
   "metadata": {},
   "outputs": [],
   "source": [
    "TP=0\n",
    "TN=0\n",
    "FP=0\n",
    "FN=0\n",
    "\n",
    "for index, row in df_accuracy.iterrows():\n",
    "    if row['Actiware classification'] == 1 and row['predicted_sleep'] == 1:\n",
    "        TN+=1\n",
    "    if row['Actiware classification'] == 1 and row['predicted_sleep'] == 0:\n",
    "        FP+=1\n",
    "    if row['Actiware classification'] == 0 and row['predicted_sleep'] == 0:\n",
    "        TP+=1\n",
    "    if row['Actiware classification'] == 0 and row['predicted_sleep'] == 1:\n",
    "        FN+=1\n",
    "\n"
   ]
  },
  {
   "cell_type": "code",
   "execution_count": 133,
   "metadata": {},
   "outputs": [
    {
     "name": "stdout",
     "output_type": "stream",
     "text": [
      "94.56%\n"
     ]
    }
   ],
   "source": [
    "accuracy = ((TP+TN)/(TP+TN+FP+FN))*100\n",
    "print(str(round(accuracy,2)) + '%')"
   ]
  },
  {
   "cell_type": "markdown",
   "metadata": {},
   "source": [
    "Random Forest: 95.95%\n",
    "Naive Bayes: 94.56%"
   ]
  },
  {
   "cell_type": "code",
   "execution_count": 116,
   "metadata": {},
   "outputs": [],
   "source": [
    "from sklearn.naive_bayes import GaussianNB"
   ]
  },
  {
   "cell_type": "code",
   "execution_count": 117,
   "metadata": {},
   "outputs": [],
   "source": [
    "gnb = GaussianNB()"
   ]
  },
  {
   "cell_type": "code",
   "execution_count": 118,
   "metadata": {},
   "outputs": [
    {
     "data": {
      "text/plain": [
       "GaussianNB()"
      ]
     },
     "execution_count": 118,
     "metadata": {},
     "output_type": "execute_result"
    }
   ],
   "source": [
    "gnb.fit(X_trainR, y_trainR)\n"
   ]
  },
  {
   "cell_type": "code",
   "execution_count": 119,
   "metadata": {},
   "outputs": [
    {
     "name": "stdout",
     "output_type": "stream",
     "text": [
      "coefficient of determination: 0.9253931579339644\n"
     ]
    }
   ],
   "source": [
    "r_sq_3 = gnb.score(X_testR, y_testR)\n",
    "print(f\"coefficient of determination: {r_sq_3}\")"
   ]
  },
  {
   "cell_type": "code",
   "execution_count": 98,
   "metadata": {},
   "outputs": [],
   "source": [
    "from sklearn import svm"
   ]
  },
  {
   "cell_type": "code",
   "execution_count": 99,
   "metadata": {},
   "outputs": [
    {
     "data": {
      "text/plain": [
       "SVR()"
      ]
     },
     "execution_count": 99,
     "metadata": {},
     "output_type": "execute_result"
    }
   ],
   "source": [
    "regr = svm.SVR()\n",
    "regr.fit(X_trainR, y_trainR)"
   ]
  },
  {
   "cell_type": "code",
   "execution_count": 100,
   "metadata": {},
   "outputs": [
    {
     "name": "stdout",
     "output_type": "stream",
     "text": [
      "coefficient of determination: 0.40943126425264653\n"
     ]
    }
   ],
   "source": [
    "r_sq_4 = regr.score(X_testR, y_testR)\n",
    "print(f\"coefficient of determination: {r_sq_4}\")"
   ]
  },
  {
   "cell_type": "code",
   "execution_count": 157,
   "metadata": {},
   "outputs": [
    {
     "data": {
      "text/plain": [
       "<matplotlib.collections.PathCollection at 0x7fa2b0101a90>"
      ]
     },
     "execution_count": 157,
     "metadata": {},
     "output_type": "execute_result"
    },
    {
     "data": {
      "image/png": "[encoded data removed]",
      "text/plain": [
       "<Figure size 432x288 with 1 Axes>"
      ]
     },
     "metadata": {},
     "output_type": "display_data"
    }
   ],
   "source": [
    "plt.scatter(nums_rounded[:, 0], nums_rounded[:, 1])\n",
    "#plt.ylim(0,.05)"
   ]
  },
  {
   "cell_type": "code",
   "execution_count": 158,
   "metadata": {},
   "outputs": [
    {
     "data": {
      "image/png": "[encoded data removed]",
      "text/plain": [
       "<Figure size 432x288 with 1 Axes>"
      ]
     },
     "metadata": {},
     "output_type": "display_data"
    }
   ],
   "source": [
    "n_bins = 50\n",
    "\n",
    "# Generate two normal distributions\n",
    "dist1 = df_rounded['Actiwatch activity counts']\n",
    "#plt.ylim(0,2000)\n",
    "plt.hist(dist1, bins = n_bins)\n",
    "plt.show()"
   ]
  },
  {
   "cell_type": "code",
   "execution_count": 61,
   "metadata": {},
   "outputs": [
    {
     "ename": "NameError",
     "evalue": "name 'PoissonRegressor' is not defined",
     "output_type": "error",
     "traceback": [
      "\u001b[0;31m---------------------------------------------------------------------------\u001b[0m",
      "\u001b[0;31mNameError\u001b[0m                                 Traceback (most recent call last)",
      "\u001b[0;32m<ipython-input-61-9e56d0e532dd>\u001b[0m in \u001b[0;36m<module>\u001b[0;34m\u001b[0m\n\u001b[0;32m----> 1\u001b[0;31m \u001b[0mmodel\u001b[0m \u001b[0;34m=\u001b[0m \u001b[0mPoissonRegressor\u001b[0m\u001b[0;34m(\u001b[0m\u001b[0;34m)\u001b[0m\u001b[0;34m\u001b[0m\u001b[0;34m\u001b[0m\u001b[0m\n\u001b[0m\u001b[1;32m      2\u001b[0m \u001b[0mXX_trainR\u001b[0m \u001b[0;34m=\u001b[0m \u001b[0mX_trainR\u001b[0m\u001b[0;34m.\u001b[0m\u001b[0mreshape\u001b[0m\u001b[0;34m(\u001b[0m\u001b[0;34m-\u001b[0m\u001b[0;36m1\u001b[0m\u001b[0;34m,\u001b[0m \u001b[0;36m1\u001b[0m\u001b[0;34m)\u001b[0m\u001b[0;34m\u001b[0m\u001b[0;34m\u001b[0m\u001b[0m\n\u001b[1;32m      3\u001b[0m \u001b[0mmodel\u001b[0m\u001b[0;34m.\u001b[0m\u001b[0mfit\u001b[0m\u001b[0;34m(\u001b[0m\u001b[0mXX_trainR\u001b[0m\u001b[0;34m,\u001b[0m \u001b[0my_trainR\u001b[0m\u001b[0;34m)\u001b[0m\u001b[0;34m\u001b[0m\u001b[0;34m\u001b[0m\u001b[0m\n",
      "\u001b[0;31mNameError\u001b[0m: name 'PoissonRegressor' is not defined"
     ]
    }
   ],
   "source": [
    "model = PoissonRegressor()\n",
    "XX_trainR = X_trainR.reshape(-1, 1)\n",
    "model.fit(XX_trainR, y_trainR)"
   ]
  },
  {
   "cell_type": "code",
   "execution_count": 146,
   "metadata": {},
   "outputs": [
    {
     "data": {
      "text/plain": [
       "0.05335999192111607"
      ]
     },
     "execution_count": 146,
     "metadata": {},
     "output_type": "execute_result"
    }
   ],
   "source": [
    "model.score(XX_trainR, y_trainR)"
   ]
  },
  {
   "cell_type": "code",
   "execution_count": 63,
   "metadata": {},
   "outputs": [],
   "source": [
    "import statsmodels.api as sm"
   ]
  },
  {
   "cell_type": "code",
   "execution_count": 65,
   "metadata": {},
   "outputs": [],
   "source": [
    "XX_trainR = X_trainR.reshape(-1, 1)"
   ]
  },
  {
   "cell_type": "code",
   "execution_count": 66,
   "metadata": {},
   "outputs": [
    {
     "name": "stdout",
     "output_type": "stream",
     "text": [
      "Warning: Maximum number of iterations has been exceeded.\n",
      "         Current function value: 5.991643\n",
      "         Iterations: 35\n",
      "         Function evaluations: 41\n",
      "         Gradient evaluations: 41\n"
     ]
    }
   ],
   "source": [
    "#zero inflated poisson regressio,n\n",
    "zip_model = sm.ZeroInflatedPoisson(endog=y_trainR, exog=X_trainR, exog_infl=X_trainR, inflation='logit',missing=\"drop\")\n",
    "zip_res = zip_model.fit()"
   ]
  },
  {
   "cell_type": "code",
   "execution_count": 67,
   "metadata": {},
   "outputs": [
    {
     "data": {
      "text/html": [
       "<table class=\"simpletable\">\n",
       "<caption>ZeroInflatedPoisson Regression Results</caption>\n",
       "<tr>\n",
       "  <th>Dep. Variable:</th>            <td>y</td>          <th>  No. Observations:  </th>   <td> 27239</td>   \n",
       "</tr>\n",
       "<tr>\n",
       "  <th>Model:</th>           <td>ZeroInflatedPoisson</td> <th>  Df Residuals:      </th>   <td> 27236</td>   \n",
       "</tr>\n",
       "<tr>\n",
       "  <th>Method:</th>                  <td>MLE</td>         <th>  Df Model:          </th>   <td>     2</td>   \n",
       "</tr>\n",
       "<tr>\n",
       "  <th>Date:</th>             <td>Mon, 03 Oct 2022</td>   <th>  Pseudo R-squ.:     </th>   <td>-2.225</td>   \n",
       "</tr>\n",
       "<tr>\n",
       "  <th>Time:</th>                 <td>20:06:44</td>       <th>  Log-Likelihood:    </th> <td>-1.6321e+05</td>\n",
       "</tr>\n",
       "<tr>\n",
       "  <th>converged:</th>              <td>False</td>        <th>  LL-Null:           </th>  <td> -50610.</td>  \n",
       "</tr>\n",
       "<tr>\n",
       "  <th>Covariance Type:</th>      <td>nonrobust</td>      <th>  LLR p-value:       </th>   <td> 1.000</td>   \n",
       "</tr>\n",
       "</table>\n",
       "<table class=\"simpletable\">\n",
       "<tr>\n",
       "       <td></td>         <th>coef</th>     <th>std err</th>      <th>z</th>      <th>P>|z|</th>  <th>[0.025</th>    <th>0.975]</th>  \n",
       "</tr>\n",
       "<tr>\n",
       "  <th>inflate_x1</th> <td>   -6.6195</td> <td>    1.577</td> <td>   -4.198</td> <td> 0.000</td> <td>   -9.710</td> <td>   -3.529</td>\n",
       "</tr>\n",
       "<tr>\n",
       "  <th>inflate_x2</th> <td>   21.5489</td> <td>    2.229</td> <td>    9.669</td> <td> 0.000</td> <td>   17.181</td> <td>   25.917</td>\n",
       "</tr>\n",
       "<tr>\n",
       "  <th>inflate_x3</th> <td>   33.4914</td> <td>    2.744</td> <td>   12.204</td> <td> 0.000</td> <td>   28.113</td> <td>   38.870</td>\n",
       "</tr>\n",
       "<tr>\n",
       "  <th>x1</th>         <td>    8.2297</td> <td>    0.038</td> <td>  215.398</td> <td> 0.000</td> <td>    8.155</td> <td>    8.305</td>\n",
       "</tr>\n",
       "<tr>\n",
       "  <th>x2</th>         <td>    4.1378</td> <td>    0.076</td> <td>   54.100</td> <td> 0.000</td> <td>    3.988</td> <td>    4.288</td>\n",
       "</tr>\n",
       "<tr>\n",
       "  <th>x3</th>         <td>   10.9729</td> <td>    0.040</td> <td>  270.992</td> <td> 0.000</td> <td>   10.894</td> <td>   11.052</td>\n",
       "</tr>\n",
       "</table>"
      ],
      "text/plain": [
       "<class 'statsmodels.iolib.summary.Summary'>\n",
       "\"\"\"\n",
       "                     ZeroInflatedPoisson Regression Results                    \n",
       "===============================================================================\n",
       "Dep. Variable:                       y   No. Observations:                27239\n",
       "Model:             ZeroInflatedPoisson   Df Residuals:                    27236\n",
       "Method:                            MLE   Df Model:                            2\n",
       "Date:                 Mon, 03 Oct 2022   Pseudo R-squ.:                  -2.225\n",
       "Time:                         20:06:44   Log-Likelihood:            -1.6321e+05\n",
       "converged:                       False   LL-Null:                       -50610.\n",
       "Covariance Type:             nonrobust   LLR p-value:                     1.000\n",
       "==============================================================================\n",
       "                 coef    std err          z      P>|z|      [0.025      0.975]\n",
       "------------------------------------------------------------------------------\n",
       "inflate_x1    -6.6195      1.577     -4.198      0.000      -9.710      -3.529\n",
       "inflate_x2    21.5489      2.229      9.669      0.000      17.181      25.917\n",
       "inflate_x3    33.4914      2.744     12.204      0.000      28.113      38.870\n",
       "x1             8.2297      0.038    215.398      0.000       8.155       8.305\n",
       "x2             4.1378      0.076     54.100      0.000       3.988       4.288\n",
       "x3            10.9729      0.040    270.992      0.000      10.894      11.052\n",
       "==============================================================================\n",
       "\"\"\""
      ]
     },
     "execution_count": 67,
     "metadata": {},
     "output_type": "execute_result"
    }
   ],
   "source": [
    "zip_res.summary()"
   ]
  },
  {
   "cell_type": "code",
   "execution_count": 7,
   "metadata": {},
   "outputs": [],
   "source": [
    "from pyts.classification import TimeSeriesForest\n",
    "from pyts.datasets import load_gunpoint\n",
    "from pyts.classification import TSBF"
   ]
  },
  {
   "cell_type": "code",
   "execution_count": 19,
   "metadata": {},
   "outputs": [],
   "source": [
    "x = nums_rounded[:, 1].reshape(-1, 1).astype('float64')"
   ]
  },
  {
   "cell_type": "code",
   "execution_count": 38,
   "metadata": {},
   "outputs": [
    {
     "data": {
      "text/plain": [
       "array([0., 4., 0., ..., 0., 0., 0.])"
      ]
     },
     "execution_count": 38,
     "metadata": {},
     "output_type": "execute_result"
    }
   ],
   "source": [
    "y"
   ]
  },
  {
   "cell_type": "code",
   "execution_count": 33,
   "metadata": {},
   "outputs": [],
   "source": [
    "X_train, X_test, y_train, y_test = load_gunpoint(return_X_y=True)"
   ]
  },
  {
   "cell_type": "code",
   "execution_count": 20,
   "metadata": {},
   "outputs": [],
   "source": [
    "y= nums_rounded[:, 0].astype('float64')"
   ]
  },
  {
   "cell_type": "code",
   "execution_count": 22,
   "metadata": {},
   "outputs": [],
   "source": [
    "clf = TimeSeriesForest(random_state=43)"
   ]
  },
  {
   "cell_type": "code",
   "execution_count": 23,
   "metadata": {},
   "outputs": [
    {
     "ename": "ValueError",
     "evalue": "low >= high",
     "output_type": "error",
     "traceback": [
      "\u001b[0;31m---------------------------------------------------------------------------\u001b[0m",
      "\u001b[0;31mValueError\u001b[0m                                Traceback (most recent call last)",
      "\u001b[0;32m<ipython-input-23-5afb77311de6>\u001b[0m in \u001b[0;36m<module>\u001b[0;34m\u001b[0m\n\u001b[0;32m----> 1\u001b[0;31m \u001b[0mclf\u001b[0m\u001b[0;34m.\u001b[0m\u001b[0mfit\u001b[0m\u001b[0;34m(\u001b[0m\u001b[0mx\u001b[0m\u001b[0;34m,\u001b[0m \u001b[0my\u001b[0m\u001b[0;34m)\u001b[0m\u001b[0;34m\u001b[0m\u001b[0;34m\u001b[0m\u001b[0m\n\u001b[0m\u001b[1;32m      2\u001b[0m \u001b[0;34m\u001b[0m\u001b[0m\n",
      "\u001b[0;32m~/.local/lib/python3.6/site-packages/pyts/classification/time_series_forest.py\u001b[0m in \u001b[0;36mfit\u001b[0;34m(self, X, y)\u001b[0m\n\u001b[1;32m    509\u001b[0m         )\n\u001b[1;32m    510\u001b[0m         \u001b[0mself\u001b[0m\u001b[0;34m.\u001b[0m\u001b[0m_pipeline\u001b[0m \u001b[0;34m=\u001b[0m \u001b[0mPipeline\u001b[0m\u001b[0;34m(\u001b[0m\u001b[0;34m[\u001b[0m\u001b[0;34m(\u001b[0m\u001b[0;34m'fe'\u001b[0m\u001b[0;34m,\u001b[0m \u001b[0mfeature_extractor\u001b[0m\u001b[0;34m)\u001b[0m\u001b[0;34m,\u001b[0m \u001b[0;34m(\u001b[0m\u001b[0;34m'rfc'\u001b[0m\u001b[0;34m,\u001b[0m \u001b[0mrfc\u001b[0m\u001b[0;34m)\u001b[0m\u001b[0;34m]\u001b[0m\u001b[0;34m)\u001b[0m\u001b[0;34m\u001b[0m\u001b[0;34m\u001b[0m\u001b[0m\n\u001b[0;32m--> 511\u001b[0;31m         \u001b[0mself\u001b[0m\u001b[0;34m.\u001b[0m\u001b[0m_pipeline\u001b[0m\u001b[0;34m.\u001b[0m\u001b[0mfit\u001b[0m\u001b[0;34m(\u001b[0m\u001b[0mX\u001b[0m\u001b[0;34m,\u001b[0m \u001b[0my\u001b[0m\u001b[0;34m)\u001b[0m\u001b[0;34m\u001b[0m\u001b[0;34m\u001b[0m\u001b[0m\n\u001b[0m\u001b[1;32m    512\u001b[0m \u001b[0;34m\u001b[0m\u001b[0m\n\u001b[1;32m    513\u001b[0m         \u001b[0;31m# Get attributes\u001b[0m\u001b[0;34m\u001b[0m\u001b[0;34m\u001b[0m\u001b[0;34m\u001b[0m\u001b[0m\n",
      "\u001b[0;32m~/.local/lib/python3.6/site-packages/sklearn/pipeline.py\u001b[0m in \u001b[0;36mfit\u001b[0;34m(self, X, y, **fit_params)\u001b[0m\n\u001b[1;32m    339\u001b[0m         \"\"\"\n\u001b[1;32m    340\u001b[0m         \u001b[0mfit_params_steps\u001b[0m \u001b[0;34m=\u001b[0m \u001b[0mself\u001b[0m\u001b[0;34m.\u001b[0m\u001b[0m_check_fit_params\u001b[0m\u001b[0;34m(\u001b[0m\u001b[0;34m**\u001b[0m\u001b[0mfit_params\u001b[0m\u001b[0;34m)\u001b[0m\u001b[0;34m\u001b[0m\u001b[0;34m\u001b[0m\u001b[0m\n\u001b[0;32m--> 341\u001b[0;31m         \u001b[0mXt\u001b[0m \u001b[0;34m=\u001b[0m \u001b[0mself\u001b[0m\u001b[0;34m.\u001b[0m\u001b[0m_fit\u001b[0m\u001b[0;34m(\u001b[0m\u001b[0mX\u001b[0m\u001b[0;34m,\u001b[0m \u001b[0my\u001b[0m\u001b[0;34m,\u001b[0m \u001b[0;34m**\u001b[0m\u001b[0mfit_params_steps\u001b[0m\u001b[0;34m)\u001b[0m\u001b[0;34m\u001b[0m\u001b[0;34m\u001b[0m\u001b[0m\n\u001b[0m\u001b[1;32m    342\u001b[0m         with _print_elapsed_time('Pipeline',\n\u001b[1;32m    343\u001b[0m                                  self._log_message(len(self.steps) - 1)):\n",
      "\u001b[0;32m~/.local/lib/python3.6/site-packages/sklearn/pipeline.py\u001b[0m in \u001b[0;36m_fit\u001b[0;34m(self, X, y, **fit_params_steps)\u001b[0m\n\u001b[1;32m    305\u001b[0m                 \u001b[0mmessage_clsname\u001b[0m\u001b[0;34m=\u001b[0m\u001b[0;34m'Pipeline'\u001b[0m\u001b[0;34m,\u001b[0m\u001b[0;34m\u001b[0m\u001b[0;34m\u001b[0m\u001b[0m\n\u001b[1;32m    306\u001b[0m                 \u001b[0mmessage\u001b[0m\u001b[0;34m=\u001b[0m\u001b[0mself\u001b[0m\u001b[0;34m.\u001b[0m\u001b[0m_log_message\u001b[0m\u001b[0;34m(\u001b[0m\u001b[0mstep_idx\u001b[0m\u001b[0;34m)\u001b[0m\u001b[0;34m,\u001b[0m\u001b[0;34m\u001b[0m\u001b[0;34m\u001b[0m\u001b[0m\n\u001b[0;32m--> 307\u001b[0;31m                 **fit_params_steps[name])\n\u001b[0m\u001b[1;32m    308\u001b[0m             \u001b[0;31m# Replace the transformer of the step with the fitted\u001b[0m\u001b[0;34m\u001b[0m\u001b[0;34m\u001b[0m\u001b[0;34m\u001b[0m\u001b[0m\n\u001b[1;32m    309\u001b[0m             \u001b[0;31m# transformer. This is necessary when loading the transformer\u001b[0m\u001b[0;34m\u001b[0m\u001b[0;34m\u001b[0m\u001b[0;34m\u001b[0m\u001b[0m\n",
      "\u001b[0;32m~/.local/lib/python3.6/site-packages/joblib/memory.py\u001b[0m in \u001b[0;36m__call__\u001b[0;34m(self, *args, **kwargs)\u001b[0m\n\u001b[1;32m    347\u001b[0m \u001b[0;34m\u001b[0m\u001b[0m\n\u001b[1;32m    348\u001b[0m     \u001b[0;32mdef\u001b[0m \u001b[0m__call__\u001b[0m\u001b[0;34m(\u001b[0m\u001b[0mself\u001b[0m\u001b[0;34m,\u001b[0m \u001b[0;34m*\u001b[0m\u001b[0margs\u001b[0m\u001b[0;34m,\u001b[0m \u001b[0;34m**\u001b[0m\u001b[0mkwargs\u001b[0m\u001b[0;34m)\u001b[0m\u001b[0;34m:\u001b[0m\u001b[0;34m\u001b[0m\u001b[0;34m\u001b[0m\u001b[0m\n\u001b[0;32m--> 349\u001b[0;31m         \u001b[0;32mreturn\u001b[0m \u001b[0mself\u001b[0m\u001b[0;34m.\u001b[0m\u001b[0mfunc\u001b[0m\u001b[0;34m(\u001b[0m\u001b[0;34m*\u001b[0m\u001b[0margs\u001b[0m\u001b[0;34m,\u001b[0m \u001b[0;34m**\u001b[0m\u001b[0mkwargs\u001b[0m\u001b[0;34m)\u001b[0m\u001b[0;34m\u001b[0m\u001b[0;34m\u001b[0m\u001b[0m\n\u001b[0m\u001b[1;32m    350\u001b[0m \u001b[0;34m\u001b[0m\u001b[0m\n\u001b[1;32m    351\u001b[0m     \u001b[0;32mdef\u001b[0m \u001b[0mcall_and_shelve\u001b[0m\u001b[0;34m(\u001b[0m\u001b[0mself\u001b[0m\u001b[0;34m,\u001b[0m \u001b[0;34m*\u001b[0m\u001b[0margs\u001b[0m\u001b[0;34m,\u001b[0m \u001b[0;34m**\u001b[0m\u001b[0mkwargs\u001b[0m\u001b[0;34m)\u001b[0m\u001b[0;34m:\u001b[0m\u001b[0;34m\u001b[0m\u001b[0;34m\u001b[0m\u001b[0m\n",
      "\u001b[0;32m~/.local/lib/python3.6/site-packages/sklearn/pipeline.py\u001b[0m in \u001b[0;36m_fit_transform_one\u001b[0;34m(transformer, X, y, weight, message_clsname, message, **fit_params)\u001b[0m\n\u001b[1;32m    752\u001b[0m     \u001b[0;32mwith\u001b[0m \u001b[0m_print_elapsed_time\u001b[0m\u001b[0;34m(\u001b[0m\u001b[0mmessage_clsname\u001b[0m\u001b[0;34m,\u001b[0m \u001b[0mmessage\u001b[0m\u001b[0;34m)\u001b[0m\u001b[0;34m:\u001b[0m\u001b[0;34m\u001b[0m\u001b[0;34m\u001b[0m\u001b[0m\n\u001b[1;32m    753\u001b[0m         \u001b[0;32mif\u001b[0m \u001b[0mhasattr\u001b[0m\u001b[0;34m(\u001b[0m\u001b[0mtransformer\u001b[0m\u001b[0;34m,\u001b[0m \u001b[0;34m'fit_transform'\u001b[0m\u001b[0;34m)\u001b[0m\u001b[0;34m:\u001b[0m\u001b[0;34m\u001b[0m\u001b[0;34m\u001b[0m\u001b[0m\n\u001b[0;32m--> 754\u001b[0;31m             \u001b[0mres\u001b[0m \u001b[0;34m=\u001b[0m \u001b[0mtransformer\u001b[0m\u001b[0;34m.\u001b[0m\u001b[0mfit_transform\u001b[0m\u001b[0;34m(\u001b[0m\u001b[0mX\u001b[0m\u001b[0;34m,\u001b[0m \u001b[0my\u001b[0m\u001b[0;34m,\u001b[0m \u001b[0;34m**\u001b[0m\u001b[0mfit_params\u001b[0m\u001b[0;34m)\u001b[0m\u001b[0;34m\u001b[0m\u001b[0;34m\u001b[0m\u001b[0m\n\u001b[0m\u001b[1;32m    755\u001b[0m         \u001b[0;32melse\u001b[0m\u001b[0;34m:\u001b[0m\u001b[0;34m\u001b[0m\u001b[0;34m\u001b[0m\u001b[0m\n\u001b[1;32m    756\u001b[0m             \u001b[0mres\u001b[0m \u001b[0;34m=\u001b[0m \u001b[0mtransformer\u001b[0m\u001b[0;34m.\u001b[0m\u001b[0mfit\u001b[0m\u001b[0;34m(\u001b[0m\u001b[0mX\u001b[0m\u001b[0;34m,\u001b[0m \u001b[0my\u001b[0m\u001b[0;34m,\u001b[0m \u001b[0;34m**\u001b[0m\u001b[0mfit_params\u001b[0m\u001b[0;34m)\u001b[0m\u001b[0;34m.\u001b[0m\u001b[0mtransform\u001b[0m\u001b[0;34m(\u001b[0m\u001b[0mX\u001b[0m\u001b[0;34m)\u001b[0m\u001b[0;34m\u001b[0m\u001b[0;34m\u001b[0m\u001b[0m\n",
      "\u001b[0;32m~/.local/lib/python3.6/site-packages/pyts/base.py\u001b[0m in \u001b[0;36mfit_transform\u001b[0;34m(self, X, y, **fit_params)\u001b[0m\n\u001b[1;32m     38\u001b[0m         \u001b[0;32melse\u001b[0m\u001b[0;34m:\u001b[0m\u001b[0;34m\u001b[0m\u001b[0;34m\u001b[0m\u001b[0m\n\u001b[1;32m     39\u001b[0m             \u001b[0;31m# fit method of arity 2 (supervised transformation)\u001b[0m\u001b[0;34m\u001b[0m\u001b[0;34m\u001b[0m\u001b[0;34m\u001b[0m\u001b[0m\n\u001b[0;32m---> 40\u001b[0;31m             \u001b[0;32mreturn\u001b[0m \u001b[0mself\u001b[0m\u001b[0;34m.\u001b[0m\u001b[0mfit\u001b[0m\u001b[0;34m(\u001b[0m\u001b[0mX\u001b[0m\u001b[0;34m,\u001b[0m \u001b[0my\u001b[0m\u001b[0;34m,\u001b[0m \u001b[0;34m**\u001b[0m\u001b[0mfit_params\u001b[0m\u001b[0;34m)\u001b[0m\u001b[0;34m.\u001b[0m\u001b[0mtransform\u001b[0m\u001b[0;34m(\u001b[0m\u001b[0mX\u001b[0m\u001b[0;34m)\u001b[0m\u001b[0;34m\u001b[0m\u001b[0;34m\u001b[0m\u001b[0m\n\u001b[0m\u001b[1;32m     41\u001b[0m \u001b[0;34m\u001b[0m\u001b[0m\n\u001b[1;32m     42\u001b[0m \u001b[0;34m\u001b[0m\u001b[0m\n",
      "\u001b[0;32m~/.local/lib/python3.6/site-packages/pyts/classification/time_series_forest.py\u001b[0m in \u001b[0;36mfit\u001b[0;34m(self, X, y)\u001b[0m\n\u001b[1;32m     99\u001b[0m \u001b[0;34m\u001b[0m\u001b[0m\n\u001b[1;32m    100\u001b[0m         \u001b[0;31m# Generate the start and end indices\u001b[0m\u001b[0;34m\u001b[0m\u001b[0;34m\u001b[0m\u001b[0;34m\u001b[0m\u001b[0m\n\u001b[0;32m--> 101\u001b[0;31m         \u001b[0mstart\u001b[0m \u001b[0;34m=\u001b[0m \u001b[0mrng\u001b[0m\u001b[0;34m.\u001b[0m\u001b[0mrandint\u001b[0m\u001b[0;34m(\u001b[0m\u001b[0;36m0\u001b[0m\u001b[0;34m,\u001b[0m \u001b[0mn_timestamps\u001b[0m \u001b[0;34m-\u001b[0m \u001b[0mmin_window_size\u001b[0m\u001b[0;34m,\u001b[0m \u001b[0msize\u001b[0m\u001b[0;34m=\u001b[0m\u001b[0mn_windows\u001b[0m\u001b[0;34m)\u001b[0m\u001b[0;34m\u001b[0m\u001b[0;34m\u001b[0m\u001b[0m\n\u001b[0m\u001b[1;32m    102\u001b[0m         end = rng.randint(start + min_window_size, n_timestamps + 1,\n\u001b[1;32m    103\u001b[0m                           size=n_windows)\n",
      "\u001b[0;32mmtrand.pyx\u001b[0m in \u001b[0;36mnumpy.random.mtrand.RandomState.randint\u001b[0;34m()\u001b[0m\n",
      "\u001b[0;32m_bounded_integers.pyx\u001b[0m in \u001b[0;36mnumpy.random._bounded_integers._rand_int64\u001b[0;34m()\u001b[0m\n",
      "\u001b[0;31mValueError\u001b[0m: low >= high"
     ]
    }
   ],
   "source": [
    "clf.fit(x, y)\n",
    "\n"
   ]
  },
  {
   "cell_type": "code",
   "execution_count": 19,
   "metadata": {},
   "outputs": [
    {
     "data": {
      "text/plain": [
       "0.9733333333333334"
      ]
     },
     "execution_count": 19,
     "metadata": {},
     "output_type": "execute_result"
    }
   ],
   "source": [
    "clf.score(X_test, y_test)"
   ]
  }
 ],
 "metadata": {
  "kernelspec": {
   "display_name": "Python 3.6.9 64-bit",
   "language": "python",
   "name": "python3"
  },
  "language_info": {
   "codemirror_mode": {
    "name": "ipython",
    "version": 3
   },
   "file_extension": ".py",
   "mimetype": "text/x-python",
   "name": "python",
   "nbconvert_exporter": "python",
   "pygments_lexer": "ipython3",
   "version": "3.6.9"
  },
  "orig_nbformat": 4,
  "vscode": {
   "interpreter": {
    "hash": "31f2aee4e71d21fbe5cf8b01ff0e069b9275f58929596ceb00d14d90e3e16cd6"
   }
  }
 },
 "nbformat": 4,
 "nbformat_minor": 2
}
