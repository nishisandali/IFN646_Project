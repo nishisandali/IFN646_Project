{
 "cells": [
  {
   "cell_type": "code",
   "execution_count": 2,
   "metadata": {},
   "outputs": [],
   "source": [
    "import sys\n",
    "import os\n",
    "import numpy as np # linear algebra\n",
    "import pandas as pd # data processing, CSV file I/O\n",
    "import statsmodels.api as sm\n",
    "from patsy import dmatrices\n",
    "from sklearn.model_selection import train_test_split\n",
    "\n",
    "# visualisation imports\n",
    "import matplotlib.pyplot as plt\n",
    "import seaborn as sns\n",
    "%matplotlib inline\n",
    "\n",
    "# seaborn styling default\n",
    "sns.set_theme(style='darkgrid')\n",
    "\n",
    "# hide warnings\n",
    "import warnings\n",
    "warnings.filterwarnings('ignore')"
   ]
  },
  {
   "cell_type": "code",
   "execution_count": 10,
   "metadata": {},
   "outputs": [],
   "source": [
    "df = pd.read_csv('derived_data/combined_dataset.csv', index_col = [0])"
   ]
  },
  {
   "cell_type": "markdown",
   "metadata": {},
   "source": [
    "## Visiualise the Data"
   ]
  },
  {
   "cell_type": "code",
   "execution_count": 27,
   "metadata": {},
   "outputs": [
    {
     "data": {
      "text/plain": [
       "<matplotlib.collections.PathCollection at 0x7f4302f7fda0>"
      ]
     },
     "execution_count": 27,
     "metadata": {},
     "output_type": "execute_result"
    },
    {
     "data": {
      "image/png": "[encoded data removed]",
      "text/plain": [
       "<Figure size 432x288 with 1 Axes>"
      ]
     },
     "metadata": {},
     "output_type": "display_data"
    }
   ],
   "source": [
    "plt.scatter(df['Actiwatch activity counts'], df['Apple Watch ENMO'])"
   ]
  },
  {
   "cell_type": "code",
   "execution_count": 56,
   "metadata": {},
   "outputs": [
    {
     "data": {
      "image/png": "[encoded data removed]",
      "text/plain": [
       "<Figure size 432x288 with 1 Axes>"
      ]
     },
     "metadata": {},
     "output_type": "display_data"
    }
   ],
   "source": [
    "\n",
    "n_bins = 20\n",
    "\n",
    "# Generate two normal distributions\n",
    "dist1 = df['Actiwatch activity counts']\n",
    "plt.ylim(0,5000)\n",
    "plt.hist(dist1, bins = n_bins)\n",
    "plt.show()"
   ]
  },
  {
   "cell_type": "code",
   "execution_count": 6,
   "metadata": {},
   "outputs": [
    {
     "data": {
      "image/png": "[encoded data removed]",
      "text/plain": [
       "<Figure size 432x288 with 1 Axes>"
      ]
     },
     "metadata": {},
     "output_type": "display_data"
    }
   ],
   "source": [
    "n_bins = 20\n",
    "\n",
    "# Generate two normal distributions\n",
    "dist1 = df['Apple Watch ENMO']\n",
    "plt.hist(dist1, bins = n_bins)\n",
    "plt.show()"
   ]
  },
  {
   "cell_type": "markdown",
   "metadata": {},
   "source": [
    "### Sample stratify Data for model building\n"
   ]
  },
  {
   "cell_type": "code",
   "execution_count": 56,
   "metadata": {},
   "outputs": [],
   "source": [
    "df_x = df[['Apple Watch ENMO', 'ELMO_before','ELMO_after']].copy()\n",
    "df_y  = df[['Actiwatch activity counts']].copy()\n",
    "nums_x = df_x.to_numpy()\n",
    "nums_y = df_y.to_numpy()"
   ]
  },
  {
   "cell_type": "code",
   "execution_count": 57,
   "metadata": {},
   "outputs": [],
   "source": [
    "X_train, X_test, y_train, y_test = train_test_split(nums_x, nums_y, test_size=0.33, random_state=42)\n",
    "X_train = X_train.astype('float64')\n",
    "y_train = y_train.astype('int')\n",
    "X_test = X_test.astype('float64')\n",
    "y_test = y_test.astype('int')"
   ]
  },
  {
   "cell_type": "markdown",
   "metadata": {},
   "source": [
    "### Define functions for testing"
   ]
  },
  {
   "cell_type": "markdown",
   "metadata": {},
   "source": [
    "Applies the  Philips’ Actiware software algorithm to a dataframe and returns a new dataframe with a column predicted_actiwatch whihc contains the totals counts for the given row"
   ]
  },
  {
   "cell_type": "code",
   "execution_count": 58,
   "metadata": {},
   "outputs": [],
   "source": [
    "def phillips_alogrithn(df):\n",
    "    for index, row in df.iterrows():\n",
    "        if index <= 8 or index >= len(df.index)-8:\n",
    "            continue\n",
    "\n",
    "        #part 1\n",
    "        p1 = 0\n",
    "        for i in range(-8,-4):\n",
    "            j = index + i\n",
    "            p1 = p1 + df.loc[j]['predicted_actiwatch']\n",
    "\n",
    "        #part 2\n",
    "        p2 = 0\n",
    "        for i in range(-4,0):\n",
    "            j = index + i\n",
    "            p2 = p2 + df.loc[j]['predicted_actiwatch']\n",
    "\n",
    "        #part 3\n",
    "        p3 = 0\n",
    "        for i in range(1,5):\n",
    "            j = index + i\n",
    "            p3 = p3 + df.loc[j]['predicted_actiwatch']\n",
    "\n",
    "        #part 4\n",
    "        p4 = 0\n",
    "        for i in range(5,9):\n",
    "            j = index + i\n",
    "            p4 = p4 + df.loc[j]['predicted_actiwatch']\n",
    "\n",
    "        #Calculate total counts\n",
    "        df.at[index, 'total_counts'] = 0.04*p1 + 0.2*p2 + 4*df.loc[index]['predicted_actiwatch'] + 0.2*p3 + 0.04*p4\n",
    "\n",
    "    return df\n",
    "\n"
   ]
  },
  {
   "cell_type": "markdown",
   "metadata": {},
   "source": [
    "Simple function given a threshold and total count returns 1 for awake and zero for sleep"
   ]
  },
  {
   "cell_type": "code",
   "execution_count": 59,
   "metadata": {},
   "outputs": [],
   "source": [
    "def predict_sleep_awake(row, threshold):\n",
    "    if row['total_counts'] <= threshold:\n",
    "        return 0\n",
    "    else:\n",
    "        return 1\n",
    "\n",
    "\n",
    "    "
   ]
  },
  {
   "cell_type": "markdown",
   "metadata": {},
   "source": [
    "Given a patient file, sklearn model and threshold returns a dataframe with sleep/wake prediction for patient"
   ]
  },
  {
   "cell_type": "code",
   "execution_count": 60,
   "metadata": {},
   "outputs": [],
   "source": [
    "def test_model_on_patient(patientFile, model, threshold):\n",
    "    #import patient file\n",
    "    import_df = pd.read_csv('derived_data/'+ patientFile +'.csv')\n",
    "\n",
    "    #Grab fields required for prediction\n",
    "    test_df = import_df[['Apple Watch ENMO','ELMO_before','ELMO_after']].copy()\n",
    "    test_nums = test_df.to_numpy()\n",
    "\n",
    "    #predict actiwatch counts\n",
    "    predict = model.predict(test_nums).astype('int')\n",
    "    import_df['predicted_actiwatch']= predict\n",
    "\n",
    "    #determine total counts\n",
    "    predicted_df = phillips_alogrithn(import_df)\n",
    "\n",
    "    #determine sleep or awake\n",
    "    predicted_df['predicted_sleep'] = predicted_df.apply (lambda row: predict_sleep_awake(row, threshold), axis=1)\n",
    "\n",
    "    return import_df\n",
    "\n",
    "   \n"
   ]
  },
  {
   "cell_type": "markdown",
   "metadata": {},
   "source": [
    "Uses confunsion matrix tp determine accuracy"
   ]
  },
  {
   "cell_type": "code",
   "execution_count": 61,
   "metadata": {},
   "outputs": [],
   "source": [
    "def check_accuracy(df):\n",
    "    #sleep is zero, awake is one\n",
    "    df_accuracy = df.dropna(subset=['Actiware classification']).copy()\n",
    "\n",
    "    TP=0\n",
    "    TN=0\n",
    "    FP=0\n",
    "    FN=0\n",
    "\n",
    "    for index, row in df_accuracy.iterrows():\n",
    "        if row['Actiware classification'] == 1 and row['predicted_sleep'] == 1:\n",
    "            TN+=1\n",
    "        if row['Actiware classification'] == 1 and row['predicted_sleep'] == 0:\n",
    "            FP+=1\n",
    "        if row['Actiware classification'] == 0 and row['predicted_sleep'] == 0:\n",
    "            TP+=1\n",
    "        if row['Actiware classification'] == 0 and row['predicted_sleep'] == 1:\n",
    "            FN+=1\n",
    "    \n",
    "    accuracy = ((TP+TN)/(TP+TN+FP+FN))*100\n",
    "    return accuracy"
   ]
  },
  {
   "cell_type": "markdown",
   "metadata": {},
   "source": [
    "### Test Linear Regression"
   ]
  },
  {
   "cell_type": "code",
   "execution_count": 20,
   "metadata": {},
   "outputs": [],
   "source": [
    "from sklearn.linear_model import LinearRegression"
   ]
  },
  {
   "cell_type": "code",
   "execution_count": 21,
   "metadata": {},
   "outputs": [],
   "source": [
    "model = LinearRegression().fit(X_train, y_train)"
   ]
  },
  {
   "cell_type": "code",
   "execution_count": 22,
   "metadata": {},
   "outputs": [
    {
     "name": "stdout",
     "output_type": "stream",
     "text": [
      "coefficient of determination: 0.23169330236353414\n"
     ]
    }
   ],
   "source": [
    "r_sq = model.score(X_test, y_test)\n",
    "print(f\"coefficient of determination: {r_sq}\")\n"
   ]
  },
  {
   "cell_type": "code",
   "execution_count": 62,
   "metadata": {},
   "outputs": [
    {
     "data": {
      "text/plain": [
       "98.64537977745525"
      ]
     },
     "execution_count": 62,
     "metadata": {},
     "output_type": "execute_result"
    }
   ],
   "source": [
    "test_df = test_model_on_patient('P03_N1_filtered', model,40)\n",
    "check_accuracy(test_df)"
   ]
  },
  {
   "cell_type": "markdown",
   "metadata": {},
   "source": [
    "### Test on Random Forest"
   ]
  },
  {
   "cell_type": "code",
   "execution_count": 63,
   "metadata": {},
   "outputs": [],
   "source": [
    "from sklearn.ensemble import RandomForestRegressor"
   ]
  },
  {
   "cell_type": "code",
   "execution_count": 64,
   "metadata": {},
   "outputs": [],
   "source": [
    "regressor = RandomForestRegressor(n_estimators = 100, random_state = 0)"
   ]
  },
  {
   "cell_type": "code",
   "execution_count": 65,
   "metadata": {},
   "outputs": [
    {
     "data": {
      "text/plain": [
       "RandomForestRegressor(random_state=0)"
      ]
     },
     "execution_count": 65,
     "metadata": {},
     "output_type": "execute_result"
    }
   ],
   "source": [
    "regressor.fit(X_train, y_train) "
   ]
  },
  {
   "cell_type": "code",
   "execution_count": 66,
   "metadata": {},
   "outputs": [
    {
     "name": "stdout",
     "output_type": "stream",
     "text": [
      "coefficient of determination: 0.8540679001140825\n"
     ]
    }
   ],
   "source": [
    "r_sq_2 = regressor.score(X_test, y_test)\n",
    "print(f\"coefficient of determination: {r_sq_2}\")"
   ]
  },
  {
   "cell_type": "code",
   "execution_count": 67,
   "metadata": {},
   "outputs": [
    {
     "data": {
      "text/plain": [
       "[<matplotlib.lines.Line2D at 0x7fe6b3499cf8>,\n",
       " <matplotlib.lines.Line2D at 0x7fe6b34a77f0>]"
      ]
     },
     "execution_count": 67,
     "metadata": {},
     "output_type": "execute_result"
    },
    {
     "data": {
      "image/png": "[encoded data removed]",
      "text/plain": [
       "<Figure size 432x288 with 1 Axes>"
      ]
     },
     "metadata": {},
     "output_type": "display_data"
    }
   ],
   "source": [
    "plt.plot(X_test[:, 0],y_test, 'yo', X_test[:, 0],regressor.predict(X_test), 'bo')"
   ]
  },
  {
   "cell_type": "markdown",
   "metadata": {},
   "source": [
    "Test on patient"
   ]
  },
  {
   "cell_type": "code",
   "execution_count": 68,
   "metadata": {},
   "outputs": [
    {
     "data": {
      "text/plain": [
       "98.98403483309144"
      ]
     },
     "execution_count": 68,
     "metadata": {},
     "output_type": "execute_result"
    }
   ],
   "source": [
    "test_df = test_model_on_patient('P03_N1_filtered', regressor,40)\n",
    "check_accuracy(test_df)"
   ]
  },
  {
   "cell_type": "markdown",
   "metadata": {},
   "source": [
    "### Test on Naive Bayes"
   ]
  },
  {
   "cell_type": "code",
   "execution_count": 69,
   "metadata": {},
   "outputs": [],
   "source": [
    "from sklearn.naive_bayes import GaussianNB"
   ]
  },
  {
   "cell_type": "code",
   "execution_count": 70,
   "metadata": {},
   "outputs": [],
   "source": [
    "gnb = GaussianNB()"
   ]
  },
  {
   "cell_type": "code",
   "execution_count": 72,
   "metadata": {},
   "outputs": [
    {
     "data": {
      "text/plain": [
       "GaussianNB()"
      ]
     },
     "execution_count": 72,
     "metadata": {},
     "output_type": "execute_result"
    }
   ],
   "source": [
    "gnb.fit(X_train, y_train)\n"
   ]
  },
  {
   "cell_type": "code",
   "execution_count": 73,
   "metadata": {},
   "outputs": [
    {
     "name": "stdout",
     "output_type": "stream",
     "text": [
      "coefficient of determination: 0.9154417453195111\n"
     ]
    }
   ],
   "source": [
    "r_sq_3 = gnb.score(X_test, y_test)\n",
    "print(f\"coefficient of determination: {r_sq_3}\")"
   ]
  },
  {
   "cell_type": "markdown",
   "metadata": {},
   "source": [
    "Test on patient"
   ]
  },
  {
   "cell_type": "code",
   "execution_count": 74,
   "metadata": {},
   "outputs": [
    {
     "data": {
      "text/plain": [
       "98.69375907111755"
      ]
     },
     "execution_count": 74,
     "metadata": {},
     "output_type": "execute_result"
    }
   ],
   "source": [
    "test_df = test_model_on_patient('P03_N1_filtered', gnb,40)\n",
    "check_accuracy(test_df)"
   ]
  },
  {
   "cell_type": "markdown",
   "metadata": {},
   "source": [
    "### Test on SVM"
   ]
  },
  {
   "cell_type": "code",
   "execution_count": 75,
   "metadata": {},
   "outputs": [],
   "source": [
    "from sklearn import svm"
   ]
  },
  {
   "cell_type": "code",
   "execution_count": 76,
   "metadata": {},
   "outputs": [
    {
     "data": {
      "text/plain": [
       "SVR()"
      ]
     },
     "execution_count": 76,
     "metadata": {},
     "output_type": "execute_result"
    }
   ],
   "source": [
    "regr = svm.SVR()\n",
    "regr.fit(X_train, y_train)"
   ]
  },
  {
   "cell_type": "code",
   "execution_count": 77,
   "metadata": {},
   "outputs": [
    {
     "name": "stdout",
     "output_type": "stream",
     "text": [
      "coefficient of determination: 0.4841984690962887\n"
     ]
    }
   ],
   "source": [
    "r_sq_4 = regr.score(X_test, y_test)\n",
    "print(f\"coefficient of determination: {r_sq_4}\")"
   ]
  },
  {
   "cell_type": "markdown",
   "metadata": {},
   "source": [
    "Test on patient"
   ]
  },
  {
   "cell_type": "code",
   "execution_count": 78,
   "metadata": {},
   "outputs": [
    {
     "data": {
      "text/plain": [
       "98.35510401548137"
      ]
     },
     "execution_count": 78,
     "metadata": {},
     "output_type": "execute_result"
    }
   ],
   "source": [
    "test_df = test_model_on_patient('P03_N1_filtered', regr,40)\n",
    "check_accuracy(test_df)"
   ]
  }
 ],
 "metadata": {
  "kernelspec": {
   "display_name": "Python 3.6.9 64-bit",
   "language": "python",
   "name": "python3"
  },
  "language_info": {
   "codemirror_mode": {
    "name": "ipython",
    "version": 3
   },
   "file_extension": ".py",
   "mimetype": "text/x-python",
   "name": "python",
   "nbconvert_exporter": "python",
   "pygments_lexer": "ipython3",
   "version": "3.6.9"
  },
  "orig_nbformat": 4,
  "vscode": {
   "interpreter": {
    "hash": "31f2aee4e71d21fbe5cf8b01ff0e069b9275f58929596ceb00d14d90e3e16cd6"
   }
  }
 },
 "nbformat": 4,
 "nbformat_minor": 2
}
