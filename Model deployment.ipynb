{
 "cells": [
  {
   "cell_type": "code",
   "execution_count": 1,
   "metadata": {},
   "outputs": [],
   "source": [
    "import sys\n",
    "import os\n",
    "import numpy as np # linear algebra\n",
    "import pandas as pd # data processing, CSV file I/O\n",
    "import statsmodels.api as sm\n",
    "from patsy import dmatrices\n",
    "from sklearn.model_selection import train_test_split\n",
    "\n",
    "# visualisation imports\n",
    "import matplotlib.pyplot as plt\n",
    "import seaborn as sns\n",
    "%matplotlib inline\n",
    "\n",
    "# seaborn styling default\n",
    "sns.set_theme(style='darkgrid')\n",
    "\n",
    "# hide warnings\n",
    "import warnings\n",
    "warnings.filterwarnings('ignore')"
   ]
  },
  {
   "cell_type": "code",
   "execution_count": 2,
   "metadata": {},
   "outputs": [],
   "source": [
    "df = pd.read_csv('derived_data/combined_dataset.csv', index_col = [0])"
   ]
  },
  {
   "cell_type": "markdown",
   "metadata": {},
   "source": [
    "## Visiualise the Data"
   ]
  },
  {
   "cell_type": "code",
   "execution_count": 3,
   "metadata": {},
   "outputs": [
    {
     "data": {
      "text/plain": [
       "<matplotlib.collections.PathCollection at 0x7f7ee351a128>"
      ]
     },
     "execution_count": 3,
     "metadata": {},
     "output_type": "execute_result"
    },
    {
     "data": {
      "image/png": "[encoded data removed]",
      "text/plain": [
       "<Figure size 432x288 with 1 Axes>"
      ]
     },
     "metadata": {},
     "output_type": "display_data"
    }
   ],
   "source": [
    "plt.scatter(df['Actiwatch activity counts'], df['Apple Watch ENMO'])"
   ]
  },
  {
   "cell_type": "code",
   "execution_count": 4,
   "metadata": {},
   "outputs": [
    {
     "data": {
      "image/png": "[encoded data removed]",
      "text/plain": [
       "<Figure size 432x288 with 1 Axes>"
      ]
     },
     "metadata": {},
     "output_type": "display_data"
    }
   ],
   "source": [
    "\n",
    "n_bins = 20\n",
    "\n",
    "# Generate two normal distributions\n",
    "dist1 = df['Actiwatch activity counts']\n",
    "plt.ylim(0,5000)\n",
    "plt.hist(dist1, bins = n_bins)\n",
    "plt.show()"
   ]
  },
  {
   "cell_type": "code",
   "execution_count": 5,
   "metadata": {},
   "outputs": [
    {
     "data": {
      "image/png": "[encoded data removed]",
      "text/plain": [
       "<Figure size 432x288 with 1 Axes>"
      ]
     },
     "metadata": {},
     "output_type": "display_data"
    }
   ],
   "source": [
    "n_bins = 20\n",
    "\n",
    "# Generate two normal distributions\n",
    "dist1 = df['Apple Watch ENMO']\n",
    "plt.hist(dist1, bins = n_bins)\n",
    "plt.show()"
   ]
  },
  {
   "cell_type": "markdown",
   "metadata": {},
   "source": [
    "### Sample stratify Data for model building\n"
   ]
  },
  {
   "cell_type": "code",
   "execution_count": 6,
   "metadata": {},
   "outputs": [],
   "source": [
    "df_x = df[['Apple Watch ENMO', 'ELMO_before','ELMO_after']].copy()\n",
    "df_y  = df[['Actiwatch activity counts']].copy()\n",
    "nums_x = df_x.to_numpy()\n",
    "nums_y = df_y.to_numpy()"
   ]
  },
  {
   "cell_type": "code",
   "execution_count": 7,
   "metadata": {},
   "outputs": [],
   "source": [
    "X_train, X_test, y_train, y_test = train_test_split(nums_x, nums_y, test_size=0.33, random_state=42)\n",
    "X_train = X_train.astype('float64')\n",
    "y_train = y_train.astype('int')\n",
    "X_test = X_test.astype('float64')\n",
    "y_test = y_test.astype('int')"
   ]
  },
  {
   "cell_type": "markdown",
   "metadata": {},
   "source": [
    "### Define functions for testing"
   ]
  },
  {
   "cell_type": "markdown",
   "metadata": {},
   "source": [
    "Applies the  Philips’ Actiware software algorithm to a dataframe and returns a new dataframe with a column predicted_actiwatch whihc contains the totals counts for the given row"
   ]
  },
  {
   "cell_type": "code",
   "execution_count": 8,
   "metadata": {},
   "outputs": [],
   "source": [
    "def phillips_alogrithn(df):\n",
    "    for index, row in df.iterrows():\n",
    "        if index <= 8 or index >= len(df.index)-8:\n",
    "            continue\n",
    "\n",
    "        #part 1\n",
    "        p1 = 0\n",
    "        for i in range(-8,-4):\n",
    "            j = index + i\n",
    "            p1 = p1 + df.loc[j]['predicted_actiwatch']\n",
    "\n",
    "        #part 2\n",
    "        p2 = 0\n",
    "        for i in range(-4,0):\n",
    "            j = index + i\n",
    "            p2 = p2 + df.loc[j]['predicted_actiwatch']\n",
    "\n",
    "        #part 3\n",
    "        p3 = 0\n",
    "        for i in range(1,5):\n",
    "            j = index + i\n",
    "            p3 = p3 + df.loc[j]['predicted_actiwatch']\n",
    "\n",
    "        #part 4\n",
    "        p4 = 0\n",
    "        for i in range(5,9):\n",
    "            j = index + i\n",
    "            p4 = p4 + df.loc[j]['predicted_actiwatch']\n",
    "\n",
    "        #Calculate total counts\n",
    "        df.at[index, 'total_counts'] = 0.04*p1 + 0.2*p2 + 4*df.loc[index]['predicted_actiwatch'] + 0.2*p3 + 0.04*p4\n",
    "\n",
    "    return df\n",
    "\n"
   ]
  },
  {
   "cell_type": "markdown",
   "metadata": {},
   "source": [
    "Simple function given a threshold and total count returns 1 for awake and zero for sleep"
   ]
  },
  {
   "cell_type": "code",
   "execution_count": 9,
   "metadata": {},
   "outputs": [],
   "source": [
    "def predict_sleep_awake(row, threshold):\n",
    "    if row['total_counts'] <= threshold:\n",
    "        return 0\n",
    "    else:\n",
    "        return 1\n",
    "\n",
    "\n",
    "    "
   ]
  },
  {
   "cell_type": "markdown",
   "metadata": {},
   "source": [
    "Given a patient file, sklearn model and threshold returns a dataframe with sleep/wake prediction for patient"
   ]
  },
  {
   "cell_type": "code",
   "execution_count": 10,
   "metadata": {},
   "outputs": [],
   "source": [
    "def test_model_on_patient(patientFile, model, threshold):\n",
    "    #import patient file\n",
    "    import_df = pd.read_csv('derived_data/'+ patientFile +'.csv')\n",
    "\n",
    "    #Grab fields required for prediction\n",
    "    test_df = import_df[['Apple Watch ENMO','ELMO_before','ELMO_after']].copy()\n",
    "    test_nums = test_df.to_numpy()\n",
    "\n",
    "    #predict actiwatch counts\n",
    "    predict = model.predict(test_nums).astype('int')\n",
    "    import_df['predicted_actiwatch']= predict\n",
    "\n",
    "    #determine total counts\n",
    "    predicted_df = phillips_alogrithn(import_df)\n",
    "\n",
    "    #determine sleep or awake\n",
    "    predicted_df['predicted_sleep'] = predicted_df.apply (lambda row: predict_sleep_awake(row, threshold), axis=1)\n",
    "\n",
    "    return import_df\n",
    "\n",
    "   \n"
   ]
  },
  {
   "cell_type": "markdown",
   "metadata": {},
   "source": [
    "Uses confunsion matrix tp determine accuracy"
   ]
  },
  {
   "cell_type": "code",
   "execution_count": 39,
   "metadata": {},
   "outputs": [],
   "source": [
    "def check_accuracy(df):\n",
    "    #sleep is zero, awake is one\n",
    "    df_accuracy = df.dropna(subset=['Actiware classification']).copy()\n",
    "\n",
    "    TP=0\n",
    "    TN=0\n",
    "    FP=0\n",
    "    FN=0\n",
    "\n",
    "    for index, row in df_accuracy.iterrows():\n",
    "        if row['Actiware classification'] == 1 and row['predicted_sleep'] == 1:\n",
    "            TN+=1\n",
    "        if row['Actiware classification'] == 1 and row['predicted_sleep'] == 0:\n",
    "            FP+=1\n",
    "        if row['Actiware classification'] == 0 and row['predicted_sleep'] == 0:\n",
    "            TP+=1\n",
    "        if row['Actiware classification'] == 0 and row['predicted_sleep'] == 1:\n",
    "            FN+=1\n",
    "    \n",
    "    accuracy = ((TP+TN)/(TP+TN+FP+FN))*100\n",
    "    sensitivity = (TP/(TP+FN))*100 #Recall\n",
    "    precision  = (TP/(TP+FP))*100 \n",
    "    fnr = (FN/(TP+FN))*100 #False Negative Rate\n",
    "    specificity  = (TN/(TN+FP))*100 \n",
    "    fpr = 100 - specificity #False Positive Rate\n",
    "    return accuracy, sensitivity, fnr, specificity, fpr, precision"
   ]
  },
  {
   "cell_type": "markdown",
   "metadata": {},
   "source": [
    "Check accuracy on multiple datasets"
   ]
  },
  {
   "cell_type": "code",
   "execution_count": 40,
   "metadata": {},
   "outputs": [],
   "source": [
    "from numpy import average\n",
    "\n",
    "\n",
    "def check_overall_accuracy(model, threshold):\n",
    "    accuracies = []\n",
    "    sensitivitys = []\n",
    "    fnrs = []\n",
    "    specificitys = []\n",
    "    fprs = []\n",
    "    precisions = []\n",
    "    fileNames = ['P02_N1', 'P02_N2', 'P03_N1', 'P03_N2','P04_N1','P04_N2','P05_N1', 'P05_N2','P06_N1','P06_N2','P07_N1','P07_N2','P11_N1','P11_N2','P12_N1','P12_N2','P14_N1',\n",
    "    'P14_N2','P15_N2','P16_N1','P16_N2','P17_N1']\n",
    "    for fileName in fileNames:\n",
    "        file = fileName + '_filtered'\n",
    "        df1 = test_model_on_patient(file, model, threshold)\n",
    "        accuracy, sensitivity, fnr, specificity, fpr, precision = check_accuracy(df1)\n",
    "        accuracies.append(accuracy)\n",
    "        sensitivitys.append(sensitivity)\n",
    "        fnrs.append(fnr)\n",
    "        specificitys.append(specificity)\n",
    "        fprs.append(fpr)\n",
    "        precisions.append(precision)\n",
    "    \n",
    "    recall = average(sensitivitys)\n",
    "    Precision = average(precisions)\n",
    "    f1 = (2*Precision*recall)/(recall+Precision)\n",
    "\n",
    "    output = \"Accuracy: \" + str(average(accuracies)) +\"\\nSensitivity: \"+ str(recall)+\"\\nFalse Negative Rate: \"+ str(average(fnrs))+\"\\nSpecificity: \"+ str(average(specificitys))+\"\\nFalse Positive Rate: \"+ str(average(fprs)) + \" \\n F measure: \"+ str(f1)\n",
    "    return output\n",
    "\n",
    "\n"
   ]
  },
  {
   "cell_type": "markdown",
   "metadata": {},
   "source": [
    "### Test Linear Regression"
   ]
  },
  {
   "cell_type": "code",
   "execution_count": 13,
   "metadata": {},
   "outputs": [],
   "source": [
    "from sklearn.linear_model import LinearRegression"
   ]
  },
  {
   "cell_type": "code",
   "execution_count": 14,
   "metadata": {},
   "outputs": [],
   "source": [
    "model = LinearRegression().fit(X_train, y_train)"
   ]
  },
  {
   "cell_type": "code",
   "execution_count": 15,
   "metadata": {},
   "outputs": [
    {
     "name": "stdout",
     "output_type": "stream",
     "text": [
      "coefficient of determination: 0.8032916992589149\n"
     ]
    }
   ],
   "source": [
    "r_sq = model.score(X_test, y_test)\n",
    "print(f\"coefficient of determination: {r_sq}\")\n"
   ]
  },
  {
   "cell_type": "code",
   "execution_count": 16,
   "metadata": {},
   "outputs": [
    {
     "data": {
      "text/plain": [
       "(99.08079342041606,\n",
       " 99.84431759211209,\n",
       " 0.15568240788790866,\n",
       " 88.57142857142857,\n",
       " 11.42857142857143)"
      ]
     },
     "execution_count": 16,
     "metadata": {},
     "output_type": "execute_result"
    }
   ],
   "source": [
    "test_df = test_model_on_patient('P03_N1_filtered', model,40)\n",
    "check_accuracy(test_df)"
   ]
  },
  {
   "cell_type": "code",
   "execution_count": 17,
   "metadata": {},
   "outputs": [
    {
     "data": {
      "text/plain": [
       "'Accuracy: 97.04945921548206\\nSensitivity: 98.20721515061132\\nFalse Negative Rate: 1.7927848493886671\\nSpecificity: 82.60247103471168\\nFalse Positive Rate: 17.3975289652883'"
      ]
     },
     "execution_count": 17,
     "metadata": {},
     "output_type": "execute_result"
    }
   ],
   "source": [
    "check_overall_accuracy(model, 40)"
   ]
  },
  {
   "cell_type": "markdown",
   "metadata": {},
   "source": [
    "### Test on Random Forest"
   ]
  },
  {
   "cell_type": "code",
   "execution_count": 18,
   "metadata": {},
   "outputs": [],
   "source": [
    "from sklearn.ensemble import RandomForestRegressor"
   ]
  },
  {
   "cell_type": "code",
   "execution_count": 19,
   "metadata": {},
   "outputs": [],
   "source": [
    "regressor = RandomForestRegressor(n_estimators = 100, random_state = 0)"
   ]
  },
  {
   "cell_type": "code",
   "execution_count": 20,
   "metadata": {},
   "outputs": [
    {
     "data": {
      "text/plain": [
       "RandomForestRegressor(random_state=0)"
      ]
     },
     "execution_count": 20,
     "metadata": {},
     "output_type": "execute_result"
    }
   ],
   "source": [
    "regressor.fit(X_train, y_train) "
   ]
  },
  {
   "cell_type": "code",
   "execution_count": 21,
   "metadata": {},
   "outputs": [
    {
     "name": "stdout",
     "output_type": "stream",
     "text": [
      "coefficient of determination: 0.8858684317421877\n"
     ]
    }
   ],
   "source": [
    "r_sq_2 = regressor.score(X_test, y_test)\n",
    "print(f\"coefficient of determination: {r_sq_2}\")"
   ]
  },
  {
   "cell_type": "code",
   "execution_count": 22,
   "metadata": {},
   "outputs": [
    {
     "data": {
      "text/plain": [
       "[<matplotlib.lines.Line2D at 0x7f7ed5ae0048>,\n",
       " <matplotlib.lines.Line2D at 0x7f7ed5ae00b8>]"
      ]
     },
     "execution_count": 22,
     "metadata": {},
     "output_type": "execute_result"
    },
    {
     "data": {
      "image/png": "[encoded data removed]",
      "text/plain": [
       "<Figure size 432x288 with 1 Axes>"
      ]
     },
     "metadata": {},
     "output_type": "display_data"
    }
   ],
   "source": [
    "plt.plot(X_test[:, 0],y_test, 'yo', X_test[:, 0],regressor.predict(X_test), 'bo')"
   ]
  },
  {
   "cell_type": "markdown",
   "metadata": {},
   "source": [
    "Test on patient"
   ]
  },
  {
   "cell_type": "code",
   "execution_count": 23,
   "metadata": {},
   "outputs": [
    {
     "data": {
      "text/plain": [
       "(98.98403483309144,\n",
       " 99.53295277633627,\n",
       " 0.46704722366372603,\n",
       " 91.42857142857143,\n",
       " 8.57142857142857)"
      ]
     },
     "execution_count": 23,
     "metadata": {},
     "output_type": "execute_result"
    }
   ],
   "source": [
    "test_df = test_model_on_patient('P03_N1_filtered', regressor,40)\n",
    "check_accuracy(test_df)"
   ]
  },
  {
   "cell_type": "code",
   "execution_count": 41,
   "metadata": {},
   "outputs": [
    {
     "data": {
      "text/plain": [
       "'Accuracy: 98.69458130483113\\nSensitivity: 99.35213181018652\\nFalse Negative Rate: 0.6478681898134796\\nSpecificity: 90.80181375195706\\nFalse Positive Rate: 9.198186248042935 \\n F measure: 99.28569797536377'"
      ]
     },
     "execution_count": 41,
     "metadata": {},
     "output_type": "execute_result"
    }
   ],
   "source": [
    "check_overall_accuracy(regressor, 40)"
   ]
  },
  {
   "cell_type": "markdown",
   "metadata": {},
   "source": [
    "Create AUC Curve\n",
    "\n",
    "for regression look into \n",
    "Mean Squared Error (MSE).\n",
    "Root Mean Squared Error (RMSE).\n",
    "Mean Absolute Error (MAE)"
   ]
  },
  {
   "cell_type": "code",
   "execution_count": 25,
   "metadata": {},
   "outputs": [],
   "source": [
    "from sklearn import metrics"
   ]
  },
  {
   "cell_type": "code",
   "execution_count": 26,
   "metadata": {},
   "outputs": [],
   "source": [
    "y_predicted_test = regressor.predict(X_test)"
   ]
  },
  {
   "cell_type": "code",
   "execution_count": 27,
   "metadata": {},
   "outputs": [],
   "source": [
    "auc_df_RF= test_df.dropna(subset=['Actiware classification']).copy()\n",
    "true_result = auc_df_RF['Actiware classification'].to_numpy()\n",
    "true_result = true_result.astype(int)\n",
    "predicted_result = auc_df_RF['predicted_sleep'].to_numpy()"
   ]
  },
  {
   "cell_type": "code",
   "execution_count": 28,
   "metadata": {},
   "outputs": [],
   "source": [
    "fpr, tpr, _ = metrics.roc_curve(true_result,  predicted_result)"
   ]
  },
  {
   "cell_type": "code",
   "execution_count": 29,
   "metadata": {},
   "outputs": [
    {
     "data": {
      "image/png": "[encoded data removed]",
      "text/plain": [
       "<Figure size 432x288 with 1 Axes>"
      ]
     },
     "metadata": {},
     "output_type": "display_data"
    }
   ],
   "source": [
    "#create ROC curve\n",
    "plt.plot(fpr,tpr)\n",
    "plt.ylabel('True Positive Rate')\n",
    "plt.xlabel('False Positive Rate')\n",
    "plt.show()"
   ]
  },
  {
   "cell_type": "markdown",
   "metadata": {},
   "source": [
    "### Test on Naive Bayes"
   ]
  },
  {
   "cell_type": "code",
   "execution_count": 30,
   "metadata": {},
   "outputs": [],
   "source": [
    "from sklearn.naive_bayes import GaussianNB"
   ]
  },
  {
   "cell_type": "code",
   "execution_count": 31,
   "metadata": {},
   "outputs": [],
   "source": [
    "gnb = GaussianNB()"
   ]
  },
  {
   "cell_type": "code",
   "execution_count": 32,
   "metadata": {},
   "outputs": [
    {
     "data": {
      "text/plain": [
       "GaussianNB()"
      ]
     },
     "execution_count": 32,
     "metadata": {},
     "output_type": "execute_result"
    }
   ],
   "source": [
    "gnb.fit(X_train, y_train)\n"
   ]
  },
  {
   "cell_type": "code",
   "execution_count": 33,
   "metadata": {},
   "outputs": [
    {
     "name": "stdout",
     "output_type": "stream",
     "text": [
      "coefficient of determination: 0.916885930970438\n"
     ]
    }
   ],
   "source": [
    "r_sq_3 = gnb.score(X_test, y_test)\n",
    "print(f\"coefficient of determination: {r_sq_3}\")"
   ]
  },
  {
   "cell_type": "markdown",
   "metadata": {},
   "source": [
    "Test on patient"
   ]
  },
  {
   "cell_type": "code",
   "execution_count": 34,
   "metadata": {},
   "outputs": [
    {
     "data": {
      "text/plain": [
       "(98.59700048379294,\n",
       " 99.63674104826154,\n",
       " 0.3632589517384536,\n",
       " 84.28571428571429,\n",
       " 15.714285714285708)"
      ]
     },
     "execution_count": 34,
     "metadata": {},
     "output_type": "execute_result"
    }
   ],
   "source": [
    "test_df = test_model_on_patient('P03_N1_filtered', gnb,40)\n",
    "check_accuracy(test_df)"
   ]
  },
  {
   "cell_type": "markdown",
   "metadata": {},
   "source": [
    "### Test on SVM"
   ]
  },
  {
   "cell_type": "code",
   "execution_count": 35,
   "metadata": {},
   "outputs": [],
   "source": [
    "from sklearn import svm"
   ]
  },
  {
   "cell_type": "code",
   "execution_count": 36,
   "metadata": {},
   "outputs": [
    {
     "data": {
      "text/plain": [
       "SVR()"
      ]
     },
     "execution_count": 36,
     "metadata": {},
     "output_type": "execute_result"
    }
   ],
   "source": [
    "regr = svm.SVR()\n",
    "regr.fit(X_train, y_train)"
   ]
  },
  {
   "cell_type": "code",
   "execution_count": 37,
   "metadata": {},
   "outputs": [
    {
     "name": "stdout",
     "output_type": "stream",
     "text": [
      "coefficient of determination: 0.5723910559626157\n"
     ]
    }
   ],
   "source": [
    "r_sq_4 = regr.score(X_test, y_test)\n",
    "print(f\"coefficient of determination: {r_sq_4}\")"
   ]
  },
  {
   "cell_type": "markdown",
   "metadata": {},
   "source": [
    "Test on patient"
   ]
  },
  {
   "cell_type": "code",
   "execution_count": 38,
   "metadata": {},
   "outputs": [
    {
     "data": {
      "text/plain": [
       "(98.30672472181907,\n",
       " 99.89621172807472,\n",
       " 0.10378827192527244,\n",
       " 76.42857142857142,\n",
       " 23.571428571428584)"
      ]
     },
     "execution_count": 38,
     "metadata": {},
     "output_type": "execute_result"
    }
   ],
   "source": [
    "test_df = test_model_on_patient('P03_N1_filtered', regr,40)\n",
    "check_accuracy(test_df)"
   ]
  }
 ],
 "metadata": {
  "kernelspec": {
   "display_name": "Python 3.6.9 64-bit",
   "language": "python",
   "name": "python3"
  },
  "language_info": {
   "codemirror_mode": {
    "name": "ipython",
    "version": 3
   },
   "file_extension": ".py",
   "mimetype": "text/x-python",
   "name": "python",
   "nbconvert_exporter": "python",
   "pygments_lexer": "ipython3",
   "version": "3.8.2"
  },
  "orig_nbformat": 4,
  "vscode": {
   "interpreter": {
    "hash": "31f2aee4e71d21fbe5cf8b01ff0e069b9275f58929596ceb00d14d90e3e16cd6"
   }
  }
 },
 "nbformat": 4,
 "nbformat_minor": 2
}
